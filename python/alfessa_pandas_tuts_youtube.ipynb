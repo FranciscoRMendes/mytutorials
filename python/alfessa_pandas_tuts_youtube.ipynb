{
 "cells": [
  {
   "cell_type": "code",
   "execution_count": 1,
   "metadata": {
    "collapsed": true
   },
   "outputs": [],
   "source": [
    "import pandas as pd\n",
    "import numpy as np"
   ]
  },
  {
   "cell_type": "code",
   "execution_count": 2,
   "metadata": {
    "collapsed": false
   },
   "outputs": [
    {
     "name": "stdout",
     "output_type": "stream",
     "text": [
      "0    33\n",
      "1    19\n",
      "2    15\n",
      "3    89\n",
      "4    11\n",
      "5    -5\n",
      "6     9\n",
      "dtype: int64\n"
     ]
    }
   ],
   "source": [
    "s1= pd.Series([33,19,15,89,11,-5,9])\n",
    "print s1"
   ]
  },
  {
   "cell_type": "code",
   "execution_count": 3,
   "metadata": {
    "collapsed": false
   },
   "outputs": [
    {
     "data": {
      "text/plain": [
       "(33, 89)"
      ]
     },
     "execution_count": 3,
     "metadata": {},
     "output_type": "execute_result"
    }
   ],
   "source": [
    "s1[0],s1[3]"
   ]
  },
  {
   "cell_type": "code",
   "execution_count": 4,
   "metadata": {
    "collapsed": false
   },
   "outputs": [
    {
     "data": {
      "text/plain": [
       "pandas.core.series.Series"
      ]
     },
     "execution_count": 4,
     "metadata": {},
     "output_type": "execute_result"
    }
   ],
   "source": [
    "type(s1)"
   ]
  },
  {
   "cell_type": "code",
   "execution_count": 5,
   "metadata": {
    "collapsed": false
   },
   "outputs": [
    {
     "data": {
      "text/plain": [
       "array([33, 19, 15, 89, 11, -5,  9], dtype=int64)"
      ]
     },
     "execution_count": 5,
     "metadata": {},
     "output_type": "execute_result"
    }
   ],
   "source": [
    "s1.values"
   ]
  },
  {
   "cell_type": "code",
   "execution_count": 6,
   "metadata": {
    "collapsed": false
   },
   "outputs": [
    {
     "data": {
      "text/plain": [
       "Int64Index([0, 1, 2, 3, 4, 5, 6], dtype='int64')"
      ]
     },
     "execution_count": 6,
     "metadata": {},
     "output_type": "execute_result"
    }
   ],
   "source": [
    "s1.index"
   ]
  },
  {
   "cell_type": "code",
   "execution_count": 7,
   "metadata": {
    "collapsed": false
   },
   "outputs": [
    {
     "data": {
      "text/plain": [
       "numpy.ndarray"
      ]
     },
     "execution_count": 7,
     "metadata": {},
     "output_type": "execute_result"
    }
   ],
   "source": [
    "type(s1.values)"
   ]
  },
  {
   "cell_type": "code",
   "execution_count": 8,
   "metadata": {
    "collapsed": false
   },
   "outputs": [
    {
     "name": "stdout",
     "output_type": "stream",
     "text": [
      "mon    33\n",
      "tue    19\n",
      "wed    15\n",
      "thu    89\n",
      "fri    11\n",
      "sat    -5\n",
      "sun     9\n",
      "dtype: int64\n"
     ]
    }
   ],
   "source": [
    "data1= [33,19,15,89,11,-5,9]\n",
    "index1= ['mon','tue','wed','thu','fri','sat','sun']\n",
    "s2= pd.Series(data1, index=index1)\n",
    "print s2"
   ]
  },
  {
   "cell_type": "code",
   "execution_count": 9,
   "metadata": {
    "collapsed": false
   },
   "outputs": [
    {
     "data": {
      "text/plain": [
       "33"
      ]
     },
     "execution_count": 9,
     "metadata": {},
     "output_type": "execute_result"
    }
   ],
   "source": [
    "s2['mon']"
   ]
  },
  {
   "cell_type": "code",
   "execution_count": 10,
   "metadata": {
    "collapsed": false
   },
   "outputs": [
    {
     "data": {
      "text/plain": [
       "89"
      ]
     },
     "execution_count": 10,
     "metadata": {},
     "output_type": "execute_result"
    }
   ],
   "source": [
    "s2[3]"
   ]
  },
  {
   "cell_type": "code",
   "execution_count": 11,
   "metadata": {
    "collapsed": false
   },
   "outputs": [
    {
     "name": "stdout",
     "output_type": "stream",
     "text": [
      "Weekday\n",
      "mon    33\n",
      "tue    19\n",
      "wed    15\n",
      "thu    89\n",
      "fri    11\n",
      "sat    -5\n",
      "sun     9\n",
      "Name: Daily temperature, dtype: int64\n"
     ]
    }
   ],
   "source": [
    "s2.name= 'Daily temperature'\n",
    "s2.index.name= 'Weekday'\n",
    "print s2"
   ]
  },
  {
   "cell_type": "code",
   "execution_count": 12,
   "metadata": {
    "collapsed": false
   },
   "outputs": [
    {
     "name": "stdout",
     "output_type": "stream",
     "text": [
      "mon    33.0\n",
      "tue    19.6\n",
      "wed    15.0\n",
      "thu    89.0\n",
      "fri    11.0\n",
      "sat    -5.0\n",
      "sun     9.0\n",
      "dtype: float64\n"
     ]
    }
   ],
   "source": [
    "data2= [33,19.6,15,89,11,-5,9]\n",
    "s3= pd.Series(data2, index= index1)\n",
    "print s3"
   ]
  },
  {
   "cell_type": "code",
   "execution_count": 13,
   "metadata": {
    "collapsed": false
   },
   "outputs": [
    {
     "name": "stdout",
     "output_type": "stream",
     "text": [
      "mon    33.0\n",
      "thu    89.0\n",
      "tue    19.7\n",
      "wed    15.0\n",
      "dtype: float64\n"
     ]
    }
   ],
   "source": [
    "dict1= {'mon':33, 'tue':19.7, 'wed':15, 'thu':89}\n",
    "s4= pd.Series(dict1)\n",
    "print s4"
   ]
  },
  {
   "cell_type": "code",
   "execution_count": 14,
   "metadata": {
    "collapsed": false
   },
   "outputs": [
    {
     "name": "stdout",
     "output_type": "stream",
     "text": [
      "mon    33.0\n",
      "tue    19.6\n",
      "wed    15.0\n",
      "thu    89.0\n",
      "fri    11.0\n",
      "sat    -5.0\n",
      "sun     9.0\n",
      "dtype: float64\n"
     ]
    }
   ],
   "source": [
    "print s3"
   ]
  },
  {
   "cell_type": "code",
   "execution_count": 15,
   "metadata": {
    "collapsed": false
   },
   "outputs": [
    {
     "data": {
      "text/plain": [
       "mon     66.0\n",
       "tue     39.2\n",
       "wed     30.0\n",
       "thu    178.0\n",
       "fri     22.0\n",
       "sat    -10.0\n",
       "sun     18.0\n",
       "dtype: float64"
      ]
     },
     "execution_count": 15,
     "metadata": {},
     "output_type": "execute_result"
    }
   ],
   "source": [
    "s3*2"
   ]
  },
  {
   "cell_type": "code",
   "execution_count": 16,
   "metadata": {
    "collapsed": false
   },
   "outputs": [
    {
     "data": {
      "text/plain": [
       "mon     65.0\n",
       "tue     51.6\n",
       "wed     47.0\n",
       "thu    121.0\n",
       "fri     43.0\n",
       "sat     27.0\n",
       "sun     41.0\n",
       "dtype: float64"
      ]
     },
     "execution_count": 16,
     "metadata": {},
     "output_type": "execute_result"
    }
   ],
   "source": [
    "s3+32"
   ]
  },
  {
   "cell_type": "code",
   "execution_count": 17,
   "metadata": {
    "collapsed": false
   },
   "outputs": [
    {
     "data": {
      "text/plain": [
       "mon    3.496508\n",
       "tue    2.975530\n",
       "wed    2.708050\n",
       "thu    4.488636\n",
       "fri    2.397895\n",
       "sat         NaN\n",
       "sun    2.197225\n",
       "dtype: float64"
      ]
     },
     "execution_count": 17,
     "metadata": {},
     "output_type": "execute_result"
    }
   ],
   "source": [
    "np.log(s3)"
   ]
  },
  {
   "cell_type": "code",
   "execution_count": 18,
   "metadata": {
    "collapsed": false
   },
   "outputs": [
    {
     "data": {
      "text/plain": [
       "wed    15\n",
       "thu    89\n",
       "fri    11\n",
       "dtype: float64"
      ]
     },
     "execution_count": 18,
     "metadata": {},
     "output_type": "execute_result"
    }
   ],
   "source": [
    "s3['wed':'fri']"
   ]
  },
  {
   "cell_type": "code",
   "execution_count": 19,
   "metadata": {
    "collapsed": false
   },
   "outputs": [
    {
     "data": {
      "text/plain": [
       "tue    19.6\n",
       "wed    15.0\n",
       "dtype: float64"
      ]
     },
     "execution_count": 19,
     "metadata": {},
     "output_type": "execute_result"
    }
   ],
   "source": [
    "s3[1:3]"
   ]
  },
  {
   "cell_type": "code",
   "execution_count": 20,
   "metadata": {
    "collapsed": false
   },
   "outputs": [
    {
     "data": {
      "text/plain": [
       "-5.0"
      ]
     },
     "execution_count": 20,
     "metadata": {},
     "output_type": "execute_result"
    }
   ],
   "source": [
    "s3[5]"
   ]
  },
  {
   "cell_type": "code",
   "execution_count": 21,
   "metadata": {
    "collapsed": false
   },
   "outputs": [
    {
     "name": "stdout",
     "output_type": "stream",
     "text": [
      "mon    33.0\n",
      "tue    19.6\n",
      "wed    15.0\n",
      "thu    89.0\n",
      "fri    11.0\n",
      "sat    -5.0\n",
      "sun     9.0\n",
      "dtype: float64\n"
     ]
    }
   ],
   "source": [
    "print s3"
   ]
  },
  {
   "cell_type": "code",
   "execution_count": 22,
   "metadata": {
    "collapsed": false
   },
   "outputs": [
    {
     "name": "stdout",
     "output_type": "stream",
     "text": [
      "mon    33.0\n",
      "tue    19.6\n",
      "wed    23.4\n",
      "thu    89.0\n",
      "fri    17.3\n",
      "sat    -5.0\n",
      "sun     9.0\n",
      "dtype: float64\n"
     ]
    }
   ],
   "source": [
    "s3['fri']= 17.3\n",
    "s3[2]= 23.4\n",
    "print s3"
   ]
  },
  {
   "cell_type": "code",
   "execution_count": 23,
   "metadata": {
    "collapsed": false
   },
   "outputs": [
    {
     "data": {
      "text/plain": [
       "19.600000000000001"
      ]
     },
     "execution_count": 23,
     "metadata": {},
     "output_type": "execute_result"
    }
   ],
   "source": [
    "np.median(s3)"
   ]
  },
  {
   "cell_type": "code",
   "execution_count": 24,
   "metadata": {
    "collapsed": false
   },
   "outputs": [
    {
     "data": {
      "text/plain": [
       "19.6"
      ]
     },
     "execution_count": 24,
     "metadata": {},
     "output_type": "execute_result"
    }
   ],
   "source": [
    "s3.median()"
   ]
  },
  {
   "cell_type": "code",
   "execution_count": 25,
   "metadata": {
    "collapsed": false
   },
   "outputs": [
    {
     "data": {
      "text/plain": [
       "89.0"
      ]
     },
     "execution_count": 25,
     "metadata": {},
     "output_type": "execute_result"
    }
   ],
   "source": [
    "s3.max()"
   ]
  },
  {
   "cell_type": "code",
   "execution_count": 26,
   "metadata": {
    "collapsed": false
   },
   "outputs": [
    {
     "data": {
      "text/plain": [
       "mon     33.0\n",
       "tue     52.6\n",
       "wed     76.0\n",
       "thu    165.0\n",
       "fri    182.3\n",
       "sat    177.3\n",
       "sun    186.3\n",
       "dtype: float64"
      ]
     },
     "execution_count": 26,
     "metadata": {},
     "output_type": "execute_result"
    }
   ],
   "source": [
    "s3.cumsum()"
   ]
  },
  {
   "cell_type": "code",
   "execution_count": 27,
   "metadata": {
    "collapsed": false
   },
   "outputs": [
    {
     "name": "stdout",
     "output_type": "stream",
     "text": [
      "0 33.0\n",
      "1 19.6\n",
      "2 23.4\n",
      "3 89.0\n",
      "4 17.3\n",
      "5 -5.0\n",
      "6 9.0\n"
     ]
    }
   ],
   "source": [
    "for i,v in enumerate(s3):\n",
    "    print i,v"
   ]
  },
  {
   "cell_type": "code",
   "execution_count": 28,
   "metadata": {
    "collapsed": false
   },
   "outputs": [
    {
     "name": "stdout",
     "output_type": "stream",
     "text": [
      "[1089.0, 384.16000000000008, 547.55999999999995, 7921.0, 299.29000000000002, 25.0, 81.0]\n"
     ]
    }
   ],
   "source": [
    "new = [x**2 for x in s3]\n",
    "print new"
   ]
  },
  {
   "cell_type": "code",
   "execution_count": 29,
   "metadata": {
    "collapsed": false
   },
   "outputs": [
    {
     "data": {
      "text/plain": [
       "384.16000000000008"
      ]
     },
     "execution_count": 29,
     "metadata": {},
     "output_type": "execute_result"
    }
   ],
   "source": [
    "s3[1]**2"
   ]
  },
  {
   "cell_type": "code",
   "execution_count": 30,
   "metadata": {
    "collapsed": false
   },
   "outputs": [
    {
     "data": {
      "text/plain": [
       "True"
      ]
     },
     "execution_count": 30,
     "metadata": {},
     "output_type": "execute_result"
    }
   ],
   "source": [
    "'sun' in s3"
   ]
  },
  {
   "cell_type": "code",
   "execution_count": 31,
   "metadata": {
    "collapsed": false
   },
   "outputs": [
    {
     "data": {
      "text/plain": [
       "False"
      ]
     },
     "execution_count": 31,
     "metadata": {},
     "output_type": "execute_result"
    }
   ],
   "source": [
    "'gold' in s3"
   ]
  },
  {
   "cell_type": "code",
   "execution_count": 32,
   "metadata": {
    "collapsed": false
   },
   "outputs": [
    {
     "name": "stdout",
     "output_type": "stream",
     "text": [
      "mon 33.0\n",
      "tue 19.6\n",
      "wed 23.4\n",
      "thu 89.0\n",
      "fri 17.3\n",
      "sat -5.0\n",
      "sun 9.0\n"
     ]
    }
   ],
   "source": [
    "for k,v in s3.iteritems():\n",
    "    print k, v"
   ]
  },
  {
   "cell_type": "code",
   "execution_count": 33,
   "metadata": {
    "collapsed": true
   },
   "outputs": [],
   "source": [
    "import datetime as dtm"
   ]
  },
  {
   "cell_type": "code",
   "execution_count": 34,
   "metadata": {
    "collapsed": false
   },
   "outputs": [
    {
     "name": "stdout",
     "output_type": "stream",
     "text": [
      "['2014-12-01', '2014-12-02', '2014-12-03', '2014-12-04', '2014-12-05', '2014-12-06', '2014-12-07']\n"
     ]
    }
   ],
   "source": [
    "dt= dtm.datetime(2014,12,1)\n",
    "en= dtm.datetime(2014,12,8)\n",
    "step= dtm.timedelta(days=1)\n",
    "dates= []\n",
    "while dt < en:\n",
    "    dates.append(dt.strftime('%Y-%m-%d'))\n",
    "    dt += step\n",
    "print dates"
   ]
  },
  {
   "cell_type": "code",
   "execution_count": 35,
   "metadata": {
    "collapsed": false
   },
   "outputs": [
    {
     "name": "stdout",
     "output_type": "stream",
     "text": [
      "{'Date': ['2014-12-01', '2014-12-02', '2014-12-03', '2014-12-04', '2014-12-05', '2014-12-06', '2014-12-07'], 'Paris': [-2, 0, 2, 5, 7, -5, -3], 'Mumbai': [20, 18, 23, 19, 25, 27, 23], 'Tokyo': [15, 19, 15, 11, 9, 8, 13]}\n"
     ]
    }
   ],
   "source": [
    "t1= [15,19,15,11,9,8,13]\n",
    "t2= [20,18,23,19,25,27,23]\n",
    "t3= [-2,0,2,5,7,-5,-3]\n",
    "d= {'Date': dates,'Tokyo': t1, 'Mumbai': t2, 'Paris': t3}\n",
    "print d"
   ]
  },
  {
   "cell_type": "code",
   "execution_count": 36,
   "metadata": {
    "collapsed": false,
    "scrolled": true
   },
   "outputs": [
    {
     "data": {
      "text/html": [
       "<div>\n",
       "<table border=\"1\" class=\"dataframe\">\n",
       "  <thead>\n",
       "    <tr style=\"text-align: right;\">\n",
       "      <th></th>\n",
       "      <th>Date</th>\n",
       "      <th>Mumbai</th>\n",
       "      <th>Paris</th>\n",
       "      <th>Tokyo</th>\n",
       "    </tr>\n",
       "  </thead>\n",
       "  <tbody>\n",
       "    <tr>\n",
       "      <th>0</th>\n",
       "      <td>2014-12-01</td>\n",
       "      <td>20</td>\n",
       "      <td>-2</td>\n",
       "      <td>15</td>\n",
       "    </tr>\n",
       "    <tr>\n",
       "      <th>1</th>\n",
       "      <td>2014-12-02</td>\n",
       "      <td>18</td>\n",
       "      <td>0</td>\n",
       "      <td>19</td>\n",
       "    </tr>\n",
       "    <tr>\n",
       "      <th>2</th>\n",
       "      <td>2014-12-03</td>\n",
       "      <td>23</td>\n",
       "      <td>2</td>\n",
       "      <td>15</td>\n",
       "    </tr>\n",
       "    <tr>\n",
       "      <th>3</th>\n",
       "      <td>2014-12-04</td>\n",
       "      <td>19</td>\n",
       "      <td>5</td>\n",
       "      <td>11</td>\n",
       "    </tr>\n",
       "    <tr>\n",
       "      <th>4</th>\n",
       "      <td>2014-12-05</td>\n",
       "      <td>25</td>\n",
       "      <td>7</td>\n",
       "      <td>9</td>\n",
       "    </tr>\n",
       "    <tr>\n",
       "      <th>5</th>\n",
       "      <td>2014-12-06</td>\n",
       "      <td>27</td>\n",
       "      <td>-5</td>\n",
       "      <td>8</td>\n",
       "    </tr>\n",
       "    <tr>\n",
       "      <th>6</th>\n",
       "      <td>2014-12-07</td>\n",
       "      <td>23</td>\n",
       "      <td>-3</td>\n",
       "      <td>13</td>\n",
       "    </tr>\n",
       "  </tbody>\n",
       "</table>\n",
       "</div>"
      ],
      "text/plain": [
       "         Date  Mumbai  Paris  Tokyo\n",
       "0  2014-12-01      20     -2     15\n",
       "1  2014-12-02      18      0     19\n",
       "2  2014-12-03      23      2     15\n",
       "3  2014-12-04      19      5     11\n",
       "4  2014-12-05      25      7      9\n",
       "5  2014-12-06      27     -5      8\n",
       "6  2014-12-07      23     -3     13"
      ]
     },
     "execution_count": 36,
     "metadata": {},
     "output_type": "execute_result"
    }
   ],
   "source": [
    "temps= pd.DataFrame(d)\n",
    "temps"
   ]
  },
  {
   "cell_type": "code",
   "execution_count": 37,
   "metadata": {
    "collapsed": false
   },
   "outputs": [
    {
     "data": {
      "text/plain": [
       "0    20\n",
       "1    18\n",
       "2    23\n",
       "3    19\n",
       "4    25\n",
       "5    27\n",
       "6    23\n",
       "Name: Mumbai, dtype: int64"
      ]
     },
     "execution_count": 37,
     "metadata": {},
     "output_type": "execute_result"
    }
   ],
   "source": [
    "temps.Mumbai"
   ]
  },
  {
   "cell_type": "code",
   "execution_count": 38,
   "metadata": {
    "collapsed": false
   },
   "outputs": [
    {
     "data": {
      "text/plain": [
       "pandas.core.series.Series"
      ]
     },
     "execution_count": 38,
     "metadata": {},
     "output_type": "execute_result"
    }
   ],
   "source": [
    "type(temps.Mumbai)"
   ]
  },
  {
   "cell_type": "code",
   "execution_count": 39,
   "metadata": {
    "collapsed": false
   },
   "outputs": [
    {
     "data": {
      "text/plain": [
       "0   -2\n",
       "1    0\n",
       "2    2\n",
       "3    5\n",
       "4    7\n",
       "5   -5\n",
       "6   -3\n",
       "Name: Paris, dtype: int64"
      ]
     },
     "execution_count": 39,
     "metadata": {},
     "output_type": "execute_result"
    }
   ],
   "source": [
    "temps['Paris']"
   ]
  },
  {
   "cell_type": "code",
   "execution_count": 40,
   "metadata": {
    "collapsed": false
   },
   "outputs": [
    {
     "data": {
      "text/html": [
       "<div>\n",
       "<table border=\"1\" class=\"dataframe\">\n",
       "  <thead>\n",
       "    <tr style=\"text-align: right;\">\n",
       "      <th></th>\n",
       "      <th>Mumbai</th>\n",
       "      <th>Paris</th>\n",
       "      <th>Tokyo</th>\n",
       "    </tr>\n",
       "    <tr>\n",
       "      <th>Date</th>\n",
       "      <th></th>\n",
       "      <th></th>\n",
       "      <th></th>\n",
       "    </tr>\n",
       "  </thead>\n",
       "  <tbody>\n",
       "    <tr>\n",
       "      <th>2014-12-01</th>\n",
       "      <td>20</td>\n",
       "      <td>-2</td>\n",
       "      <td>15</td>\n",
       "    </tr>\n",
       "    <tr>\n",
       "      <th>2014-12-02</th>\n",
       "      <td>18</td>\n",
       "      <td>0</td>\n",
       "      <td>19</td>\n",
       "    </tr>\n",
       "    <tr>\n",
       "      <th>2014-12-03</th>\n",
       "      <td>23</td>\n",
       "      <td>2</td>\n",
       "      <td>15</td>\n",
       "    </tr>\n",
       "    <tr>\n",
       "      <th>2014-12-04</th>\n",
       "      <td>19</td>\n",
       "      <td>5</td>\n",
       "      <td>11</td>\n",
       "    </tr>\n",
       "    <tr>\n",
       "      <th>2014-12-05</th>\n",
       "      <td>25</td>\n",
       "      <td>7</td>\n",
       "      <td>9</td>\n",
       "    </tr>\n",
       "  </tbody>\n",
       "</table>\n",
       "</div>"
      ],
      "text/plain": [
       "            Mumbai  Paris  Tokyo\n",
       "Date                            \n",
       "2014-12-01      20     -2     15\n",
       "2014-12-02      18      0     19\n",
       "2014-12-03      23      2     15\n",
       "2014-12-04      19      5     11\n",
       "2014-12-05      25      7      9"
      ]
     },
     "execution_count": 40,
     "metadata": {},
     "output_type": "execute_result"
    }
   ],
   "source": [
    "temps= temps.set_index('Date') #you cannot repeat this command\n",
    "temps.head()"
   ]
  },
  {
   "cell_type": "code",
   "execution_count": 41,
   "metadata": {
    "collapsed": true
   },
   "outputs": [],
   "source": [
    "titanic= pd.read_csv('../../pdacookbook/data/titanic.csv')"
   ]
  },
  {
   "cell_type": "code",
   "execution_count": 42,
   "metadata": {
    "collapsed": false
   },
   "outputs": [
    {
     "data": {
      "text/html": [
       "<div>\n",
       "<table border=\"1\" class=\"dataframe\">\n",
       "  <thead>\n",
       "    <tr style=\"text-align: right;\">\n",
       "      <th></th>\n",
       "      <th>PassengerId</th>\n",
       "      <th>Survived</th>\n",
       "      <th>Pclass</th>\n",
       "      <th>Name</th>\n",
       "      <th>Sex</th>\n",
       "      <th>Age</th>\n",
       "      <th>SibSp</th>\n",
       "      <th>Parch</th>\n",
       "      <th>Ticket</th>\n",
       "      <th>Fare</th>\n",
       "      <th>Cabin</th>\n",
       "      <th>Embarked</th>\n",
       "    </tr>\n",
       "  </thead>\n",
       "  <tbody>\n",
       "    <tr>\n",
       "      <th>0</th>\n",
       "      <td>1</td>\n",
       "      <td>0</td>\n",
       "      <td>3</td>\n",
       "      <td>Braund, Mr. Owen Harris</td>\n",
       "      <td>male</td>\n",
       "      <td>22</td>\n",
       "      <td>1</td>\n",
       "      <td>0</td>\n",
       "      <td>A/5 21171</td>\n",
       "      <td>7.2500</td>\n",
       "      <td>NaN</td>\n",
       "      <td>S</td>\n",
       "    </tr>\n",
       "    <tr>\n",
       "      <th>1</th>\n",
       "      <td>2</td>\n",
       "      <td>1</td>\n",
       "      <td>1</td>\n",
       "      <td>Cumings, Mrs. John Bradley (Florence Briggs Th...</td>\n",
       "      <td>female</td>\n",
       "      <td>38</td>\n",
       "      <td>1</td>\n",
       "      <td>0</td>\n",
       "      <td>PC 17599</td>\n",
       "      <td>71.2833</td>\n",
       "      <td>C85</td>\n",
       "      <td>C</td>\n",
       "    </tr>\n",
       "    <tr>\n",
       "      <th>2</th>\n",
       "      <td>3</td>\n",
       "      <td>1</td>\n",
       "      <td>3</td>\n",
       "      <td>Heikkinen, Miss. Laina</td>\n",
       "      <td>female</td>\n",
       "      <td>26</td>\n",
       "      <td>0</td>\n",
       "      <td>0</td>\n",
       "      <td>STON/O2. 3101282</td>\n",
       "      <td>7.9250</td>\n",
       "      <td>NaN</td>\n",
       "      <td>S</td>\n",
       "    </tr>\n",
       "    <tr>\n",
       "      <th>3</th>\n",
       "      <td>4</td>\n",
       "      <td>1</td>\n",
       "      <td>1</td>\n",
       "      <td>Futrelle, Mrs. Jacques Heath (Lily May Peel)</td>\n",
       "      <td>female</td>\n",
       "      <td>35</td>\n",
       "      <td>1</td>\n",
       "      <td>0</td>\n",
       "      <td>113803</td>\n",
       "      <td>53.1000</td>\n",
       "      <td>C123</td>\n",
       "      <td>S</td>\n",
       "    </tr>\n",
       "    <tr>\n",
       "      <th>4</th>\n",
       "      <td>5</td>\n",
       "      <td>0</td>\n",
       "      <td>3</td>\n",
       "      <td>Allen, Mr. William Henry</td>\n",
       "      <td>male</td>\n",
       "      <td>35</td>\n",
       "      <td>0</td>\n",
       "      <td>0</td>\n",
       "      <td>373450</td>\n",
       "      <td>8.0500</td>\n",
       "      <td>NaN</td>\n",
       "      <td>S</td>\n",
       "    </tr>\n",
       "  </tbody>\n",
       "</table>\n",
       "</div>"
      ],
      "text/plain": [
       "   PassengerId  Survived  Pclass  \\\n",
       "0            1         0       3   \n",
       "1            2         1       1   \n",
       "2            3         1       3   \n",
       "3            4         1       1   \n",
       "4            5         0       3   \n",
       "\n",
       "                                                Name     Sex  Age  SibSp  \\\n",
       "0                            Braund, Mr. Owen Harris    male   22      1   \n",
       "1  Cumings, Mrs. John Bradley (Florence Briggs Th...  female   38      1   \n",
       "2                             Heikkinen, Miss. Laina  female   26      0   \n",
       "3       Futrelle, Mrs. Jacques Heath (Lily May Peel)  female   35      1   \n",
       "4                           Allen, Mr. William Henry    male   35      0   \n",
       "\n",
       "   Parch            Ticket     Fare Cabin Embarked  \n",
       "0      0         A/5 21171   7.2500   NaN        S  \n",
       "1      0          PC 17599  71.2833   C85        C  \n",
       "2      0  STON/O2. 3101282   7.9250   NaN        S  \n",
       "3      0            113803  53.1000  C123        S  \n",
       "4      0            373450   8.0500   NaN        S  "
      ]
     },
     "execution_count": 42,
     "metadata": {},
     "output_type": "execute_result"
    }
   ],
   "source": [
    "titanic.head()"
   ]
  },
  {
   "cell_type": "code",
   "execution_count": 43,
   "metadata": {
    "collapsed": false
   },
   "outputs": [
    {
     "data": {
      "text/html": [
       "<div>\n",
       "<table border=\"1\" class=\"dataframe\">\n",
       "  <thead>\n",
       "    <tr style=\"text-align: right;\">\n",
       "      <th></th>\n",
       "      <th>PassengerId</th>\n",
       "      <th>Survived</th>\n",
       "      <th>Pclass</th>\n",
       "      <th>Age</th>\n",
       "      <th>SibSp</th>\n",
       "      <th>Parch</th>\n",
       "      <th>Fare</th>\n",
       "    </tr>\n",
       "  </thead>\n",
       "  <tbody>\n",
       "    <tr>\n",
       "      <th>count</th>\n",
       "      <td>891.000000</td>\n",
       "      <td>891.000000</td>\n",
       "      <td>891.000000</td>\n",
       "      <td>714.000000</td>\n",
       "      <td>891.000000</td>\n",
       "      <td>891.000000</td>\n",
       "      <td>891.000000</td>\n",
       "    </tr>\n",
       "    <tr>\n",
       "      <th>mean</th>\n",
       "      <td>446.000000</td>\n",
       "      <td>0.383838</td>\n",
       "      <td>2.308642</td>\n",
       "      <td>29.699118</td>\n",
       "      <td>0.523008</td>\n",
       "      <td>0.381594</td>\n",
       "      <td>32.204208</td>\n",
       "    </tr>\n",
       "    <tr>\n",
       "      <th>std</th>\n",
       "      <td>257.353842</td>\n",
       "      <td>0.486592</td>\n",
       "      <td>0.836071</td>\n",
       "      <td>14.526497</td>\n",
       "      <td>1.102743</td>\n",
       "      <td>0.806057</td>\n",
       "      <td>49.693429</td>\n",
       "    </tr>\n",
       "    <tr>\n",
       "      <th>min</th>\n",
       "      <td>1.000000</td>\n",
       "      <td>0.000000</td>\n",
       "      <td>1.000000</td>\n",
       "      <td>0.420000</td>\n",
       "      <td>0.000000</td>\n",
       "      <td>0.000000</td>\n",
       "      <td>0.000000</td>\n",
       "    </tr>\n",
       "    <tr>\n",
       "      <th>25%</th>\n",
       "      <td>223.500000</td>\n",
       "      <td>0.000000</td>\n",
       "      <td>2.000000</td>\n",
       "      <td>20.125000</td>\n",
       "      <td>0.000000</td>\n",
       "      <td>0.000000</td>\n",
       "      <td>7.910400</td>\n",
       "    </tr>\n",
       "    <tr>\n",
       "      <th>50%</th>\n",
       "      <td>446.000000</td>\n",
       "      <td>0.000000</td>\n",
       "      <td>3.000000</td>\n",
       "      <td>28.000000</td>\n",
       "      <td>0.000000</td>\n",
       "      <td>0.000000</td>\n",
       "      <td>14.454200</td>\n",
       "    </tr>\n",
       "    <tr>\n",
       "      <th>75%</th>\n",
       "      <td>668.500000</td>\n",
       "      <td>1.000000</td>\n",
       "      <td>3.000000</td>\n",
       "      <td>38.000000</td>\n",
       "      <td>1.000000</td>\n",
       "      <td>0.000000</td>\n",
       "      <td>31.000000</td>\n",
       "    </tr>\n",
       "    <tr>\n",
       "      <th>max</th>\n",
       "      <td>891.000000</td>\n",
       "      <td>1.000000</td>\n",
       "      <td>3.000000</td>\n",
       "      <td>80.000000</td>\n",
       "      <td>8.000000</td>\n",
       "      <td>6.000000</td>\n",
       "      <td>512.329200</td>\n",
       "    </tr>\n",
       "  </tbody>\n",
       "</table>\n",
       "</div>"
      ],
      "text/plain": [
       "       PassengerId    Survived      Pclass         Age       SibSp  \\\n",
       "count   891.000000  891.000000  891.000000  714.000000  891.000000   \n",
       "mean    446.000000    0.383838    2.308642   29.699118    0.523008   \n",
       "std     257.353842    0.486592    0.836071   14.526497    1.102743   \n",
       "min       1.000000    0.000000    1.000000    0.420000    0.000000   \n",
       "25%     223.500000    0.000000    2.000000   20.125000    0.000000   \n",
       "50%     446.000000    0.000000    3.000000   28.000000    0.000000   \n",
       "75%     668.500000    1.000000    3.000000   38.000000    1.000000   \n",
       "max     891.000000    1.000000    3.000000   80.000000    8.000000   \n",
       "\n",
       "            Parch        Fare  \n",
       "count  891.000000  891.000000  \n",
       "mean     0.381594   32.204208  \n",
       "std      0.806057   49.693429  \n",
       "min      0.000000    0.000000  \n",
       "25%      0.000000    7.910400  \n",
       "50%      0.000000   14.454200  \n",
       "75%      0.000000   31.000000  \n",
       "max      6.000000  512.329200  "
      ]
     },
     "execution_count": 43,
     "metadata": {},
     "output_type": "execute_result"
    }
   ],
   "source": [
    "titanic.describe()"
   ]
  },
  {
   "cell_type": "code",
   "execution_count": 44,
   "metadata": {
    "collapsed": false
   },
   "outputs": [
    {
     "data": {
      "text/plain": [
       "(891, 12)"
      ]
     },
     "execution_count": 44,
     "metadata": {},
     "output_type": "execute_result"
    }
   ],
   "source": [
    "titanic.shape"
   ]
  },
  {
   "cell_type": "code",
   "execution_count": 45,
   "metadata": {
    "collapsed": true
   },
   "outputs": [],
   "source": [
    "titanic= pd.read_csv('../../pdacookbook/data/titanic.csv', index_col='PassengerId')"
   ]
  },
  {
   "cell_type": "code",
   "execution_count": 46,
   "metadata": {
    "collapsed": false
   },
   "outputs": [
    {
     "data": {
      "text/html": [
       "<div>\n",
       "<table border=\"1\" class=\"dataframe\">\n",
       "  <thead>\n",
       "    <tr style=\"text-align: right;\">\n",
       "      <th></th>\n",
       "      <th>Survived</th>\n",
       "      <th>Pclass</th>\n",
       "      <th>Name</th>\n",
       "      <th>Sex</th>\n",
       "      <th>Age</th>\n",
       "      <th>SibSp</th>\n",
       "      <th>Parch</th>\n",
       "      <th>Ticket</th>\n",
       "      <th>Fare</th>\n",
       "      <th>Cabin</th>\n",
       "      <th>Embarked</th>\n",
       "    </tr>\n",
       "    <tr>\n",
       "      <th>PassengerId</th>\n",
       "      <th></th>\n",
       "      <th></th>\n",
       "      <th></th>\n",
       "      <th></th>\n",
       "      <th></th>\n",
       "      <th></th>\n",
       "      <th></th>\n",
       "      <th></th>\n",
       "      <th></th>\n",
       "      <th></th>\n",
       "      <th></th>\n",
       "    </tr>\n",
       "  </thead>\n",
       "  <tbody>\n",
       "    <tr>\n",
       "      <th>1</th>\n",
       "      <td>0</td>\n",
       "      <td>3</td>\n",
       "      <td>Braund, Mr. Owen Harris</td>\n",
       "      <td>male</td>\n",
       "      <td>22</td>\n",
       "      <td>1</td>\n",
       "      <td>0</td>\n",
       "      <td>A/5 21171</td>\n",
       "      <td>7.2500</td>\n",
       "      <td>NaN</td>\n",
       "      <td>S</td>\n",
       "    </tr>\n",
       "    <tr>\n",
       "      <th>2</th>\n",
       "      <td>1</td>\n",
       "      <td>1</td>\n",
       "      <td>Cumings, Mrs. John Bradley (Florence Briggs Th...</td>\n",
       "      <td>female</td>\n",
       "      <td>38</td>\n",
       "      <td>1</td>\n",
       "      <td>0</td>\n",
       "      <td>PC 17599</td>\n",
       "      <td>71.2833</td>\n",
       "      <td>C85</td>\n",
       "      <td>C</td>\n",
       "    </tr>\n",
       "    <tr>\n",
       "      <th>3</th>\n",
       "      <td>1</td>\n",
       "      <td>3</td>\n",
       "      <td>Heikkinen, Miss. Laina</td>\n",
       "      <td>female</td>\n",
       "      <td>26</td>\n",
       "      <td>0</td>\n",
       "      <td>0</td>\n",
       "      <td>STON/O2. 3101282</td>\n",
       "      <td>7.9250</td>\n",
       "      <td>NaN</td>\n",
       "      <td>S</td>\n",
       "    </tr>\n",
       "    <tr>\n",
       "      <th>4</th>\n",
       "      <td>1</td>\n",
       "      <td>1</td>\n",
       "      <td>Futrelle, Mrs. Jacques Heath (Lily May Peel)</td>\n",
       "      <td>female</td>\n",
       "      <td>35</td>\n",
       "      <td>1</td>\n",
       "      <td>0</td>\n",
       "      <td>113803</td>\n",
       "      <td>53.1000</td>\n",
       "      <td>C123</td>\n",
       "      <td>S</td>\n",
       "    </tr>\n",
       "    <tr>\n",
       "      <th>5</th>\n",
       "      <td>0</td>\n",
       "      <td>3</td>\n",
       "      <td>Allen, Mr. William Henry</td>\n",
       "      <td>male</td>\n",
       "      <td>35</td>\n",
       "      <td>0</td>\n",
       "      <td>0</td>\n",
       "      <td>373450</td>\n",
       "      <td>8.0500</td>\n",
       "      <td>NaN</td>\n",
       "      <td>S</td>\n",
       "    </tr>\n",
       "  </tbody>\n",
       "</table>\n",
       "</div>"
      ],
      "text/plain": [
       "             Survived  Pclass  \\\n",
       "PassengerId                     \n",
       "1                   0       3   \n",
       "2                   1       1   \n",
       "3                   1       3   \n",
       "4                   1       1   \n",
       "5                   0       3   \n",
       "\n",
       "                                                          Name     Sex  Age  \\\n",
       "PassengerId                                                                   \n",
       "1                                      Braund, Mr. Owen Harris    male   22   \n",
       "2            Cumings, Mrs. John Bradley (Florence Briggs Th...  female   38   \n",
       "3                                       Heikkinen, Miss. Laina  female   26   \n",
       "4                 Futrelle, Mrs. Jacques Heath (Lily May Peel)  female   35   \n",
       "5                                     Allen, Mr. William Henry    male   35   \n",
       "\n",
       "             SibSp  Parch            Ticket     Fare Cabin Embarked  \n",
       "PassengerId                                                          \n",
       "1                1      0         A/5 21171   7.2500   NaN        S  \n",
       "2                1      0          PC 17599  71.2833   C85        C  \n",
       "3                0      0  STON/O2. 3101282   7.9250   NaN        S  \n",
       "4                1      0            113803  53.1000  C123        S  \n",
       "5                0      0            373450   8.0500   NaN        S  "
      ]
     },
     "execution_count": 46,
     "metadata": {},
     "output_type": "execute_result"
    }
   ],
   "source": [
    "titanic.head()"
   ]
  },
  {
   "cell_type": "code",
   "execution_count": 47,
   "metadata": {
    "collapsed": false
   },
   "outputs": [
    {
     "data": {
      "text/html": [
       "<div>\n",
       "<table border=\"1\" class=\"dataframe\">\n",
       "  <thead>\n",
       "    <tr style=\"text-align: right;\">\n",
       "      <th></th>\n",
       "      <th>Survived</th>\n",
       "      <th>Pclass</th>\n",
       "      <th>Name</th>\n",
       "      <th>Sex</th>\n",
       "      <th>Age</th>\n",
       "      <th>SibSp</th>\n",
       "      <th>Parch</th>\n",
       "      <th>Ticket</th>\n",
       "      <th>Fare</th>\n",
       "      <th>Cabin</th>\n",
       "      <th>Embarked</th>\n",
       "    </tr>\n",
       "    <tr>\n",
       "      <th>PassengerId</th>\n",
       "      <th></th>\n",
       "      <th></th>\n",
       "      <th></th>\n",
       "      <th></th>\n",
       "      <th></th>\n",
       "      <th></th>\n",
       "      <th></th>\n",
       "      <th></th>\n",
       "      <th></th>\n",
       "      <th></th>\n",
       "      <th></th>\n",
       "    </tr>\n",
       "  </thead>\n",
       "  <tbody>\n",
       "    <tr>\n",
       "      <th>887</th>\n",
       "      <td>0</td>\n",
       "      <td>2</td>\n",
       "      <td>Montvila, Rev. Juozas</td>\n",
       "      <td>male</td>\n",
       "      <td>27</td>\n",
       "      <td>0</td>\n",
       "      <td>0</td>\n",
       "      <td>211536</td>\n",
       "      <td>13.00</td>\n",
       "      <td>NaN</td>\n",
       "      <td>S</td>\n",
       "    </tr>\n",
       "    <tr>\n",
       "      <th>888</th>\n",
       "      <td>1</td>\n",
       "      <td>1</td>\n",
       "      <td>Graham, Miss. Margaret Edith</td>\n",
       "      <td>female</td>\n",
       "      <td>19</td>\n",
       "      <td>0</td>\n",
       "      <td>0</td>\n",
       "      <td>112053</td>\n",
       "      <td>30.00</td>\n",
       "      <td>B42</td>\n",
       "      <td>S</td>\n",
       "    </tr>\n",
       "    <tr>\n",
       "      <th>889</th>\n",
       "      <td>0</td>\n",
       "      <td>3</td>\n",
       "      <td>Johnston, Miss. Catherine Helen \"Carrie\"</td>\n",
       "      <td>female</td>\n",
       "      <td>NaN</td>\n",
       "      <td>1</td>\n",
       "      <td>2</td>\n",
       "      <td>W./C. 6607</td>\n",
       "      <td>23.45</td>\n",
       "      <td>NaN</td>\n",
       "      <td>S</td>\n",
       "    </tr>\n",
       "    <tr>\n",
       "      <th>890</th>\n",
       "      <td>1</td>\n",
       "      <td>1</td>\n",
       "      <td>Behr, Mr. Karl Howell</td>\n",
       "      <td>male</td>\n",
       "      <td>26</td>\n",
       "      <td>0</td>\n",
       "      <td>0</td>\n",
       "      <td>111369</td>\n",
       "      <td>30.00</td>\n",
       "      <td>C148</td>\n",
       "      <td>C</td>\n",
       "    </tr>\n",
       "    <tr>\n",
       "      <th>891</th>\n",
       "      <td>0</td>\n",
       "      <td>3</td>\n",
       "      <td>Dooley, Mr. Patrick</td>\n",
       "      <td>male</td>\n",
       "      <td>32</td>\n",
       "      <td>0</td>\n",
       "      <td>0</td>\n",
       "      <td>370376</td>\n",
       "      <td>7.75</td>\n",
       "      <td>NaN</td>\n",
       "      <td>Q</td>\n",
       "    </tr>\n",
       "  </tbody>\n",
       "</table>\n",
       "</div>"
      ],
      "text/plain": [
       "             Survived  Pclass                                      Name  \\\n",
       "PassengerId                                                               \n",
       "887                 0       2                     Montvila, Rev. Juozas   \n",
       "888                 1       1              Graham, Miss. Margaret Edith   \n",
       "889                 0       3  Johnston, Miss. Catherine Helen \"Carrie\"   \n",
       "890                 1       1                     Behr, Mr. Karl Howell   \n",
       "891                 0       3                       Dooley, Mr. Patrick   \n",
       "\n",
       "                Sex  Age  SibSp  Parch      Ticket   Fare Cabin Embarked  \n",
       "PassengerId                                                               \n",
       "887            male   27      0      0      211536  13.00   NaN        S  \n",
       "888          female   19      0      0      112053  30.00   B42        S  \n",
       "889          female  NaN      1      2  W./C. 6607  23.45   NaN        S  \n",
       "890            male   26      0      0      111369  30.00  C148        C  \n",
       "891            male   32      0      0      370376   7.75   NaN        Q  "
      ]
     },
     "execution_count": 47,
     "metadata": {},
     "output_type": "execute_result"
    }
   ],
   "source": [
    "titanic.tail()"
   ]
  },
  {
   "cell_type": "code",
   "execution_count": 48,
   "metadata": {
    "collapsed": false
   },
   "outputs": [
    {
     "data": {
      "text/plain": [
       "male      577\n",
       "female    314\n",
       "dtype: int64"
      ]
     },
     "execution_count": 48,
     "metadata": {},
     "output_type": "execute_result"
    }
   ],
   "source": [
    "titanic['Sex'].value_counts()"
   ]
  },
  {
   "cell_type": "code",
   "execution_count": 49,
   "metadata": {
    "collapsed": false
   },
   "outputs": [
    {
     "data": {
      "text/plain": [
       "3    491\n",
       "1    216\n",
       "2    184\n",
       "dtype: int64"
      ]
     },
     "execution_count": 49,
     "metadata": {},
     "output_type": "execute_result"
    }
   ],
   "source": [
    "titanic['Pclass'].value_counts()"
   ]
  },
  {
   "cell_type": "code",
   "execution_count": 50,
   "metadata": {
    "collapsed": false
   },
   "outputs": [
    {
     "data": {
      "text/plain": [
       "0    549\n",
       "1    342\n",
       "dtype: int64"
      ]
     },
     "execution_count": 50,
     "metadata": {},
     "output_type": "execute_result"
    }
   ],
   "source": [
    "titanic['Survived'].value_counts()"
   ]
  },
  {
   "cell_type": "code",
   "execution_count": 51,
   "metadata": {
    "collapsed": false
   },
   "outputs": [
    {
     "data": {
      "text/plain": [
       "342L"
      ]
     },
     "execution_count": 51,
     "metadata": {},
     "output_type": "execute_result"
    }
   ],
   "source": [
    "titanic['Survived'].sum()"
   ]
  },
  {
   "cell_type": "code",
   "execution_count": 52,
   "metadata": {
    "collapsed": false
   },
   "outputs": [
    {
     "data": {
      "text/html": [
       "<div>\n",
       "<table border=\"1\" class=\"dataframe\">\n",
       "  <thead>\n",
       "    <tr style=\"text-align: right;\">\n",
       "      <th></th>\n",
       "      <th>City</th>\n",
       "      <th>Edition</th>\n",
       "      <th>Sport</th>\n",
       "      <th>Discipline</th>\n",
       "      <th>Athlete</th>\n",
       "      <th>NOC</th>\n",
       "      <th>Gender</th>\n",
       "      <th>Event</th>\n",
       "      <th>Event_gender</th>\n",
       "      <th>Medal</th>\n",
       "    </tr>\n",
       "  </thead>\n",
       "  <tbody>\n",
       "    <tr>\n",
       "      <th>0</th>\n",
       "      <td>Athens</td>\n",
       "      <td>1896</td>\n",
       "      <td>Aquatics</td>\n",
       "      <td>Swimming</td>\n",
       "      <td>HAJOS, Alfred</td>\n",
       "      <td>HUN</td>\n",
       "      <td>Men</td>\n",
       "      <td>100m freestyle</td>\n",
       "      <td>M</td>\n",
       "      <td>Gold</td>\n",
       "    </tr>\n",
       "    <tr>\n",
       "      <th>1</th>\n",
       "      <td>Athens</td>\n",
       "      <td>1896</td>\n",
       "      <td>Aquatics</td>\n",
       "      <td>Swimming</td>\n",
       "      <td>HERSCHMANN, Otto</td>\n",
       "      <td>AUT</td>\n",
       "      <td>Men</td>\n",
       "      <td>100m freestyle</td>\n",
       "      <td>M</td>\n",
       "      <td>Silver</td>\n",
       "    </tr>\n",
       "    <tr>\n",
       "      <th>2</th>\n",
       "      <td>Athens</td>\n",
       "      <td>1896</td>\n",
       "      <td>Aquatics</td>\n",
       "      <td>Swimming</td>\n",
       "      <td>DRIVAS, Dimitrios</td>\n",
       "      <td>GRE</td>\n",
       "      <td>Men</td>\n",
       "      <td>100m freestyle for sailors</td>\n",
       "      <td>M</td>\n",
       "      <td>Bronze</td>\n",
       "    </tr>\n",
       "    <tr>\n",
       "      <th>3</th>\n",
       "      <td>Athens</td>\n",
       "      <td>1896</td>\n",
       "      <td>Aquatics</td>\n",
       "      <td>Swimming</td>\n",
       "      <td>MALOKINIS, Ioannis</td>\n",
       "      <td>GRE</td>\n",
       "      <td>Men</td>\n",
       "      <td>100m freestyle for sailors</td>\n",
       "      <td>M</td>\n",
       "      <td>Gold</td>\n",
       "    </tr>\n",
       "    <tr>\n",
       "      <th>4</th>\n",
       "      <td>Athens</td>\n",
       "      <td>1896</td>\n",
       "      <td>Aquatics</td>\n",
       "      <td>Swimming</td>\n",
       "      <td>CHASAPIS, Spiridon</td>\n",
       "      <td>GRE</td>\n",
       "      <td>Men</td>\n",
       "      <td>100m freestyle for sailors</td>\n",
       "      <td>M</td>\n",
       "      <td>Silver</td>\n",
       "    </tr>\n",
       "  </tbody>\n",
       "</table>\n",
       "</div>"
      ],
      "text/plain": [
       "     City  Edition     Sport Discipline             Athlete  NOC Gender  \\\n",
       "0  Athens     1896  Aquatics   Swimming       HAJOS, Alfred  HUN    Men   \n",
       "1  Athens     1896  Aquatics   Swimming    HERSCHMANN, Otto  AUT    Men   \n",
       "2  Athens     1896  Aquatics   Swimming   DRIVAS, Dimitrios  GRE    Men   \n",
       "3  Athens     1896  Aquatics   Swimming  MALOKINIS, Ioannis  GRE    Men   \n",
       "4  Athens     1896  Aquatics   Swimming  CHASAPIS, Spiridon  GRE    Men   \n",
       "\n",
       "                        Event Event_gender   Medal  \n",
       "0              100m freestyle            M    Gold  \n",
       "1              100m freestyle            M  Silver  \n",
       "2  100m freestyle for sailors            M  Bronze  \n",
       "3  100m freestyle for sailors            M    Gold  \n",
       "4  100m freestyle for sailors            M  Silver  "
      ]
     },
     "execution_count": 52,
     "metadata": {},
     "output_type": "execute_result"
    }
   ],
   "source": [
    "medals= pd.read_csv('../../pdacookbook/data/olympicmedals.csv')\n",
    "medals.head()"
   ]
  },
  {
   "cell_type": "code",
   "execution_count": 53,
   "metadata": {
    "collapsed": false
   },
   "outputs": [
    {
     "data": {
      "text/plain": [
       "(29216, 10)"
      ]
     },
     "execution_count": 53,
     "metadata": {},
     "output_type": "execute_result"
    }
   ],
   "source": [
    "medals.shape"
   ]
  },
  {
   "cell_type": "code",
   "execution_count": 54,
   "metadata": {
    "collapsed": false
   },
   "outputs": [
    {
     "data": {
      "text/plain": [
       "USA    4335\n",
       "URS    2049\n",
       "GBR    1594\n",
       "FRA    1314\n",
       "ITA    1228\n",
       "GER    1211\n",
       "AUS    1075\n",
       "HUN    1053\n",
       "SWE    1021\n",
       "GDR     825\n",
       "NED     782\n",
       "JPN     704\n",
       "CHN     679\n",
       "RUS     638\n",
       "ROU     624\n",
       "CAN     592\n",
       "NOR     537\n",
       "POL     499\n",
       "DEN     491\n",
       "FRG     490\n",
       "dtype: int64"
      ]
     },
     "execution_count": 54,
     "metadata": {},
     "output_type": "execute_result"
    }
   ],
   "source": [
    "medals['NOC'].value_counts().head(20)"
   ]
  },
  {
   "cell_type": "code",
   "execution_count": 55,
   "metadata": {
    "collapsed": false
   },
   "outputs": [
    {
     "data": {
      "text/html": [
       "<div>\n",
       "<table border=\"1\" class=\"dataframe\">\n",
       "  <thead>\n",
       "    <tr style=\"text-align: right;\">\n",
       "      <th></th>\n",
       "      <th>Year</th>\n",
       "      <th>Player</th>\n",
       "      <th>Salary</th>\n",
       "      <th>Position</th>\n",
       "      <th>Team</th>\n",
       "    </tr>\n",
       "  </thead>\n",
       "  <tbody>\n",
       "    <tr>\n",
       "      <th>0</th>\n",
       "      <td>1988</td>\n",
       "      <td>Mike Witt</td>\n",
       "      <td>1400000</td>\n",
       "      <td>Pitcher</td>\n",
       "      <td>Los Angeles Angels</td>\n",
       "    </tr>\n",
       "    <tr>\n",
       "      <th>1</th>\n",
       "      <td>1988</td>\n",
       "      <td>George Hendrick</td>\n",
       "      <td>989333</td>\n",
       "      <td>Outfielder</td>\n",
       "      <td>Los Angeles Angels</td>\n",
       "    </tr>\n",
       "    <tr>\n",
       "      <th>2</th>\n",
       "      <td>1988</td>\n",
       "      <td>Chili Davis</td>\n",
       "      <td>950000</td>\n",
       "      <td>Outfielder</td>\n",
       "      <td>Los Angeles Angels</td>\n",
       "    </tr>\n",
       "    <tr>\n",
       "      <th>3</th>\n",
       "      <td>1988</td>\n",
       "      <td>Brian Downing</td>\n",
       "      <td>900000</td>\n",
       "      <td>Designated Hitter</td>\n",
       "      <td>Los Angeles Angels</td>\n",
       "    </tr>\n",
       "    <tr>\n",
       "      <th>4</th>\n",
       "      <td>1988</td>\n",
       "      <td>Bob Boone</td>\n",
       "      <td>883000</td>\n",
       "      <td>Catcher</td>\n",
       "      <td>Los Angeles Angels</td>\n",
       "    </tr>\n",
       "  </tbody>\n",
       "</table>\n",
       "</div>"
      ],
      "text/plain": [
       "   Year           Player   Salary           Position                Team\n",
       "0  1988        Mike Witt  1400000            Pitcher  Los Angeles Angels\n",
       "1  1988  George Hendrick   989333         Outfielder  Los Angeles Angels\n",
       "2  1988      Chili Davis   950000         Outfielder  Los Angeles Angels\n",
       "3  1988    Brian Downing   900000  Designated Hitter  Los Angeles Angels\n",
       "4  1988        Bob Boone   883000            Catcher  Los Angeles Angels"
      ]
     },
     "execution_count": 55,
     "metadata": {},
     "output_type": "execute_result"
    }
   ],
   "source": [
    "mlb= pd.read_csv('../../pdacookbook/data/mlbsalaries.csv')\n",
    "mlb.head()"
   ]
  },
  {
   "cell_type": "code",
   "execution_count": 56,
   "metadata": {
    "collapsed": true
   },
   "outputs": [],
   "source": [
    "del medals, titanic"
   ]
  },
  {
   "cell_type": "code",
   "execution_count": 57,
   "metadata": {
    "collapsed": false
   },
   "outputs": [
    {
     "data": {
      "text/html": [
       "<div>\n",
       "<table border=\"1\" class=\"dataframe\">\n",
       "  <thead>\n",
       "    <tr style=\"text-align: right;\">\n",
       "      <th></th>\n",
       "      <th>Year</th>\n",
       "      <th>Player</th>\n",
       "      <th>Salary</th>\n",
       "      <th>Position</th>\n",
       "      <th>Team</th>\n",
       "    </tr>\n",
       "  </thead>\n",
       "  <tbody>\n",
       "    <tr>\n",
       "      <th>19538</th>\n",
       "      <td>2011</td>\n",
       "      <td>Gustavo Molina</td>\n",
       "      <td>455000</td>\n",
       "      <td>Catcher</td>\n",
       "      <td>New York Yankees</td>\n",
       "    </tr>\n",
       "    <tr>\n",
       "      <th>19539</th>\n",
       "      <td>2011</td>\n",
       "      <td>Ivan Nova</td>\n",
       "      <td>432900</td>\n",
       "      <td>Pitcher</td>\n",
       "      <td>New York Yankees</td>\n",
       "    </tr>\n",
       "    <tr>\n",
       "      <th>19540</th>\n",
       "      <td>2011</td>\n",
       "      <td>Colin Curtis</td>\n",
       "      <td>420400</td>\n",
       "      <td>Outfielder</td>\n",
       "      <td>New York Yankees</td>\n",
       "    </tr>\n",
       "    <tr>\n",
       "      <th>19541</th>\n",
       "      <td>2011</td>\n",
       "      <td>Eduardo Nunez</td>\n",
       "      <td>419300</td>\n",
       "      <td>Shortstop</td>\n",
       "      <td>New York Yankees</td>\n",
       "    </tr>\n",
       "    <tr>\n",
       "      <th>19542</th>\n",
       "      <td>2011</td>\n",
       "      <td>Reegie Corona</td>\n",
       "      <td>414000</td>\n",
       "      <td>Second Baseman</td>\n",
       "      <td>New York Yankees</td>\n",
       "    </tr>\n",
       "  </tbody>\n",
       "</table>\n",
       "</div>"
      ],
      "text/plain": [
       "       Year          Player  Salary        Position              Team\n",
       "19538  2011  Gustavo Molina  455000         Catcher  New York Yankees\n",
       "19539  2011       Ivan Nova  432900         Pitcher  New York Yankees\n",
       "19540  2011    Colin Curtis  420400      Outfielder  New York Yankees\n",
       "19541  2011   Eduardo Nunez  419300       Shortstop  New York Yankees\n",
       "19542  2011   Reegie Corona  414000  Second Baseman  New York Yankees"
      ]
     },
     "execution_count": 57,
     "metadata": {},
     "output_type": "execute_result"
    }
   ],
   "source": [
    "mlb.tail()"
   ]
  },
  {
   "cell_type": "code",
   "execution_count": 58,
   "metadata": {
    "collapsed": false
   },
   "outputs": [
    {
     "data": {
      "text/plain": [
       "1990    972\n",
       "1999    919\n",
       "2008    858\n",
       "2001    857\n",
       "2002    849\n",
       "2007    848\n",
       "1998    846\n",
       "2011    843\n",
       "2000    843\n",
       "2004    833\n",
       "2005    831\n",
       "2010    828\n",
       "2003    826\n",
       "2006    823\n",
       "2009    818\n",
       "1995    805\n",
       "1993    786\n",
       "1997    773\n",
       "1996    768\n",
       "1992    753\n",
       "1994    748\n",
       "1991    720\n",
       "1989    710\n",
       "1988    686\n",
       "dtype: int64"
      ]
     },
     "execution_count": 58,
     "metadata": {},
     "output_type": "execute_result"
    }
   ],
   "source": [
    "mlb['Year'].value_counts()"
   ]
  },
  {
   "cell_type": "code",
   "execution_count": 59,
   "metadata": {
    "collapsed": false
   },
   "outputs": [
    {
     "data": {
      "text/plain": [
       "Pitcher              9160\n",
       "Outfielder           3785\n",
       "Catcher              1664\n",
       "Shortstop            1331\n",
       "Second Baseman       1216\n",
       "Third Baseman        1139\n",
       "First Baseman        1118\n",
       "Designated Hitter     109\n",
       "Infielder              21\n",
       "dtype: int64"
      ]
     },
     "execution_count": 59,
     "metadata": {},
     "output_type": "execute_result"
    }
   ],
   "source": [
    "mlb['Position'].value_counts()"
   ]
  },
  {
   "cell_type": "code",
   "execution_count": 60,
   "metadata": {
    "collapsed": false
   },
   "outputs": [
    {
     "data": {
      "text/plain": [
       "Texas Rangers            711\n",
       "Los Angeles Dodgers      698\n",
       "Los Angeles Angels       695\n",
       "Philadelphia Phillies    695\n",
       "St. Louis Cardinals      693\n",
       "Cleveland Indians        693\n",
       "Boston Red Sox           692\n",
       "Milwaukee Brewers        690\n",
       "Washington Nationals     687\n",
       "New York Yankees         685\n",
       "Baltimore Orioles        684\n",
       "Seattle Mariners         684\n",
       "Toronto Blue Jays        683\n",
       "Atlanta Braves           683\n",
       "Cincinnati Reds          681\n",
       "San Francisco Giants     678\n",
       "Detroit Tigers           676\n",
       "New York Mets            676\n",
       "Kansas City Royals       674\n",
       "Oakland Athletics        674\n",
       "San Diego Padres         673\n",
       "Pittsburgh Pirates       669\n",
       "Chicago Cubs             663\n",
       "Houston Astros           660\n",
       "Minnesota Twins          650\n",
       "Chicago White Sox        648\n",
       "Florida Marlins          533\n",
       "Colorado Rockies         528\n",
       "Tampa Bay Rays           398\n",
       "Arizona Diamondbacks     389\n",
       "dtype: int64"
      ]
     },
     "execution_count": 60,
     "metadata": {},
     "output_type": "execute_result"
    }
   ],
   "source": [
    "mlb['Team'].value_counts()"
   ]
  },
  {
   "cell_type": "code",
   "execution_count": 61,
   "metadata": {
    "collapsed": false
   },
   "outputs": [
    {
     "data": {
      "text/html": [
       "<div>\n",
       "<table border=\"1\" class=\"dataframe\">\n",
       "  <thead>\n",
       "    <tr style=\"text-align: right;\">\n",
       "      <th></th>\n",
       "      <th>Year</th>\n",
       "      <th>Player</th>\n",
       "      <th>Salary</th>\n",
       "      <th>Position</th>\n",
       "      <th>Team</th>\n",
       "    </tr>\n",
       "  </thead>\n",
       "  <tbody>\n",
       "    <tr>\n",
       "      <th>17872</th>\n",
       "      <td>2010</td>\n",
       "      <td>Torii Hunter</td>\n",
       "      <td>18500000</td>\n",
       "      <td>Outfielder</td>\n",
       "      <td>Los Angeles Angels</td>\n",
       "    </tr>\n",
       "    <tr>\n",
       "      <th>17873</th>\n",
       "      <td>2010</td>\n",
       "      <td>Bobby Abreu</td>\n",
       "      <td>9000000</td>\n",
       "      <td>Outfielder</td>\n",
       "      <td>Los Angeles Angels</td>\n",
       "    </tr>\n",
       "    <tr>\n",
       "      <th>17874</th>\n",
       "      <td>2010</td>\n",
       "      <td>Brian Fuentes</td>\n",
       "      <td>9000000</td>\n",
       "      <td>Pitcher</td>\n",
       "      <td>Los Angeles Angels</td>\n",
       "    </tr>\n",
       "    <tr>\n",
       "      <th>17875</th>\n",
       "      <td>2010</td>\n",
       "      <td>Scott Kazmir</td>\n",
       "      <td>8000000</td>\n",
       "      <td>Pitcher</td>\n",
       "      <td>Los Angeles Angels</td>\n",
       "    </tr>\n",
       "    <tr>\n",
       "      <th>17876</th>\n",
       "      <td>2010</td>\n",
       "      <td>Joel Pineiro</td>\n",
       "      <td>8000000</td>\n",
       "      <td>Pitcher</td>\n",
       "      <td>Los Angeles Angels</td>\n",
       "    </tr>\n",
       "  </tbody>\n",
       "</table>\n",
       "</div>"
      ],
      "text/plain": [
       "       Year         Player    Salary    Position                Team\n",
       "17872  2010   Torii Hunter  18500000  Outfielder  Los Angeles Angels\n",
       "17873  2010    Bobby Abreu   9000000  Outfielder  Los Angeles Angels\n",
       "17874  2010  Brian Fuentes   9000000     Pitcher  Los Angeles Angels\n",
       "17875  2010   Scott Kazmir   8000000     Pitcher  Los Angeles Angels\n",
       "17876  2010   Joel Pineiro   8000000     Pitcher  Los Angeles Angels"
      ]
     },
     "execution_count": 61,
     "metadata": {},
     "output_type": "execute_result"
    }
   ],
   "source": [
    "yr2010= mlb[mlb['Year']==2010]\n",
    "yr2010.head()"
   ]
  },
  {
   "cell_type": "code",
   "execution_count": 62,
   "metadata": {
    "collapsed": false
   },
   "outputs": [
    {
     "data": {
      "text/html": [
       "<div>\n",
       "<table border=\"1\" class=\"dataframe\">\n",
       "  <thead>\n",
       "    <tr style=\"text-align: right;\">\n",
       "      <th></th>\n",
       "      <th>Year</th>\n",
       "      <th>Salary</th>\n",
       "      <th>Position</th>\n",
       "      <th>Team</th>\n",
       "    </tr>\n",
       "    <tr>\n",
       "      <th>Player</th>\n",
       "      <th></th>\n",
       "      <th></th>\n",
       "      <th></th>\n",
       "      <th></th>\n",
       "    </tr>\n",
       "  </thead>\n",
       "  <tbody>\n",
       "    <tr>\n",
       "      <th>Torii Hunter</th>\n",
       "      <td>2010</td>\n",
       "      <td>18500000</td>\n",
       "      <td>Outfielder</td>\n",
       "      <td>Los Angeles Angels</td>\n",
       "    </tr>\n",
       "    <tr>\n",
       "      <th>Bobby Abreu</th>\n",
       "      <td>2010</td>\n",
       "      <td>9000000</td>\n",
       "      <td>Outfielder</td>\n",
       "      <td>Los Angeles Angels</td>\n",
       "    </tr>\n",
       "    <tr>\n",
       "      <th>Brian Fuentes</th>\n",
       "      <td>2010</td>\n",
       "      <td>9000000</td>\n",
       "      <td>Pitcher</td>\n",
       "      <td>Los Angeles Angels</td>\n",
       "    </tr>\n",
       "    <tr>\n",
       "      <th>Scott Kazmir</th>\n",
       "      <td>2010</td>\n",
       "      <td>8000000</td>\n",
       "      <td>Pitcher</td>\n",
       "      <td>Los Angeles Angels</td>\n",
       "    </tr>\n",
       "    <tr>\n",
       "      <th>Joel Pineiro</th>\n",
       "      <td>2010</td>\n",
       "      <td>8000000</td>\n",
       "      <td>Pitcher</td>\n",
       "      <td>Los Angeles Angels</td>\n",
       "    </tr>\n",
       "  </tbody>\n",
       "</table>\n",
       "</div>"
      ],
      "text/plain": [
       "               Year    Salary    Position                Team\n",
       "Player                                                       \n",
       "Torii Hunter   2010  18500000  Outfielder  Los Angeles Angels\n",
       "Bobby Abreu    2010   9000000  Outfielder  Los Angeles Angels\n",
       "Brian Fuentes  2010   9000000     Pitcher  Los Angeles Angels\n",
       "Scott Kazmir   2010   8000000     Pitcher  Los Angeles Angels\n",
       "Joel Pineiro   2010   8000000     Pitcher  Los Angeles Angels"
      ]
     },
     "execution_count": 62,
     "metadata": {},
     "output_type": "execute_result"
    }
   ],
   "source": [
    "yr2010.set_index('Player', inplace=True)\n",
    "yr2010.head()"
   ]
  },
  {
   "cell_type": "code",
   "execution_count": 63,
   "metadata": {
    "collapsed": false
   },
   "outputs": [
    {
     "data": {
      "text/html": [
       "<div>\n",
       "<table border=\"1\" class=\"dataframe\">\n",
       "  <thead>\n",
       "    <tr style=\"text-align: right;\">\n",
       "      <th></th>\n",
       "      <th>Year</th>\n",
       "      <th>Salary</th>\n",
       "      <th>Position</th>\n",
       "      <th>Team</th>\n",
       "    </tr>\n",
       "    <tr>\n",
       "      <th>Player</th>\n",
       "      <th></th>\n",
       "      <th></th>\n",
       "      <th></th>\n",
       "      <th></th>\n",
       "    </tr>\n",
       "  </thead>\n",
       "  <tbody>\n",
       "    <tr>\n",
       "      <th>A.J. Burnett</th>\n",
       "      <td>2010</td>\n",
       "      <td>16500000</td>\n",
       "      <td>Pitcher</td>\n",
       "      <td>New York Yankees</td>\n",
       "    </tr>\n",
       "    <tr>\n",
       "      <th>A.J. Pierzynski</th>\n",
       "      <td>2010</td>\n",
       "      <td>6750000</td>\n",
       "      <td>Catcher</td>\n",
       "      <td>Chicago White Sox</td>\n",
       "    </tr>\n",
       "    <tr>\n",
       "      <th>Aaron Cook</th>\n",
       "      <td>2010</td>\n",
       "      <td>9625000</td>\n",
       "      <td>Pitcher</td>\n",
       "      <td>Colorado Rockies</td>\n",
       "    </tr>\n",
       "    <tr>\n",
       "      <th>Aaron Harang</th>\n",
       "      <td>2010</td>\n",
       "      <td>12500000</td>\n",
       "      <td>Pitcher</td>\n",
       "      <td>Cincinnati Reds</td>\n",
       "    </tr>\n",
       "    <tr>\n",
       "      <th>Aaron Heilman</th>\n",
       "      <td>2010</td>\n",
       "      <td>2150000</td>\n",
       "      <td>Pitcher</td>\n",
       "      <td>Arizona Diamondbacks</td>\n",
       "    </tr>\n",
       "  </tbody>\n",
       "</table>\n",
       "</div>"
      ],
      "text/plain": [
       "                 Year    Salary Position                  Team\n",
       "Player                                                        \n",
       "A.J. Burnett     2010  16500000  Pitcher      New York Yankees\n",
       "A.J. Pierzynski  2010   6750000  Catcher     Chicago White Sox\n",
       "Aaron Cook       2010   9625000  Pitcher      Colorado Rockies\n",
       "Aaron Harang     2010  12500000  Pitcher       Cincinnati Reds\n",
       "Aaron Heilman    2010   2150000  Pitcher  Arizona Diamondbacks"
      ]
     },
     "execution_count": 63,
     "metadata": {},
     "output_type": "execute_result"
    }
   ],
   "source": [
    "yr2010= yr2010.sort_index()\n",
    "yr2010.head()"
   ]
  },
  {
   "cell_type": "code",
   "execution_count": 64,
   "metadata": {
    "collapsed": false
   },
   "outputs": [
    {
     "data": {
      "text/html": [
       "<div>\n",
       "<table border=\"1\" class=\"dataframe\">\n",
       "  <thead>\n",
       "    <tr style=\"text-align: right;\">\n",
       "      <th></th>\n",
       "      <th>Position</th>\n",
       "      <th>Salary</th>\n",
       "      <th>Team</th>\n",
       "      <th>Year</th>\n",
       "    </tr>\n",
       "    <tr>\n",
       "      <th>Player</th>\n",
       "      <th></th>\n",
       "      <th></th>\n",
       "      <th></th>\n",
       "      <th></th>\n",
       "    </tr>\n",
       "  </thead>\n",
       "  <tbody>\n",
       "    <tr>\n",
       "      <th>A.J. Burnett</th>\n",
       "      <td>Pitcher</td>\n",
       "      <td>16500000</td>\n",
       "      <td>New York Yankees</td>\n",
       "      <td>2010</td>\n",
       "    </tr>\n",
       "    <tr>\n",
       "      <th>A.J. Pierzynski</th>\n",
       "      <td>Catcher</td>\n",
       "      <td>6750000</td>\n",
       "      <td>Chicago White Sox</td>\n",
       "      <td>2010</td>\n",
       "    </tr>\n",
       "    <tr>\n",
       "      <th>Aaron Cook</th>\n",
       "      <td>Pitcher</td>\n",
       "      <td>9625000</td>\n",
       "      <td>Colorado Rockies</td>\n",
       "      <td>2010</td>\n",
       "    </tr>\n",
       "    <tr>\n",
       "      <th>Aaron Harang</th>\n",
       "      <td>Pitcher</td>\n",
       "      <td>12500000</td>\n",
       "      <td>Cincinnati Reds</td>\n",
       "      <td>2010</td>\n",
       "    </tr>\n",
       "    <tr>\n",
       "      <th>Aaron Heilman</th>\n",
       "      <td>Pitcher</td>\n",
       "      <td>2150000</td>\n",
       "      <td>Arizona Diamondbacks</td>\n",
       "      <td>2010</td>\n",
       "    </tr>\n",
       "  </tbody>\n",
       "</table>\n",
       "</div>"
      ],
      "text/plain": [
       "                Position    Salary                  Team  Year\n",
       "Player                                                        \n",
       "A.J. Burnett     Pitcher  16500000      New York Yankees  2010\n",
       "A.J. Pierzynski  Catcher   6750000     Chicago White Sox  2010\n",
       "Aaron Cook       Pitcher   9625000      Colorado Rockies  2010\n",
       "Aaron Harang     Pitcher  12500000       Cincinnati Reds  2010\n",
       "Aaron Heilman    Pitcher   2150000  Arizona Diamondbacks  2010"
      ]
     },
     "execution_count": 64,
     "metadata": {},
     "output_type": "execute_result"
    }
   ],
   "source": [
    "yr2010= yr2010.sort_index(axis= 1)\n",
    "yr2010.head()"
   ]
  },
  {
   "cell_type": "code",
   "execution_count": 65,
   "metadata": {
    "collapsed": false
   },
   "outputs": [
    {
     "data": {
      "text/plain": [
       "Player\n",
       "Alex Rodriguez    33000000\n",
       "CC Sabathia       24285714\n",
       "Derek Jeter       22600000\n",
       "Mark Teixeira     20625000\n",
       "Johan Santana     20144707\n",
       "Name: Salary, dtype: int64"
      ]
     },
     "execution_count": 65,
     "metadata": {},
     "output_type": "execute_result"
    }
   ],
   "source": [
    "y1= yr2010['Salary'].order(ascending=False)\n",
    "y1.head()"
   ]
  },
  {
   "cell_type": "code",
   "execution_count": 66,
   "metadata": {
    "collapsed": false
   },
   "outputs": [
    {
     "data": {
      "text/html": [
       "<div>\n",
       "<table border=\"1\" class=\"dataframe\">\n",
       "  <thead>\n",
       "    <tr style=\"text-align: right;\">\n",
       "      <th></th>\n",
       "      <th>Position</th>\n",
       "      <th>Salary</th>\n",
       "      <th>Team</th>\n",
       "      <th>Year</th>\n",
       "    </tr>\n",
       "    <tr>\n",
       "      <th>Player</th>\n",
       "      <th></th>\n",
       "      <th></th>\n",
       "      <th></th>\n",
       "      <th></th>\n",
       "    </tr>\n",
       "  </thead>\n",
       "  <tbody>\n",
       "    <tr>\n",
       "      <th>Alex Rodriguez</th>\n",
       "      <td>Third Baseman</td>\n",
       "      <td>33000000</td>\n",
       "      <td>New York Yankees</td>\n",
       "      <td>2010</td>\n",
       "    </tr>\n",
       "    <tr>\n",
       "      <th>CC Sabathia</th>\n",
       "      <td>Pitcher</td>\n",
       "      <td>24285714</td>\n",
       "      <td>New York Yankees</td>\n",
       "      <td>2010</td>\n",
       "    </tr>\n",
       "    <tr>\n",
       "      <th>Derek Jeter</th>\n",
       "      <td>Shortstop</td>\n",
       "      <td>22600000</td>\n",
       "      <td>New York Yankees</td>\n",
       "      <td>2010</td>\n",
       "    </tr>\n",
       "    <tr>\n",
       "      <th>Mark Teixeira</th>\n",
       "      <td>First Baseman</td>\n",
       "      <td>20625000</td>\n",
       "      <td>New York Yankees</td>\n",
       "      <td>2010</td>\n",
       "    </tr>\n",
       "    <tr>\n",
       "      <th>Johan Santana</th>\n",
       "      <td>Pitcher</td>\n",
       "      <td>20144707</td>\n",
       "      <td>New York Mets</td>\n",
       "      <td>2010</td>\n",
       "    </tr>\n",
       "    <tr>\n",
       "      <th>Miguel Cabrera</th>\n",
       "      <td>First Baseman</td>\n",
       "      <td>20000000</td>\n",
       "      <td>Detroit Tigers</td>\n",
       "      <td>2010</td>\n",
       "    </tr>\n",
       "    <tr>\n",
       "      <th>Carlos Beltran</th>\n",
       "      <td>Outfielder</td>\n",
       "      <td>19401569</td>\n",
       "      <td>New York Mets</td>\n",
       "      <td>2010</td>\n",
       "    </tr>\n",
       "    <tr>\n",
       "      <th>Ryan Howard</th>\n",
       "      <td>First Baseman</td>\n",
       "      <td>19000000</td>\n",
       "      <td>Philadelphia Phillies</td>\n",
       "      <td>2010</td>\n",
       "    </tr>\n",
       "    <tr>\n",
       "      <th>Alfonso Soriano</th>\n",
       "      <td>Outfielder</td>\n",
       "      <td>19000000</td>\n",
       "      <td>Chicago Cubs</td>\n",
       "      <td>2010</td>\n",
       "    </tr>\n",
       "    <tr>\n",
       "      <th>Carlos Lee</th>\n",
       "      <td>Outfielder</td>\n",
       "      <td>19000000</td>\n",
       "      <td>Houston Astros</td>\n",
       "      <td>2010</td>\n",
       "    </tr>\n",
       "  </tbody>\n",
       "</table>\n",
       "</div>"
      ],
      "text/plain": [
       "                      Position    Salary                   Team  Year\n",
       "Player                                                               \n",
       "Alex Rodriguez   Third Baseman  33000000       New York Yankees  2010\n",
       "CC Sabathia            Pitcher  24285714       New York Yankees  2010\n",
       "Derek Jeter          Shortstop  22600000       New York Yankees  2010\n",
       "Mark Teixeira    First Baseman  20625000       New York Yankees  2010\n",
       "Johan Santana          Pitcher  20144707          New York Mets  2010\n",
       "Miguel Cabrera   First Baseman  20000000         Detroit Tigers  2010\n",
       "Carlos Beltran      Outfielder  19401569          New York Mets  2010\n",
       "Ryan Howard      First Baseman  19000000  Philadelphia Phillies  2010\n",
       "Alfonso Soriano     Outfielder  19000000           Chicago Cubs  2010\n",
       "Carlos Lee          Outfielder  19000000         Houston Astros  2010"
      ]
     },
     "execution_count": 66,
     "metadata": {},
     "output_type": "execute_result"
    }
   ],
   "source": [
    "yr2010= yr2010.sort_index(ascending=False, by= ['Salary'])\n",
    "yr2010.head(10)"
   ]
  },
  {
   "cell_type": "code",
   "execution_count": 67,
   "metadata": {
    "collapsed": false
   },
   "outputs": [
    {
     "data": {
      "text/html": [
       "<div>\n",
       "<table border=\"1\" class=\"dataframe\">\n",
       "  <thead>\n",
       "    <tr style=\"text-align: right;\">\n",
       "      <th></th>\n",
       "      <th>Position</th>\n",
       "      <th>Salary</th>\n",
       "      <th>Team</th>\n",
       "      <th>Year</th>\n",
       "    </tr>\n",
       "    <tr>\n",
       "      <th>Player</th>\n",
       "      <th></th>\n",
       "      <th></th>\n",
       "      <th></th>\n",
       "      <th></th>\n",
       "    </tr>\n",
       "  </thead>\n",
       "  <tbody>\n",
       "    <tr>\n",
       "      <th>Alex Rodriguez</th>\n",
       "      <td>Third Baseman</td>\n",
       "      <td>33000000</td>\n",
       "      <td>New York Yankees</td>\n",
       "      <td>2010</td>\n",
       "    </tr>\n",
       "    <tr>\n",
       "      <th>CC Sabathia</th>\n",
       "      <td>Pitcher</td>\n",
       "      <td>24285714</td>\n",
       "      <td>New York Yankees</td>\n",
       "      <td>2010</td>\n",
       "    </tr>\n",
       "    <tr>\n",
       "      <th>Derek Jeter</th>\n",
       "      <td>Shortstop</td>\n",
       "      <td>22600000</td>\n",
       "      <td>New York Yankees</td>\n",
       "      <td>2010</td>\n",
       "    </tr>\n",
       "    <tr>\n",
       "      <th>Mark Teixeira</th>\n",
       "      <td>First Baseman</td>\n",
       "      <td>20625000</td>\n",
       "      <td>New York Yankees</td>\n",
       "      <td>2010</td>\n",
       "    </tr>\n",
       "    <tr>\n",
       "      <th>Johan Santana</th>\n",
       "      <td>Pitcher</td>\n",
       "      <td>20144707</td>\n",
       "      <td>New York Mets</td>\n",
       "      <td>2010</td>\n",
       "    </tr>\n",
       "    <tr>\n",
       "      <th>Miguel Cabrera</th>\n",
       "      <td>First Baseman</td>\n",
       "      <td>20000000</td>\n",
       "      <td>Detroit Tigers</td>\n",
       "      <td>2010</td>\n",
       "    </tr>\n",
       "    <tr>\n",
       "      <th>Carlos Beltran</th>\n",
       "      <td>Outfielder</td>\n",
       "      <td>19401569</td>\n",
       "      <td>New York Mets</td>\n",
       "      <td>2010</td>\n",
       "    </tr>\n",
       "    <tr>\n",
       "      <th>Alfonso Soriano</th>\n",
       "      <td>Outfielder</td>\n",
       "      <td>19000000</td>\n",
       "      <td>Chicago Cubs</td>\n",
       "      <td>2010</td>\n",
       "    </tr>\n",
       "    <tr>\n",
       "      <th>Carlos Lee</th>\n",
       "      <td>Outfielder</td>\n",
       "      <td>19000000</td>\n",
       "      <td>Houston Astros</td>\n",
       "      <td>2010</td>\n",
       "    </tr>\n",
       "    <tr>\n",
       "      <th>Ryan Howard</th>\n",
       "      <td>First Baseman</td>\n",
       "      <td>19000000</td>\n",
       "      <td>Philadelphia Phillies</td>\n",
       "      <td>2010</td>\n",
       "    </tr>\n",
       "  </tbody>\n",
       "</table>\n",
       "</div>"
      ],
      "text/plain": [
       "                      Position    Salary                   Team  Year\n",
       "Player                                                               \n",
       "Alex Rodriguez   Third Baseman  33000000       New York Yankees  2010\n",
       "CC Sabathia            Pitcher  24285714       New York Yankees  2010\n",
       "Derek Jeter          Shortstop  22600000       New York Yankees  2010\n",
       "Mark Teixeira    First Baseman  20625000       New York Yankees  2010\n",
       "Johan Santana          Pitcher  20144707          New York Mets  2010\n",
       "Miguel Cabrera   First Baseman  20000000         Detroit Tigers  2010\n",
       "Carlos Beltran      Outfielder  19401569          New York Mets  2010\n",
       "Alfonso Soriano     Outfielder  19000000           Chicago Cubs  2010\n",
       "Carlos Lee          Outfielder  19000000         Houston Astros  2010\n",
       "Ryan Howard      First Baseman  19000000  Philadelphia Phillies  2010"
      ]
     },
     "execution_count": 67,
     "metadata": {},
     "output_type": "execute_result"
    }
   ],
   "source": [
    "yr2010= yr2010.sort_index(ascending=[False, True], by= ['Salary','Team'])\n",
    "yr2010.head(10)"
   ]
  },
  {
   "cell_type": "code",
   "execution_count": 68,
   "metadata": {
    "collapsed": false
   },
   "outputs": [
    {
     "data": {
      "text/plain": [
       "Player\n",
       "Alex Rodriguez     33000000\n",
       "CC Sabathia        24285714\n",
       "Derek Jeter        22600000\n",
       "Mark Teixeira      20625000\n",
       "Johan Santana      20144707\n",
       "Miguel Cabrera     20000000\n",
       "Carlos Beltran     19401569\n",
       "Ryan Howard        19000000\n",
       "Alfonso Soriano    19000000\n",
       "Carlos Lee         19000000\n",
       "Name: Salary, dtype: int64"
      ]
     },
     "execution_count": 68,
     "metadata": {},
     "output_type": "execute_result"
    }
   ],
   "source": [
    "top10= yr2010['Salary'].order(ascending= False).head(10)\n",
    "top10"
   ]
  },
  {
   "cell_type": "code",
   "execution_count": 69,
   "metadata": {
    "collapsed": false,
    "scrolled": true
   },
   "outputs": [
    {
     "data": {
      "text/plain": [
       "<matplotlib.legend.Legend at 0xb0054f8c>"
      ]
     },
     "execution_count": 69,
     "metadata": {},
     "output_type": "execute_result"
    },
    {
     "data": {
      "image/png": "[encoded data removed]",
      "text/plain": [
       "<matplotlib.figure.Figure at 0xb0a0f08c>"
      ]
     },
     "metadata": {},
     "output_type": "display_data"
    }
   ],
   "source": [
    "%matplotlib inline \n",
    "import matplotlib.pyplot as plt\n",
    "plt.figure()\n",
    "top10.plot(kind= 'bar', label= 'Salaries in 2010')\n",
    "plt.legend()"
   ]
  },
  {
   "cell_type": "code",
   "execution_count": 70,
   "metadata": {
    "collapsed": false
   },
   "outputs": [
    {
     "data": {
      "text/plain": [
       "(19543, 5)"
      ]
     },
     "execution_count": 70,
     "metadata": {},
     "output_type": "execute_result"
    }
   ],
   "source": [
    "mlb.shape"
   ]
  },
  {
   "cell_type": "code",
   "execution_count": 71,
   "metadata": {
    "collapsed": false
   },
   "outputs": [],
   "source": [
    "grouped= mlb.groupby('Year')"
   ]
  },
  {
   "cell_type": "code",
   "execution_count": 72,
   "metadata": {
    "collapsed": false
   },
   "outputs": [
    {
     "data": {
      "text/plain": [
       "pandas.core.groupby.DataFrameGroupBy"
      ]
     },
     "execution_count": 72,
     "metadata": {},
     "output_type": "execute_result"
    }
   ],
   "source": [
    "type(grouped)"
   ]
  },
  {
   "cell_type": "code",
   "execution_count": 73,
   "metadata": {
    "collapsed": false
   },
   "outputs": [
    {
     "name": "stdout",
     "output_type": "stream",
     "text": [
      "1988\n",
      "   Year           Player   Salary           Position                Team\n",
      "0  1988        Mike Witt  1400000            Pitcher  Los Angeles Angels\n",
      "1  1988  George Hendrick   989333         Outfielder  Los Angeles Angels\n",
      "2  1988      Chili Davis   950000         Outfielder  Los Angeles Angels\n",
      "3  1988    Brian Downing   900000  Designated Hitter  Los Angeles Angels\n",
      "4  1988        Bob Boone   883000            Catcher  Los Angeles Angels\n",
      "1989\n",
      "     Year         Player   Salary    Position                Team\n",
      "686  1989      Mike Witt  1400000     Pitcher  Los Angeles Angels\n",
      "687  1989    Chili Davis  1275000  Outfielder  Los Angeles Angels\n",
      "688  1989  Brian Downing  1250000  Outfielder  Los Angeles Angels\n",
      "689  1989  Bert Blyleven  1225000     Pitcher  Los Angeles Angels\n",
      "690  1989  Lance Parrish  1000000     Catcher  Los Angeles Angels\n",
      "1990\n",
      "      Year         Player   Salary       Position                Team\n",
      "1396  1990  Lance Parrish  1916667        Catcher  Los Angeles Angels\n",
      "1397  1990  Mark Langston  1800000        Pitcher  Los Angeles Angels\n",
      "1398  1990   Wally Joyner  1750000  First Baseman  Los Angeles Angels\n",
      "1399  1990    Chili Davis  1375000     Outfielder  Los Angeles Angels\n",
      "1400  1990      Mike Witt  1300000        Pitcher  Los Angeles Angels\n",
      "1991\n",
      "      Year         Player   Salary       Position                Team\n",
      "2368  1991  Mark Langston  3550000        Pitcher  Los Angeles Angels\n",
      "2369  1991  Dave Winfield  3300000     Outfielder  Los Angeles Angels\n",
      "2370  1991    Gary Gaetti  2700000  Third Baseman  Los Angeles Angels\n",
      "2371  1991   Chuck Finley  2500000        Pitcher  Los Angeles Angels\n",
      "2372  1991  Lance Parrish  2416667        Catcher  Los Angeles Angels\n",
      "1992\n",
      "      Year         Player   Salary       Position                Team\n",
      "3088  1992   Chuck Finley  4375000        Pitcher  Los Angeles Angels\n",
      "3089  1992  Mark Langston  3550000        Pitcher  Los Angeles Angels\n",
      "3090  1992   Bryan Harvey  3125000        Pitcher  Los Angeles Angels\n",
      "3091  1992    Gary Gaetti  2700000  Third Baseman  Los Angeles Angels\n",
      "3092  1992  Lance Parrish  2416667        Catcher  Los Angeles Angels\n",
      "1993\n",
      "      Year         Player   Salary       Position                Team\n",
      "3841  1993   Chuck Finley  5375000        Pitcher  Los Angeles Angels\n",
      "3842  1993   Kelly Gruber  4333334  Third Baseman  Los Angeles Angels\n",
      "3843  1993  Mark Langston  3550000        Pitcher  Los Angeles Angels\n",
      "3844  1993    Gary Gaetti  3000000  Third Baseman  Los Angeles Angels\n",
      "3845  1993   Luis Polonia  2475000     Outfielder  Los Angeles Angels\n",
      "1994\n",
      "      Year         Player   Salary    Position                Team\n",
      "4627  1994   Chuck Finley  3875000     Pitcher  Los Angeles Angels\n",
      "4628  1994  Mark Langston  3550000     Pitcher  Los Angeles Angels\n",
      "4629  1994    Chili Davis  2400000  Outfielder  Los Angeles Angels\n",
      "4630  1994    Joe Magrane  1500000     Pitcher  Los Angeles Angels\n",
      "4631  1994     Spike Owen  1250000   Shortstop  Los Angeles Angels\n",
      "1995\n",
      "      Year         Player   Salary           Position                Team\n",
      "5375  1995  Mark Langston  5000000            Pitcher  Los Angeles Angels\n",
      "5376  1995   Chuck Finley  4875000            Pitcher  Los Angeles Angels\n",
      "5377  1995  Tony Phillips  4366667         Outfielder  Los Angeles Angels\n",
      "5378  1995    Chili Davis  3800000  Designated Hitter  Los Angeles Angels\n",
      "5379  1995     Spike Owen  3500000          Shortstop  Los Angeles Angels\n",
      "1996\n",
      "      Year         Player   Salary           Position                Team\n",
      "6180  1996  Mark Langston  5000000            Pitcher  Los Angeles Angels\n",
      "6181  1996    Chili Davis  3800000  Designated Hitter  Los Angeles Angels\n",
      "6182  1996   Chuck Finley  3000000            Pitcher  Los Angeles Angels\n",
      "6183  1996     Tim Salmon  2500000         Outfielder  Los Angeles Angels\n",
      "6184  1996     Jim Abbott  2200000            Pitcher  Los Angeles Angels\n",
      "1997\n",
      "      Year          Player   Salary    Position                Team\n",
      "6948  1997    Chuck Finley  4000000     Pitcher  Los Angeles Angels\n",
      "6949  1997   Mark Langston  4000000     Pitcher  Los Angeles Angels\n",
      "6950  1997      Tim Salmon  3500000  Outfielder  Los Angeles Angels\n",
      "6951  1997  Gary DiSarcina  2600000   Shortstop  Los Angeles Angels\n",
      "6952  1997     Jim Edmonds  2100000  Outfielder  Los Angeles Angels\n",
      "1998\n",
      "      Year        Player   Salary    Position                Team\n",
      "7721  1998  Chuck Finley  5000000     Pitcher  Los Angeles Angels\n",
      "7722  1998      Ken Hill  5000000     Pitcher  Los Angeles Angels\n",
      "7723  1998    Tim Salmon  5000000  Outfielder  Los Angeles Angels\n",
      "7724  1998  Allen Watson  2900000     Pitcher  Los Angeles Angels\n",
      "7725  1998   Jim Edmonds  2800000  Outfielder  Los Angeles Angels\n",
      "1999\n",
      "      Year        Player   Salary       Position                Team\n",
      "8567  1999     Mo Vaughn  7166666  First Baseman  Los Angeles Angels\n",
      "8568  1999  Chuck Finley  5800000        Pitcher  Los Angeles Angels\n",
      "8569  1999      Ken Hill  5500000        Pitcher  Los Angeles Angels\n",
      "8570  1999    Tim Salmon  5500000     Outfielder  Los Angeles Angels\n",
      "8571  1999   Tim Belcher  4650000        Pitcher  Los Angeles Angels\n",
      "2000\n",
      "      Year            Player    Salary       Position                Team\n",
      "9486  2000         Mo Vaughn  11166667  First Baseman  Los Angeles Angels\n",
      "9487  2000        Tim Salmon   6000000     Outfielder  Los Angeles Angels\n",
      "9488  2000          Ken Hill   5600000        Pitcher  Los Angeles Angels\n",
      "9489  2000       Tim Belcher   4600000        Pitcher  Los Angeles Angels\n",
      "9490  2000  Kent Bottenfield   4000000        Pitcher  Los Angeles Angels\n",
      "2001\n",
      "       Year           Player    Salary       Position                Team\n",
      "10329  2001        Mo Vaughn  13166668  First Baseman  Los Angeles Angels\n",
      "10330  2001       Tim Salmon   6500000     Outfielder  Los Angeles Angels\n",
      "10331  2001  Garret Anderson   4500000     Outfielder  Los Angeles Angels\n",
      "10332  2001     Darin Erstad   3450000     Outfielder  Los Angeles Angels\n",
      "10333  2001    Troy Percival   3400000        Pitcher  Los Angeles Angels\n",
      "2002\n",
      "       Year         Player   Salary    Position                Team\n",
      "11186  2002     Tim Salmon  9650000  Outfielder  Los Angeles Angels\n",
      "11187  2002   Kevin Appier  9500000     Pitcher  Los Angeles Angels\n",
      "11188  2002     Aaron Sele  7166667     Pitcher  Los Angeles Angels\n",
      "11189  2002   Darin Erstad  6250000  Outfielder  Los Angeles Angels\n",
      "11190  2002  Troy Percival  5250000     Pitcher  Los Angeles Angels\n",
      "2003\n",
      "       Year         Player    Salary    Position                Team\n",
      "12035  2003   Kevin Appier  11500000     Pitcher  Los Angeles Angels\n",
      "12036  2003     Tim Salmon   9900000  Outfielder  Los Angeles Angels\n",
      "12037  2003     Aaron Sele   8166667     Pitcher  Los Angeles Angels\n",
      "12038  2003  Troy Percival   7833333     Pitcher  Los Angeles Angels\n",
      "12039  2003   Darin Erstad   7250000  Outfielder  Los Angeles Angels\n",
      "2004\n",
      "       Year             Player    Salary           Position  \\\n",
      "12861  2004      Bartolo Colon  11000000            Pitcher   \n",
      "12862  2004  Vladimir Guerrero  11000000         Outfielder   \n",
      "12863  2004         Troy Glaus   9900000      Third Baseman   \n",
      "12864  2004         Tim Salmon   9900000  Designated Hitter   \n",
      "12865  2004         Aaron Sele   8666667            Pitcher   \n",
      "\n",
      "                     Team  \n",
      "12861  Los Angeles Angels  \n",
      "12862  Los Angeles Angels  \n",
      "12863  Los Angeles Angels  \n",
      "12864  Los Angeles Angels  \n",
      "12865  Los Angeles Angels  \n",
      "2005\n",
      "       Year             Player    Salary       Position                Team\n",
      "13694  2005  Vladimir Guerrero  12500000     Outfielder  Los Angeles Angels\n",
      "13695  2005      Bartolo Colon  10000000        Pitcher  Los Angeles Angels\n",
      "13696  2005    Garret Anderson   9600000     Outfielder  Los Angeles Angels\n",
      "13697  2005       Darin Erstad   8250000  First Baseman  Los Angeles Angels\n",
      "13698  2005    Jarrod Washburn   6500000        Pitcher  Los Angeles Angels\n",
      "2006\n",
      "       Year             Player    Salary       Position                Team\n",
      "14525  2006      Bartolo Colon  14000000        Pitcher  Los Angeles Angels\n",
      "14526  2006  Vladimir Guerrero  13500000     Outfielder  Los Angeles Angels\n",
      "14527  2006    Garret Anderson  10600000     Outfielder  Los Angeles Angels\n",
      "14528  2006       Darin Erstad   8750000  First Baseman  Los Angeles Angels\n",
      "14529  2006        Jeff Weaver   8325000        Pitcher  Los Angeles Angels\n",
      "2007\n",
      "       Year             Player    Salary    Position                Team\n",
      "15348  2007      Bartolo Colon  16000000     Pitcher  Los Angeles Angels\n",
      "15349  2007  Vladimir Guerrero  14500000  Outfielder  Los Angeles Angels\n",
      "15350  2007    Garret Anderson  11600000  Outfielder  Los Angeles Angels\n",
      "15351  2007     Kelvim Escobar   9000000     Pitcher  Los Angeles Angels\n",
      "15352  2007    Orlando Cabrera   8500000   Shortstop  Los Angeles Angels\n",
      "2008\n",
      "       Year               Player    Salary    Position                Team\n",
      "16196  2008         Torii Hunter  16500000  Outfielder  Los Angeles Angels\n",
      "16197  2008    Vladimir Guerrero  15500000  Outfielder  Los Angeles Angels\n",
      "16198  2008      Garret Anderson  12600000  Outfielder  Los Angeles Angels\n",
      "16199  2008          Jon Garland  12000000     Pitcher  Los Angeles Angels\n",
      "16200  2008  Francisco Rodriguez  10000000     Pitcher  Los Angeles Angels\n",
      "2009\n",
      "       Year             Player    Salary    Position                Team\n",
      "17054  2009       Torii Hunter  18000000  Outfielder  Los Angeles Angels\n",
      "17055  2009  Vladimir Guerrero  15000000  Outfielder  Los Angeles Angels\n",
      "17056  2009      Gary Matthews  10400000  Outfielder  Los Angeles Angels\n",
      "17057  2009     Kelvim Escobar  10000000     Pitcher  Los Angeles Angels\n",
      "17058  2009        John Lackey  10000000     Pitcher  Los Angeles Angels\n",
      "2010\n",
      "       Year         Player    Salary    Position                Team\n",
      "17872  2010   Torii Hunter  18500000  Outfielder  Los Angeles Angels\n",
      "17873  2010    Bobby Abreu   9000000  Outfielder  Los Angeles Angels\n",
      "17874  2010  Brian Fuentes   9000000     Pitcher  Los Angeles Angels\n",
      "17875  2010   Scott Kazmir   8000000     Pitcher  Los Angeles Angels\n",
      "17876  2010   Joel Pineiro   8000000     Pitcher  Los Angeles Angels\n",
      "2011\n",
      "       Year        Player    Salary    Position                Team\n",
      "18700  2011  Vernon Wells  26187500  Outfielder  Los Angeles Angels\n",
      "18701  2011  Torii Hunter  18500000  Outfielder  Los Angeles Angels\n",
      "18702  2011     Dan Haren  12750000     Pitcher  Los Angeles Angels\n",
      "18703  2011  Scott Kazmir  12000000     Pitcher  Los Angeles Angels\n",
      "18704  2011   Bobby Abreu   9000000  Outfielder  Los Angeles Angels\n"
     ]
    }
   ],
   "source": [
    "for k,grp in grouped:\n",
    "    print k\n",
    "    print grp.head()\n"
   ]
  },
  {
   "cell_type": "code",
   "execution_count": 74,
   "metadata": {
    "collapsed": true
   },
   "outputs": [],
   "source": [
    "k= (grp.sort_index(by= 'Salary', ascending= False)[:1] for yr,grp in grouped)"
   ]
  },
  {
   "cell_type": "code",
   "execution_count": 75,
   "metadata": {
    "collapsed": false
   },
   "outputs": [
    {
     "name": "stdout",
     "output_type": "stream",
     "text": [
      "<generator object <genexpr> at 0xb011a8c4>\n"
     ]
    }
   ],
   "source": [
    "print k"
   ]
  },
  {
   "cell_type": "code",
   "execution_count": 76,
   "metadata": {
    "collapsed": false
   },
   "outputs": [],
   "source": [
    "topSalaries= pd.DataFrame()"
   ]
  },
  {
   "cell_type": "code",
   "execution_count": 77,
   "metadata": {
    "collapsed": false
   },
   "outputs": [
    {
     "data": {
      "text/html": [
       "<div>\n",
       "<table border=\"1\" class=\"dataframe\">\n",
       "  <thead>\n",
       "    <tr style=\"text-align: right;\">\n",
       "      <th></th>\n",
       "      <th>Year</th>\n",
       "      <th>Player</th>\n",
       "      <th>Salary</th>\n",
       "      <th>Position</th>\n",
       "      <th>Team</th>\n",
       "    </tr>\n",
       "  </thead>\n",
       "  <tbody>\n",
       "    <tr>\n",
       "      <th>321</th>\n",
       "      <td>1988</td>\n",
       "      <td>Gary Carter</td>\n",
       "      <td>2360714</td>\n",
       "      <td>Catcher</td>\n",
       "      <td>New York Mets</td>\n",
       "    </tr>\n",
       "    <tr>\n",
       "      <th>908</th>\n",
       "      <td>1989</td>\n",
       "      <td>Orel Hershiser</td>\n",
       "      <td>2766666</td>\n",
       "      <td>Pitcher</td>\n",
       "      <td>Los Angeles Dodgers</td>\n",
       "    </tr>\n",
       "    <tr>\n",
       "      <th>1580</th>\n",
       "      <td>1990</td>\n",
       "      <td>Robin Yount</td>\n",
       "      <td>3200000</td>\n",
       "      <td>Outfielder</td>\n",
       "      <td>Milwaukee Brewers</td>\n",
       "    </tr>\n",
       "    <tr>\n",
       "      <th>2590</th>\n",
       "      <td>1991</td>\n",
       "      <td>Darryl Strawberry</td>\n",
       "      <td>3800000</td>\n",
       "      <td>Outfielder</td>\n",
       "      <td>Los Angeles Dodgers</td>\n",
       "    </tr>\n",
       "    <tr>\n",
       "      <th>3441</th>\n",
       "      <td>1992</td>\n",
       "      <td>Bobby Bonilla</td>\n",
       "      <td>6100000</td>\n",
       "      <td>Outfielder</td>\n",
       "      <td>New York Mets</td>\n",
       "    </tr>\n",
       "    <tr>\n",
       "      <th>4214</th>\n",
       "      <td>1993</td>\n",
       "      <td>Bobby Bonilla</td>\n",
       "      <td>6200000</td>\n",
       "      <td>Outfielder</td>\n",
       "      <td>New York Mets</td>\n",
       "    </tr>\n",
       "    <tr>\n",
       "      <th>4977</th>\n",
       "      <td>1994</td>\n",
       "      <td>Bobby Bonilla</td>\n",
       "      <td>6300000</td>\n",
       "      <td>Third Baseman</td>\n",
       "      <td>New York Mets</td>\n",
       "    </tr>\n",
       "    <tr>\n",
       "      <th>6068</th>\n",
       "      <td>1995</td>\n",
       "      <td>Cecil Fielder</td>\n",
       "      <td>9237500</td>\n",
       "      <td>First Baseman</td>\n",
       "      <td>Detroit Tigers</td>\n",
       "    </tr>\n",
       "    <tr>\n",
       "      <th>6840</th>\n",
       "      <td>1996</td>\n",
       "      <td>Cecil Fielder</td>\n",
       "      <td>9237500</td>\n",
       "      <td>First Baseman</td>\n",
       "      <td>Detroit Tigers</td>\n",
       "    </tr>\n",
       "    <tr>\n",
       "      <th>7666</th>\n",
       "      <td>1997</td>\n",
       "      <td>Albert Belle</td>\n",
       "      <td>10000000</td>\n",
       "      <td>Outfielder</td>\n",
       "      <td>Chicago White Sox</td>\n",
       "    </tr>\n",
       "    <tr>\n",
       "      <th>8090</th>\n",
       "      <td>1998</td>\n",
       "      <td>Gary Sheffield</td>\n",
       "      <td>10000000</td>\n",
       "      <td>Outfielder</td>\n",
       "      <td>Florida Marlins</td>\n",
       "    </tr>\n",
       "    <tr>\n",
       "      <th>9067</th>\n",
       "      <td>1999</td>\n",
       "      <td>Albert Belle</td>\n",
       "      <td>11949794</td>\n",
       "      <td>Outfielder</td>\n",
       "      <td>Baltimore Orioles</td>\n",
       "    </tr>\n",
       "    <tr>\n",
       "      <th>9743</th>\n",
       "      <td>2000</td>\n",
       "      <td>Kevin J. Brown</td>\n",
       "      <td>15714286</td>\n",
       "      <td>Pitcher</td>\n",
       "      <td>Los Angeles Dodgers</td>\n",
       "    </tr>\n",
       "    <tr>\n",
       "      <th>10903</th>\n",
       "      <td>2001</td>\n",
       "      <td>Alex Rodriguez</td>\n",
       "      <td>22000000</td>\n",
       "      <td>Shortstop</td>\n",
       "      <td>Texas Rangers</td>\n",
       "    </tr>\n",
       "    <tr>\n",
       "      <th>11752</th>\n",
       "      <td>2002</td>\n",
       "      <td>Alex Rodriguez</td>\n",
       "      <td>22000000</td>\n",
       "      <td>Shortstop</td>\n",
       "      <td>Texas Rangers</td>\n",
       "    </tr>\n",
       "    <tr>\n",
       "      <th>12589</th>\n",
       "      <td>2003</td>\n",
       "      <td>Alex Rodriguez</td>\n",
       "      <td>22000000</td>\n",
       "      <td>Shortstop</td>\n",
       "      <td>Texas Rangers</td>\n",
       "    </tr>\n",
       "    <tr>\n",
       "      <th>13497</th>\n",
       "      <td>2004</td>\n",
       "      <td>Manny Ramirez</td>\n",
       "      <td>22500000</td>\n",
       "      <td>Outfielder</td>\n",
       "      <td>Boston Red Sox</td>\n",
       "    </tr>\n",
       "    <tr>\n",
       "      <th>14499</th>\n",
       "      <td>2005</td>\n",
       "      <td>Alex Rodriguez</td>\n",
       "      <td>26000000</td>\n",
       "      <td>Third Baseman</td>\n",
       "      <td>New York Yankees</td>\n",
       "    </tr>\n",
       "    <tr>\n",
       "      <th>15320</th>\n",
       "      <td>2006</td>\n",
       "      <td>Alex Rodriguez</td>\n",
       "      <td>21680727</td>\n",
       "      <td>Third Baseman</td>\n",
       "      <td>New York Yankees</td>\n",
       "    </tr>\n",
       "    <tr>\n",
       "      <th>16167</th>\n",
       "      <td>2007</td>\n",
       "      <td>Jason Giambi</td>\n",
       "      <td>23428571</td>\n",
       "      <td>Designated Hitter</td>\n",
       "      <td>New York Yankees</td>\n",
       "    </tr>\n",
       "    <tr>\n",
       "      <th>17023</th>\n",
       "      <td>2008</td>\n",
       "      <td>Alex Rodriguez</td>\n",
       "      <td>28000000</td>\n",
       "      <td>Third Baseman</td>\n",
       "      <td>New York Yankees</td>\n",
       "    </tr>\n",
       "    <tr>\n",
       "      <th>17846</th>\n",
       "      <td>2009</td>\n",
       "      <td>Alex Rodriguez</td>\n",
       "      <td>33000000</td>\n",
       "      <td>Third Baseman</td>\n",
       "      <td>New York Yankees</td>\n",
       "    </tr>\n",
       "    <tr>\n",
       "      <th>18675</th>\n",
       "      <td>2010</td>\n",
       "      <td>Alex Rodriguez</td>\n",
       "      <td>33000000</td>\n",
       "      <td>Third Baseman</td>\n",
       "      <td>New York Yankees</td>\n",
       "    </tr>\n",
       "    <tr>\n",
       "      <th>19513</th>\n",
       "      <td>2011</td>\n",
       "      <td>Alex Rodriguez</td>\n",
       "      <td>32000000</td>\n",
       "      <td>Third Baseman</td>\n",
       "      <td>New York Yankees</td>\n",
       "    </tr>\n",
       "  </tbody>\n",
       "</table>\n",
       "</div>"
      ],
      "text/plain": [
       "       Year             Player    Salary           Position  \\\n",
       "321    1988        Gary Carter   2360714            Catcher   \n",
       "908    1989     Orel Hershiser   2766666            Pitcher   \n",
       "1580   1990        Robin Yount   3200000         Outfielder   \n",
       "2590   1991  Darryl Strawberry   3800000         Outfielder   \n",
       "3441   1992      Bobby Bonilla   6100000         Outfielder   \n",
       "4214   1993      Bobby Bonilla   6200000         Outfielder   \n",
       "4977   1994      Bobby Bonilla   6300000      Third Baseman   \n",
       "6068   1995      Cecil Fielder   9237500      First Baseman   \n",
       "6840   1996      Cecil Fielder   9237500      First Baseman   \n",
       "7666   1997       Albert Belle  10000000         Outfielder   \n",
       "8090   1998     Gary Sheffield  10000000         Outfielder   \n",
       "9067   1999       Albert Belle  11949794         Outfielder   \n",
       "9743   2000     Kevin J. Brown  15714286            Pitcher   \n",
       "10903  2001     Alex Rodriguez  22000000          Shortstop   \n",
       "11752  2002     Alex Rodriguez  22000000          Shortstop   \n",
       "12589  2003     Alex Rodriguez  22000000          Shortstop   \n",
       "13497  2004      Manny Ramirez  22500000         Outfielder   \n",
       "14499  2005     Alex Rodriguez  26000000      Third Baseman   \n",
       "15320  2006     Alex Rodriguez  21680727      Third Baseman   \n",
       "16167  2007       Jason Giambi  23428571  Designated Hitter   \n",
       "17023  2008     Alex Rodriguez  28000000      Third Baseman   \n",
       "17846  2009     Alex Rodriguez  33000000      Third Baseman   \n",
       "18675  2010     Alex Rodriguez  33000000      Third Baseman   \n",
       "19513  2011     Alex Rodriguez  32000000      Third Baseman   \n",
       "\n",
       "                      Team  \n",
       "321          New York Mets  \n",
       "908    Los Angeles Dodgers  \n",
       "1580     Milwaukee Brewers  \n",
       "2590   Los Angeles Dodgers  \n",
       "3441         New York Mets  \n",
       "4214         New York Mets  \n",
       "4977         New York Mets  \n",
       "6068        Detroit Tigers  \n",
       "6840        Detroit Tigers  \n",
       "7666     Chicago White Sox  \n",
       "8090       Florida Marlins  \n",
       "9067     Baltimore Orioles  \n",
       "9743   Los Angeles Dodgers  \n",
       "10903        Texas Rangers  \n",
       "11752        Texas Rangers  \n",
       "12589        Texas Rangers  \n",
       "13497       Boston Red Sox  \n",
       "14499     New York Yankees  \n",
       "15320     New York Yankees  \n",
       "16167     New York Yankees  \n",
       "17023     New York Yankees  \n",
       "17846     New York Yankees  \n",
       "18675     New York Yankees  \n",
       "19513     New York Yankees  "
      ]
     },
     "execution_count": 77,
     "metadata": {},
     "output_type": "execute_result"
    }
   ],
   "source": [
    "for line in k:\n",
    "    topSalaries= topSalaries.append(line)\n",
    "topSalaries"
   ]
  },
  {
   "cell_type": "code",
   "execution_count": 78,
   "metadata": {
    "collapsed": false
   },
   "outputs": [
    {
     "data": {
      "text/plain": [
       "<matplotlib.axes._subplots.AxesSubplot at 0xaff3c7cc>"
      ]
     },
     "execution_count": 78,
     "metadata": {},
     "output_type": "execute_result"
    },
    {
     "data": {
      "image/png": "[encoded data removed]",
      "text/plain": [
       "<matplotlib.figure.Figure at 0xaff339ac>"
      ]
     },
     "metadata": {},
     "output_type": "display_data"
    }
   ],
   "source": [
    "ts= topSalaries[['Year', 'Salary']]\n",
    "ts= ts.set_index('Year')\n",
    "ts.plot()"
   ]
  },
  {
   "cell_type": "code",
   "execution_count": 79,
   "metadata": {
    "collapsed": false
   },
   "outputs": [
    {
     "data": {
      "text/plain": [
       "<matplotlib.axes._subplots.AxesSubplot at 0xafe32e2c>"
      ]
     },
     "execution_count": 79,
     "metadata": {},
     "output_type": "execute_result"
    },
    {
     "data": {
      "image/png": "[encoded data removed]",
      "text/plain": [
       "<matplotlib.figure.Figure at 0xafe4670c>"
      ]
     },
     "metadata": {},
     "output_type": "display_data"
    }
   ],
   "source": [
    "grouped['Salary'].median().plot()"
   ]
  },
  {
   "cell_type": "code",
   "execution_count": 80,
   "metadata": {
    "collapsed": false
   },
   "outputs": [
    {
     "data": {
      "text/plain": [
       "Year\n",
       "1988     429763\n",
       "1989     494246\n",
       "1990     467307\n",
       "1991     875011\n",
       "1992    1041029\n",
       "1993    1089921\n",
       "1994    1182648\n",
       "1995    1095743\n",
       "1996    1166300\n",
       "1997    1376884\n",
       "1998    1430623\n",
       "1999    1572277\n",
       "2000    1987876\n",
       "2001    2290363\n",
       "2002    2384779\n",
       "2003    2576467\n",
       "2004    2486513\n",
       "2005    2626638\n",
       "2006    2827104\n",
       "2007    2923339\n",
       "2008    3131041\n",
       "2009    3260059\n",
       "2010    3281828\n",
       "2011    3305054\n",
       "Name: Salary, dtype: int64"
      ]
     },
     "execution_count": 80,
     "metadata": {},
     "output_type": "execute_result"
    }
   ],
   "source": [
    "grouped['Salary'].mean()"
   ]
  },
  {
   "cell_type": "code",
   "execution_count": 81,
   "metadata": {
    "collapsed": true
   },
   "outputs": [],
   "source": [
    "grouped= mlb.groupby('Position')"
   ]
  },
  {
   "cell_type": "code",
   "execution_count": 82,
   "metadata": {
    "collapsed": false
   },
   "outputs": [
    {
     "data": {
      "text/plain": [
       "<matplotlib.legend.Legend at 0xafd90fac>"
      ]
     },
     "execution_count": 82,
     "metadata": {},
     "output_type": "execute_result"
    },
    {
     "data": {
      "image/png": "[encoded data removed]",
      "text/plain": [
       "<matplotlib.figure.Figure at 0xaff304ac>"
      ]
     },
     "metadata": {},
     "output_type": "display_data"
    }
   ],
   "source": [
    "grouped['Salary'].median().plot(kind= 'bar', color= 'red', label= 'Median Salaries by Position')\n",
    "plt.legend()"
   ]
  },
  {
   "cell_type": "code",
   "execution_count": 83,
   "metadata": {
    "collapsed": false
   },
   "outputs": [
    {
     "data": {
      "text/html": [
       "<div>\n",
       "<table border=\"1\" class=\"dataframe\">\n",
       "  <thead>\n",
       "    <tr style=\"text-align: right;\">\n",
       "      <th></th>\n",
       "      <th>Madrid</th>\n",
       "      <th>Boston</th>\n",
       "      <th>Tokyo</th>\n",
       "      <th>Shanghai</th>\n",
       "      <th>Kolkata</th>\n",
       "    </tr>\n",
       "  </thead>\n",
       "  <tbody>\n",
       "    <tr>\n",
       "      <th>2014-01-01</th>\n",
       "      <td>-9</td>\n",
       "      <td>-8</td>\n",
       "      <td>-15</td>\n",
       "      <td>15</td>\n",
       "      <td>0</td>\n",
       "    </tr>\n",
       "    <tr>\n",
       "      <th>2014-01-02</th>\n",
       "      <td>-14</td>\n",
       "      <td>-19</td>\n",
       "      <td>-2</td>\n",
       "      <td>31</td>\n",
       "      <td>28</td>\n",
       "    </tr>\n",
       "    <tr>\n",
       "      <th>2014-01-03</th>\n",
       "      <td>25</td>\n",
       "      <td>-18</td>\n",
       "      <td>5</td>\n",
       "      <td>39</td>\n",
       "      <td>10</td>\n",
       "    </tr>\n",
       "    <tr>\n",
       "      <th>2014-01-04</th>\n",
       "      <td>-12</td>\n",
       "      <td>29</td>\n",
       "      <td>35</td>\n",
       "      <td>13</td>\n",
       "      <td>34</td>\n",
       "    </tr>\n",
       "    <tr>\n",
       "      <th>2014-01-05</th>\n",
       "      <td>-4</td>\n",
       "      <td>-11</td>\n",
       "      <td>30</td>\n",
       "      <td>19</td>\n",
       "      <td>0</td>\n",
       "    </tr>\n",
       "  </tbody>\n",
       "</table>\n",
       "</div>"
      ],
      "text/plain": [
       "            Madrid  Boston  Tokyo  Shanghai  Kolkata\n",
       "2014-01-01      -9      -8    -15        15        0\n",
       "2014-01-02     -14     -19     -2        31       28\n",
       "2014-01-03      25     -18      5        39       10\n",
       "2014-01-04     -12      29     35        13       34\n",
       "2014-01-05      -4     -11     30        19        0"
      ]
     },
     "execution_count": 83,
     "metadata": {},
     "output_type": "execute_result"
    }
   ],
   "source": [
    "days= pd.date_range('2014-01-01', '2014-02-28', freq= 'D')\n",
    "dim= (59,5)\n",
    "df= pd.DataFrame(np.random.random_integers(-20,40,dim),\n",
    "                index= days,\n",
    "                columns= ['Madrid','Boston','Tokyo','Shanghai','Kolkata'])\n",
    "df.head()"
   ]
  },
  {
   "cell_type": "code",
   "execution_count": 84,
   "metadata": {
    "collapsed": false
   },
   "outputs": [
    {
     "data": {
      "text/html": [
       "<div>\n",
       "<table border=\"1\" class=\"dataframe\">\n",
       "  <thead>\n",
       "    <tr style=\"text-align: right;\">\n",
       "      <th></th>\n",
       "      <th>Madrid</th>\n",
       "      <th>Boston</th>\n",
       "      <th>Tokyo</th>\n",
       "    </tr>\n",
       "  </thead>\n",
       "  <tbody>\n",
       "    <tr>\n",
       "      <th>2014-01-04</th>\n",
       "      <td>-12</td>\n",
       "      <td>29</td>\n",
       "      <td>35</td>\n",
       "    </tr>\n",
       "    <tr>\n",
       "      <th>2014-01-05</th>\n",
       "      <td>-4</td>\n",
       "      <td>-11</td>\n",
       "      <td>30</td>\n",
       "    </tr>\n",
       "    <tr>\n",
       "      <th>2014-01-06</th>\n",
       "      <td>-6</td>\n",
       "      <td>36</td>\n",
       "      <td>7</td>\n",
       "    </tr>\n",
       "  </tbody>\n",
       "</table>\n",
       "</div>"
      ],
      "text/plain": [
       "            Madrid  Boston  Tokyo\n",
       "2014-01-04     -12      29     35\n",
       "2014-01-05      -4     -11     30\n",
       "2014-01-06      -6      36      7"
      ]
     },
     "execution_count": 84,
     "metadata": {},
     "output_type": "execute_result"
    }
   ],
   "source": [
    "df.ix[3:6,'Madrid':'Tokyo']"
   ]
  },
  {
   "cell_type": "code",
   "execution_count": 85,
   "metadata": {
    "collapsed": false
   },
   "outputs": [
    {
     "data": {
      "text/html": [
       "<div>\n",
       "<table border=\"1\" class=\"dataframe\">\n",
       "  <thead>\n",
       "    <tr style=\"text-align: right;\">\n",
       "      <th></th>\n",
       "      <th>Kolkata</th>\n",
       "      <th>Madrid</th>\n",
       "    </tr>\n",
       "  </thead>\n",
       "  <tbody>\n",
       "    <tr>\n",
       "      <th>2014-01-11</th>\n",
       "      <td>35</td>\n",
       "      <td>7</td>\n",
       "    </tr>\n",
       "    <tr>\n",
       "      <th>2014-01-16</th>\n",
       "      <td>18</td>\n",
       "      <td>-9</td>\n",
       "    </tr>\n",
       "    <tr>\n",
       "      <th>2014-01-17</th>\n",
       "      <td>31</td>\n",
       "      <td>13</td>\n",
       "    </tr>\n",
       "    <tr>\n",
       "      <th>2014-01-25</th>\n",
       "      <td>12</td>\n",
       "      <td>34</td>\n",
       "    </tr>\n",
       "  </tbody>\n",
       "</table>\n",
       "</div>"
      ],
      "text/plain": [
       "            Kolkata  Madrid\n",
       "2014-01-11       35       7\n",
       "2014-01-16       18      -9\n",
       "2014-01-17       31      13\n",
       "2014-01-25       12      34"
      ]
     },
     "execution_count": 85,
     "metadata": {},
     "output_type": "execute_result"
    }
   ],
   "source": [
    "df.ix[[10,15,16,24],['Kolkata', 'Madrid']]"
   ]
  },
  {
   "cell_type": "code",
   "execution_count": 86,
   "metadata": {
    "collapsed": false
   },
   "outputs": [
    {
     "data": {
      "text/html": [
       "<div>\n",
       "<table border=\"1\" class=\"dataframe\">\n",
       "  <thead>\n",
       "    <tr style=\"text-align: right;\">\n",
       "      <th></th>\n",
       "      <th>Madrid</th>\n",
       "      <th>Boston</th>\n",
       "      <th>Tokyo</th>\n",
       "      <th>Shanghai</th>\n",
       "      <th>Kolkata</th>\n",
       "    </tr>\n",
       "  </thead>\n",
       "  <tbody>\n",
       "    <tr>\n",
       "      <th>2014-01-04</th>\n",
       "      <td>-12</td>\n",
       "      <td>29</td>\n",
       "      <td>35</td>\n",
       "      <td>13</td>\n",
       "      <td>34</td>\n",
       "    </tr>\n",
       "    <tr>\n",
       "      <th>2014-01-10</th>\n",
       "      <td>-8</td>\n",
       "      <td>12</td>\n",
       "      <td>-6</td>\n",
       "      <td>14</td>\n",
       "      <td>30</td>\n",
       "    </tr>\n",
       "    <tr>\n",
       "      <th>2014-01-12</th>\n",
       "      <td>16</td>\n",
       "      <td>-9</td>\n",
       "      <td>11</td>\n",
       "      <td>9</td>\n",
       "      <td>22</td>\n",
       "    </tr>\n",
       "    <tr>\n",
       "      <th>2014-01-14</th>\n",
       "      <td>35</td>\n",
       "      <td>-15</td>\n",
       "      <td>-8</td>\n",
       "      <td>29</td>\n",
       "      <td>-20</td>\n",
       "    </tr>\n",
       "  </tbody>\n",
       "</table>\n",
       "</div>"
      ],
      "text/plain": [
       "            Madrid  Boston  Tokyo  Shanghai  Kolkata\n",
       "2014-01-04     -12      29     35        13       34\n",
       "2014-01-10      -8      12     -6        14       30\n",
       "2014-01-12      16      -9     11         9       22\n",
       "2014-01-14      35     -15     -8        29      -20"
      ]
     },
     "execution_count": 86,
     "metadata": {},
     "output_type": "execute_result"
    }
   ],
   "source": [
    "df.ix[[3,9,11,13], :]"
   ]
  },
  {
   "cell_type": "code",
   "execution_count": 87,
   "metadata": {
    "collapsed": false
   },
   "outputs": [
    {
     "data": {
      "text/html": [
       "<div>\n",
       "<table border=\"1\" class=\"dataframe\">\n",
       "  <thead>\n",
       "    <tr style=\"text-align: right;\">\n",
       "      <th></th>\n",
       "      <th>Madrid</th>\n",
       "      <th>Shanghai</th>\n",
       "    </tr>\n",
       "  </thead>\n",
       "  <tbody>\n",
       "    <tr>\n",
       "      <th>2014-01-01</th>\n",
       "      <td>-9</td>\n",
       "      <td>15</td>\n",
       "    </tr>\n",
       "    <tr>\n",
       "      <th>2014-01-02</th>\n",
       "      <td>-14</td>\n",
       "      <td>31</td>\n",
       "    </tr>\n",
       "    <tr>\n",
       "      <th>2014-01-03</th>\n",
       "      <td>25</td>\n",
       "      <td>39</td>\n",
       "    </tr>\n",
       "    <tr>\n",
       "      <th>2014-01-04</th>\n",
       "      <td>-12</td>\n",
       "      <td>13</td>\n",
       "    </tr>\n",
       "    <tr>\n",
       "      <th>2014-01-05</th>\n",
       "      <td>-4</td>\n",
       "      <td>19</td>\n",
       "    </tr>\n",
       "    <tr>\n",
       "      <th>2014-01-06</th>\n",
       "      <td>-6</td>\n",
       "      <td>8</td>\n",
       "    </tr>\n",
       "    <tr>\n",
       "      <th>2014-01-07</th>\n",
       "      <td>23</td>\n",
       "      <td>29</td>\n",
       "    </tr>\n",
       "    <tr>\n",
       "      <th>2014-01-08</th>\n",
       "      <td>-16</td>\n",
       "      <td>-9</td>\n",
       "    </tr>\n",
       "    <tr>\n",
       "      <th>2014-01-09</th>\n",
       "      <td>-5</td>\n",
       "      <td>12</td>\n",
       "    </tr>\n",
       "    <tr>\n",
       "      <th>2014-01-10</th>\n",
       "      <td>-8</td>\n",
       "      <td>14</td>\n",
       "    </tr>\n",
       "  </tbody>\n",
       "</table>\n",
       "</div>"
      ],
      "text/plain": [
       "            Madrid  Shanghai\n",
       "2014-01-01      -9        15\n",
       "2014-01-02     -14        31\n",
       "2014-01-03      25        39\n",
       "2014-01-04     -12        13\n",
       "2014-01-05      -4        19\n",
       "2014-01-06      -6         8\n",
       "2014-01-07      23        29\n",
       "2014-01-08     -16        -9\n",
       "2014-01-09      -5        12\n",
       "2014-01-10      -8        14"
      ]
     },
     "execution_count": 87,
     "metadata": {},
     "output_type": "execute_result"
    }
   ],
   "source": [
    "df.ix[:, ['Madrid','Shanghai']].head(10)"
   ]
  },
  {
   "cell_type": "code",
   "execution_count": 88,
   "metadata": {
    "collapsed": false
   },
   "outputs": [
    {
     "data": {
      "text/html": [
       "<div>\n",
       "<table border=\"1\" class=\"dataframe\">\n",
       "  <thead>\n",
       "    <tr style=\"text-align: right;\">\n",
       "      <th></th>\n",
       "      <th>1960</th>\n",
       "      <th>1961</th>\n",
       "      <th>1962</th>\n",
       "      <th>1963</th>\n",
       "      <th>1964</th>\n",
       "      <th>1965</th>\n",
       "      <th>1966</th>\n",
       "      <th>1967</th>\n",
       "      <th>1968</th>\n",
       "      <th>1969</th>\n",
       "      <th>...</th>\n",
       "      <th>2004</th>\n",
       "      <th>2005</th>\n",
       "      <th>2006</th>\n",
       "      <th>2007</th>\n",
       "      <th>2008</th>\n",
       "      <th>2009</th>\n",
       "      <th>2010</th>\n",
       "      <th>2011</th>\n",
       "      <th>2012</th>\n",
       "      <th>2013</th>\n",
       "    </tr>\n",
       "    <tr>\n",
       "      <th>Country Name</th>\n",
       "      <th></th>\n",
       "      <th></th>\n",
       "      <th></th>\n",
       "      <th></th>\n",
       "      <th></th>\n",
       "      <th></th>\n",
       "      <th></th>\n",
       "      <th></th>\n",
       "      <th></th>\n",
       "      <th></th>\n",
       "      <th></th>\n",
       "      <th></th>\n",
       "      <th></th>\n",
       "      <th></th>\n",
       "      <th></th>\n",
       "      <th></th>\n",
       "      <th></th>\n",
       "      <th></th>\n",
       "      <th></th>\n",
       "      <th></th>\n",
       "      <th></th>\n",
       "    </tr>\n",
       "  </thead>\n",
       "  <tbody>\n",
       "    <tr>\n",
       "      <th>Aruba</th>\n",
       "      <td>NaN</td>\n",
       "      <td>NaN</td>\n",
       "      <td>NaN</td>\n",
       "      <td>NaN</td>\n",
       "      <td>NaN</td>\n",
       "      <td>NaN</td>\n",
       "      <td>NaN</td>\n",
       "      <td>NaN</td>\n",
       "      <td>NaN</td>\n",
       "      <td>NaN</td>\n",
       "      <td>...</td>\n",
       "      <td>NaN</td>\n",
       "      <td>NaN</td>\n",
       "      <td>NaN</td>\n",
       "      <td>NaN</td>\n",
       "      <td>NaN</td>\n",
       "      <td>NaN</td>\n",
       "      <td>NaN</td>\n",
       "      <td>NaN</td>\n",
       "      <td>NaN</td>\n",
       "      <td>NaN</td>\n",
       "    </tr>\n",
       "    <tr>\n",
       "      <th>Andorra</th>\n",
       "      <td>NaN</td>\n",
       "      <td>NaN</td>\n",
       "      <td>NaN</td>\n",
       "      <td>NaN</td>\n",
       "      <td>NaN</td>\n",
       "      <td>NaN</td>\n",
       "      <td>NaN</td>\n",
       "      <td>NaN</td>\n",
       "      <td>NaN</td>\n",
       "      <td>NaN</td>\n",
       "      <td>...</td>\n",
       "      <td>4.3</td>\n",
       "      <td>4.1</td>\n",
       "      <td>4.0</td>\n",
       "      <td>3.8</td>\n",
       "      <td>3.7</td>\n",
       "      <td>3.6</td>\n",
       "      <td>3.5</td>\n",
       "      <td>3.3</td>\n",
       "      <td>3.2</td>\n",
       "      <td>NaN</td>\n",
       "    </tr>\n",
       "    <tr>\n",
       "      <th>Afghanistan</th>\n",
       "      <td>NaN</td>\n",
       "      <td>352.5</td>\n",
       "      <td>346.9</td>\n",
       "      <td>341.8</td>\n",
       "      <td>336.8</td>\n",
       "      <td>331.6</td>\n",
       "      <td>326.2</td>\n",
       "      <td>321.2</td>\n",
       "      <td>316.2</td>\n",
       "      <td>311.4</td>\n",
       "      <td>...</td>\n",
       "      <td>121.0</td>\n",
       "      <td>117.7</td>\n",
       "      <td>114.5</td>\n",
       "      <td>111.5</td>\n",
       "      <td>108.8</td>\n",
       "      <td>106.2</td>\n",
       "      <td>103.7</td>\n",
       "      <td>101.2</td>\n",
       "      <td>98.5</td>\n",
       "      <td>NaN</td>\n",
       "    </tr>\n",
       "    <tr>\n",
       "      <th>Angola</th>\n",
       "      <td>NaN</td>\n",
       "      <td>NaN</td>\n",
       "      <td>NaN</td>\n",
       "      <td>NaN</td>\n",
       "      <td>NaN</td>\n",
       "      <td>NaN</td>\n",
       "      <td>NaN</td>\n",
       "      <td>NaN</td>\n",
       "      <td>NaN</td>\n",
       "      <td>NaN</td>\n",
       "      <td>...</td>\n",
       "      <td>196.4</td>\n",
       "      <td>194.2</td>\n",
       "      <td>191.1</td>\n",
       "      <td>187.1</td>\n",
       "      <td>182.6</td>\n",
       "      <td>177.9</td>\n",
       "      <td>173.1</td>\n",
       "      <td>168.5</td>\n",
       "      <td>163.5</td>\n",
       "      <td>NaN</td>\n",
       "    </tr>\n",
       "    <tr>\n",
       "      <th>Albania</th>\n",
       "      <td>NaN</td>\n",
       "      <td>NaN</td>\n",
       "      <td>NaN</td>\n",
       "      <td>NaN</td>\n",
       "      <td>NaN</td>\n",
       "      <td>NaN</td>\n",
       "      <td>NaN</td>\n",
       "      <td>NaN</td>\n",
       "      <td>NaN</td>\n",
       "      <td>NaN</td>\n",
       "      <td>...</td>\n",
       "      <td>23.3</td>\n",
       "      <td>22.2</td>\n",
       "      <td>21.2</td>\n",
       "      <td>20.3</td>\n",
       "      <td>19.5</td>\n",
       "      <td>18.8</td>\n",
       "      <td>18.1</td>\n",
       "      <td>17.4</td>\n",
       "      <td>16.7</td>\n",
       "      <td>NaN</td>\n",
       "    </tr>\n",
       "  </tbody>\n",
       "</table>\n",
       "<p>5 rows × 54 columns</p>\n",
       "</div>"
      ],
      "text/plain": [
       "              1960   1961   1962   1963   1964   1965   1966   1967   1968  \\\n",
       "Country Name                                                                 \n",
       "Aruba          NaN    NaN    NaN    NaN    NaN    NaN    NaN    NaN    NaN   \n",
       "Andorra        NaN    NaN    NaN    NaN    NaN    NaN    NaN    NaN    NaN   \n",
       "Afghanistan    NaN  352.5  346.9  341.8  336.8  331.6  326.2  321.2  316.2   \n",
       "Angola         NaN    NaN    NaN    NaN    NaN    NaN    NaN    NaN    NaN   \n",
       "Albania        NaN    NaN    NaN    NaN    NaN    NaN    NaN    NaN    NaN   \n",
       "\n",
       "               1969  ...    2004   2005   2006   2007   2008   2009   2010  \\\n",
       "Country Name         ...                                                     \n",
       "Aruba           NaN  ...     NaN    NaN    NaN    NaN    NaN    NaN    NaN   \n",
       "Andorra         NaN  ...     4.3    4.1    4.0    3.8    3.7    3.6    3.5   \n",
       "Afghanistan   311.4  ...   121.0  117.7  114.5  111.5  108.8  106.2  103.7   \n",
       "Angola          NaN  ...   196.4  194.2  191.1  187.1  182.6  177.9  173.1   \n",
       "Albania         NaN  ...    23.3   22.2   21.2   20.3   19.5   18.8   18.1   \n",
       "\n",
       "               2011   2012  2013  \n",
       "Country Name                      \n",
       "Aruba           NaN    NaN   NaN  \n",
       "Andorra         3.3    3.2   NaN  \n",
       "Afghanistan   101.2   98.5   NaN  \n",
       "Angola        168.5  163.5   NaN  \n",
       "Albania        17.4   16.7   NaN  \n",
       "\n",
       "[5 rows x 54 columns]"
      ]
     },
     "execution_count": 88,
     "metadata": {},
     "output_type": "execute_result"
    }
   ],
   "source": [
    "m= pd.read_csv('../../pdacookbook/data/mortality.csv', index_col= 'Country Name')\n",
    "m.head()"
   ]
  },
  {
   "cell_type": "code",
   "execution_count": 89,
   "metadata": {
    "collapsed": false
   },
   "outputs": [
    {
     "data": {
      "text/plain": [
       "(224, 54)"
      ]
     },
     "execution_count": 89,
     "metadata": {},
     "output_type": "execute_result"
    }
   ],
   "source": [
    "m.shape"
   ]
  },
  {
   "cell_type": "code",
   "execution_count": 90,
   "metadata": {
    "collapsed": false
   },
   "outputs": [
    {
     "data": {
      "text/plain": [
       "(54, 224)"
      ]
     },
     "execution_count": 90,
     "metadata": {},
     "output_type": "execute_result"
    }
   ],
   "source": [
    "t= m.T\n",
    "t.shape"
   ]
  },
  {
   "cell_type": "code",
   "execution_count": 91,
   "metadata": {
    "collapsed": false
   },
   "outputs": [
    {
     "data": {
      "text/html": [
       "<div>\n",
       "<table border=\"1\" class=\"dataframe\">\n",
       "  <thead>\n",
       "    <tr style=\"text-align: right;\">\n",
       "      <th>Country Name</th>\n",
       "      <th>Aruba</th>\n",
       "      <th>Andorra</th>\n",
       "      <th>Afghanistan</th>\n",
       "      <th>Angola</th>\n",
       "      <th>Albania</th>\n",
       "      <th>United Arab Emirates</th>\n",
       "      <th>Argentina</th>\n",
       "      <th>Armenia</th>\n",
       "      <th>American Samoa</th>\n",
       "      <th>Antigua and Barbuda</th>\n",
       "      <th>...</th>\n",
       "      <th>Virgin Islands (U.S.)</th>\n",
       "      <th>Vietnam</th>\n",
       "      <th>Vanuatu</th>\n",
       "      <th>West Bank and Gaza</th>\n",
       "      <th>Samoa</th>\n",
       "      <th>Yemen, Rep.</th>\n",
       "      <th>South Africa</th>\n",
       "      <th>Congo, Dem. Rep.</th>\n",
       "      <th>Zambia</th>\n",
       "      <th>Zimbabwe</th>\n",
       "    </tr>\n",
       "  </thead>\n",
       "  <tbody>\n",
       "    <tr>\n",
       "      <th>1960</th>\n",
       "      <td>NaN</td>\n",
       "      <td>NaN</td>\n",
       "      <td>NaN</td>\n",
       "      <td>NaN</td>\n",
       "      <td>NaN</td>\n",
       "      <td>206.7</td>\n",
       "      <td>NaN</td>\n",
       "      <td>NaN</td>\n",
       "      <td>NaN</td>\n",
       "      <td>NaN</td>\n",
       "      <td>...</td>\n",
       "      <td>NaN</td>\n",
       "      <td>119.8</td>\n",
       "      <td>152.4</td>\n",
       "      <td>NaN</td>\n",
       "      <td>NaN</td>\n",
       "      <td>NaN</td>\n",
       "      <td>NaN</td>\n",
       "      <td>NaN</td>\n",
       "      <td>205.8</td>\n",
       "      <td>148.8</td>\n",
       "    </tr>\n",
       "    <tr>\n",
       "      <th>1961</th>\n",
       "      <td>NaN</td>\n",
       "      <td>NaN</td>\n",
       "      <td>352.5</td>\n",
       "      <td>NaN</td>\n",
       "      <td>NaN</td>\n",
       "      <td>195.6</td>\n",
       "      <td>NaN</td>\n",
       "      <td>NaN</td>\n",
       "      <td>NaN</td>\n",
       "      <td>NaN</td>\n",
       "      <td>...</td>\n",
       "      <td>NaN</td>\n",
       "      <td>114.5</td>\n",
       "      <td>148.0</td>\n",
       "      <td>NaN</td>\n",
       "      <td>NaN</td>\n",
       "      <td>395.7</td>\n",
       "      <td>NaN</td>\n",
       "      <td>NaN</td>\n",
       "      <td>202.0</td>\n",
       "      <td>144.3</td>\n",
       "    </tr>\n",
       "    <tr>\n",
       "      <th>1962</th>\n",
       "      <td>NaN</td>\n",
       "      <td>NaN</td>\n",
       "      <td>346.9</td>\n",
       "      <td>NaN</td>\n",
       "      <td>NaN</td>\n",
       "      <td>184.7</td>\n",
       "      <td>NaN</td>\n",
       "      <td>NaN</td>\n",
       "      <td>NaN</td>\n",
       "      <td>NaN</td>\n",
       "      <td>...</td>\n",
       "      <td>NaN</td>\n",
       "      <td>109.7</td>\n",
       "      <td>143.9</td>\n",
       "      <td>NaN</td>\n",
       "      <td>NaN</td>\n",
       "      <td>388.3</td>\n",
       "      <td>NaN</td>\n",
       "      <td>NaN</td>\n",
       "      <td>198.3</td>\n",
       "      <td>139.5</td>\n",
       "    </tr>\n",
       "    <tr>\n",
       "      <th>1963</th>\n",
       "      <td>NaN</td>\n",
       "      <td>NaN</td>\n",
       "      <td>341.8</td>\n",
       "      <td>NaN</td>\n",
       "      <td>NaN</td>\n",
       "      <td>173.9</td>\n",
       "      <td>NaN</td>\n",
       "      <td>NaN</td>\n",
       "      <td>NaN</td>\n",
       "      <td>NaN</td>\n",
       "      <td>...</td>\n",
       "      <td>NaN</td>\n",
       "      <td>105.0</td>\n",
       "      <td>139.3</td>\n",
       "      <td>NaN</td>\n",
       "      <td>NaN</td>\n",
       "      <td>382.1</td>\n",
       "      <td>NaN</td>\n",
       "      <td>NaN</td>\n",
       "      <td>195.1</td>\n",
       "      <td>134.9</td>\n",
       "    </tr>\n",
       "    <tr>\n",
       "      <th>1964</th>\n",
       "      <td>NaN</td>\n",
       "      <td>NaN</td>\n",
       "      <td>336.8</td>\n",
       "      <td>NaN</td>\n",
       "      <td>NaN</td>\n",
       "      <td>163.1</td>\n",
       "      <td>NaN</td>\n",
       "      <td>NaN</td>\n",
       "      <td>NaN</td>\n",
       "      <td>NaN</td>\n",
       "      <td>...</td>\n",
       "      <td>NaN</td>\n",
       "      <td>100.9</td>\n",
       "      <td>134.8</td>\n",
       "      <td>NaN</td>\n",
       "      <td>NaN</td>\n",
       "      <td>375.5</td>\n",
       "      <td>NaN</td>\n",
       "      <td>NaN</td>\n",
       "      <td>192.4</td>\n",
       "      <td>130.2</td>\n",
       "    </tr>\n",
       "  </tbody>\n",
       "</table>\n",
       "<p>5 rows × 224 columns</p>\n",
       "</div>"
      ],
      "text/plain": [
       "Country Name  Aruba  Andorra  Afghanistan  Angola  Albania  \\\n",
       "1960            NaN      NaN          NaN     NaN      NaN   \n",
       "1961            NaN      NaN        352.5     NaN      NaN   \n",
       "1962            NaN      NaN        346.9     NaN      NaN   \n",
       "1963            NaN      NaN        341.8     NaN      NaN   \n",
       "1964            NaN      NaN        336.8     NaN      NaN   \n",
       "\n",
       "Country Name  United Arab Emirates  Argentina  Armenia  American Samoa  \\\n",
       "1960                         206.7        NaN      NaN             NaN   \n",
       "1961                         195.6        NaN      NaN             NaN   \n",
       "1962                         184.7        NaN      NaN             NaN   \n",
       "1963                         173.9        NaN      NaN             NaN   \n",
       "1964                         163.1        NaN      NaN             NaN   \n",
       "\n",
       "Country Name  Antigua and Barbuda    ...     Virgin Islands (U.S.)  Vietnam  \\\n",
       "1960                          NaN    ...                       NaN    119.8   \n",
       "1961                          NaN    ...                       NaN    114.5   \n",
       "1962                          NaN    ...                       NaN    109.7   \n",
       "1963                          NaN    ...                       NaN    105.0   \n",
       "1964                          NaN    ...                       NaN    100.9   \n",
       "\n",
       "Country Name  Vanuatu  West Bank and Gaza  Samoa  Yemen, Rep.  South Africa  \\\n",
       "1960            152.4                 NaN    NaN          NaN           NaN   \n",
       "1961            148.0                 NaN    NaN        395.7           NaN   \n",
       "1962            143.9                 NaN    NaN        388.3           NaN   \n",
       "1963            139.3                 NaN    NaN        382.1           NaN   \n",
       "1964            134.8                 NaN    NaN        375.5           NaN   \n",
       "\n",
       "Country Name  Congo, Dem. Rep.  Zambia  Zimbabwe  \n",
       "1960                       NaN   205.8     148.8  \n",
       "1961                       NaN   202.0     144.3  \n",
       "1962                       NaN   198.3     139.5  \n",
       "1963                       NaN   195.1     134.9  \n",
       "1964                       NaN   192.4     130.2  \n",
       "\n",
       "[5 rows x 224 columns]"
      ]
     },
     "execution_count": 91,
     "metadata": {},
     "output_type": "execute_result"
    }
   ],
   "source": [
    "t.head()"
   ]
  },
  {
   "cell_type": "code",
   "execution_count": 92,
   "metadata": {
    "collapsed": false
   },
   "outputs": [
    {
     "data": {
      "text/html": [
       "<div>\n",
       "<table border=\"1\" class=\"dataframe\">\n",
       "  <thead>\n",
       "    <tr style=\"text-align: right;\">\n",
       "      <th>Country Name</th>\n",
       "      <th>Bangladesh</th>\n",
       "      <th>India</th>\n",
       "      <th>Rwanda</th>\n",
       "      <th>Uganda</th>\n",
       "    </tr>\n",
       "  </thead>\n",
       "  <tbody>\n",
       "    <tr>\n",
       "      <th>2009</th>\n",
       "      <td>50.9</td>\n",
       "      <td>63.8</td>\n",
       "      <td>69.4</td>\n",
       "      <td>83.0</td>\n",
       "    </tr>\n",
       "    <tr>\n",
       "      <th>2010</th>\n",
       "      <td>47.2</td>\n",
       "      <td>61.2</td>\n",
       "      <td>63.8</td>\n",
       "      <td>78.3</td>\n",
       "    </tr>\n",
       "    <tr>\n",
       "      <th>2011</th>\n",
       "      <td>43.8</td>\n",
       "      <td>58.6</td>\n",
       "      <td>58.9</td>\n",
       "      <td>74.0</td>\n",
       "    </tr>\n",
       "    <tr>\n",
       "      <th>2012</th>\n",
       "      <td>40.9</td>\n",
       "      <td>56.3</td>\n",
       "      <td>55.0</td>\n",
       "      <td>68.9</td>\n",
       "    </tr>\n",
       "    <tr>\n",
       "      <th>2013</th>\n",
       "      <td>NaN</td>\n",
       "      <td>NaN</td>\n",
       "      <td>NaN</td>\n",
       "      <td>NaN</td>\n",
       "    </tr>\n",
       "  </tbody>\n",
       "</table>\n",
       "</div>"
      ],
      "text/plain": [
       "Country Name  Bangladesh  India  Rwanda  Uganda\n",
       "2009                50.9   63.8    69.4    83.0\n",
       "2010                47.2   61.2    63.8    78.3\n",
       "2011                43.8   58.6    58.9    74.0\n",
       "2012                40.9   56.3    55.0    68.9\n",
       "2013                 NaN    NaN     NaN     NaN"
      ]
     },
     "execution_count": 92,
     "metadata": {},
     "output_type": "execute_result"
    }
   ],
   "source": [
    "comp= t[['Bangladesh', 'India', 'Rwanda', 'Uganda']]\n",
    "comp.tail()"
   ]
  },
  {
   "cell_type": "code",
   "execution_count": 93,
   "metadata": {
    "collapsed": false
   },
   "outputs": [
    {
     "data": {
      "text/plain": [
       "<matplotlib.axes._subplots.AxesSubplot at 0xafd4980c>"
      ]
     },
     "execution_count": 93,
     "metadata": {},
     "output_type": "execute_result"
    },
    {
     "data": {
      "image/png": "[encoded data removed]",
      "text/plain": [
       "<matplotlib.figure.Figure at 0xafd896cc>"
      ]
     },
     "metadata": {},
     "output_type": "display_data"
    }
   ],
   "source": [
    "comp.plot()"
   ]
  },
  {
   "cell_type": "code",
   "execution_count": 94,
   "metadata": {
    "collapsed": false
   },
   "outputs": [
    {
     "data": {
      "text/html": [
       "<div>\n",
       "<table border=\"1\" class=\"dataframe\">\n",
       "  <thead>\n",
       "    <tr style=\"text-align: right;\">\n",
       "      <th></th>\n",
       "      <th>make</th>\n",
       "      <th>price</th>\n",
       "      <th>mpg</th>\n",
       "      <th>repairs</th>\n",
       "      <th>weight</th>\n",
       "      <th>length</th>\n",
       "      <th>foreign</th>\n",
       "    </tr>\n",
       "  </thead>\n",
       "  <tbody>\n",
       "    <tr>\n",
       "      <th>0</th>\n",
       "      <td>AMC</td>\n",
       "      <td>4099</td>\n",
       "      <td>22</td>\n",
       "      <td>3</td>\n",
       "      <td>2930</td>\n",
       "      <td>186</td>\n",
       "      <td>0</td>\n",
       "    </tr>\n",
       "    <tr>\n",
       "      <th>1</th>\n",
       "      <td>AMC</td>\n",
       "      <td>4749</td>\n",
       "      <td>17</td>\n",
       "      <td>3</td>\n",
       "      <td>3350</td>\n",
       "      <td>173</td>\n",
       "      <td>0</td>\n",
       "    </tr>\n",
       "    <tr>\n",
       "      <th>2</th>\n",
       "      <td>AMC</td>\n",
       "      <td>3799</td>\n",
       "      <td>22</td>\n",
       "      <td>3</td>\n",
       "      <td>2640</td>\n",
       "      <td>168</td>\n",
       "      <td>0</td>\n",
       "    </tr>\n",
       "    <tr>\n",
       "      <th>3</th>\n",
       "      <td>Audi</td>\n",
       "      <td>9690</td>\n",
       "      <td>17</td>\n",
       "      <td>5</td>\n",
       "      <td>2830</td>\n",
       "      <td>189</td>\n",
       "      <td>1</td>\n",
       "    </tr>\n",
       "    <tr>\n",
       "      <th>4</th>\n",
       "      <td>Audi</td>\n",
       "      <td>6295</td>\n",
       "      <td>23</td>\n",
       "      <td>3</td>\n",
       "      <td>2070</td>\n",
       "      <td>174</td>\n",
       "      <td>1</td>\n",
       "    </tr>\n",
       "  </tbody>\n",
       "</table>\n",
       "</div>"
      ],
      "text/plain": [
       "   make  price  mpg  repairs  weight  length  foreign\n",
       "0   AMC   4099   22        3    2930     186        0\n",
       "1   AMC   4749   17        3    3350     173        0\n",
       "2   AMC   3799   22        3    2640     168        0\n",
       "3  Audi   9690   17        5    2830     189        1\n",
       "4  Audi   6295   23        3    2070     174        1"
      ]
     },
     "execution_count": 94,
     "metadata": {},
     "output_type": "execute_result"
    }
   ],
   "source": [
    "auto= pd.read_csv('../../pdacookbook/data/auto.csv')\n",
    "auto.head()"
   ]
  },
  {
   "cell_type": "code",
   "execution_count": 95,
   "metadata": {
    "collapsed": false
   },
   "outputs": [
    {
     "data": {
      "text/plain": [
       "(26, 7)"
      ]
     },
     "execution_count": 95,
     "metadata": {},
     "output_type": "execute_result"
    }
   ],
   "source": [
    "auto.shape"
   ]
  },
  {
   "cell_type": "code",
   "execution_count": 96,
   "metadata": {
    "collapsed": false
   },
   "outputs": [
    {
     "data": {
      "text/plain": [
       "(7, 7)"
      ]
     },
     "execution_count": 96,
     "metadata": {},
     "output_type": "execute_result"
    }
   ],
   "source": [
    "a1= auto[auto['foreign']==1]\n",
    "a1.shape"
   ]
  },
  {
   "cell_type": "code",
   "execution_count": 97,
   "metadata": {
    "collapsed": false
   },
   "outputs": [
    {
     "data": {
      "text/plain": [
       "7L"
      ]
     },
     "execution_count": 97,
     "metadata": {},
     "output_type": "execute_result"
    }
   ],
   "source": [
    "auto['foreign'].sum()"
   ]
  },
  {
   "cell_type": "code",
   "execution_count": 98,
   "metadata": {
    "collapsed": false
   },
   "outputs": [
    {
     "data": {
      "text/plain": [
       "0     False\n",
       "1     False\n",
       "2     False\n",
       "3      True\n",
       "4      True\n",
       "5      True\n",
       "6     False\n",
       "7     False\n",
       "8     False\n",
       "9     False\n",
       "10    False\n",
       "11    False\n",
       "12    False\n",
       "13    False\n",
       "14    False\n",
       "15    False\n",
       "16    False\n",
       "17    False\n",
       "18    False\n",
       "19    False\n",
       "20    False\n",
       "21    False\n",
       "22     True\n",
       "23     True\n",
       "24     True\n",
       "25     True\n",
       "Name: foreign, dtype: bool"
      ]
     },
     "execution_count": 98,
     "metadata": {},
     "output_type": "execute_result"
    }
   ],
   "source": [
    "auto['foreign']==1"
   ]
  },
  {
   "cell_type": "code",
   "execution_count": 99,
   "metadata": {
    "collapsed": false
   },
   "outputs": [
    {
     "data": {
      "text/plain": [
       "7"
      ]
     },
     "execution_count": 99,
     "metadata": {},
     "output_type": "execute_result"
    }
   ],
   "source": [
    "mask= auto['foreign']==1\n",
    "mask.sum()"
   ]
  },
  {
   "cell_type": "code",
   "execution_count": 100,
   "metadata": {
    "collapsed": false
   },
   "outputs": [
    {
     "data": {
      "text/html": [
       "<div>\n",
       "<table border=\"1\" class=\"dataframe\">\n",
       "  <thead>\n",
       "    <tr style=\"text-align: right;\">\n",
       "      <th></th>\n",
       "      <th>make</th>\n",
       "      <th>price</th>\n",
       "      <th>mpg</th>\n",
       "      <th>repairs</th>\n",
       "      <th>weight</th>\n",
       "      <th>length</th>\n",
       "      <th>foreign</th>\n",
       "    </tr>\n",
       "  </thead>\n",
       "  <tbody>\n",
       "    <tr>\n",
       "      <th>3</th>\n",
       "      <td>Audi</td>\n",
       "      <td>9690</td>\n",
       "      <td>17</td>\n",
       "      <td>5</td>\n",
       "      <td>2830</td>\n",
       "      <td>189</td>\n",
       "      <td>1</td>\n",
       "    </tr>\n",
       "    <tr>\n",
       "      <th>4</th>\n",
       "      <td>Audi</td>\n",
       "      <td>6295</td>\n",
       "      <td>23</td>\n",
       "      <td>3</td>\n",
       "      <td>2070</td>\n",
       "      <td>174</td>\n",
       "      <td>1</td>\n",
       "    </tr>\n",
       "    <tr>\n",
       "      <th>5</th>\n",
       "      <td>BMW</td>\n",
       "      <td>9735</td>\n",
       "      <td>25</td>\n",
       "      <td>4</td>\n",
       "      <td>2650</td>\n",
       "      <td>177</td>\n",
       "      <td>1</td>\n",
       "    </tr>\n",
       "    <tr>\n",
       "      <th>22</th>\n",
       "      <td>Datsun</td>\n",
       "      <td>6229</td>\n",
       "      <td>23</td>\n",
       "      <td>4</td>\n",
       "      <td>2370</td>\n",
       "      <td>170</td>\n",
       "      <td>1</td>\n",
       "    </tr>\n",
       "    <tr>\n",
       "      <th>23</th>\n",
       "      <td>Datsun</td>\n",
       "      <td>4589</td>\n",
       "      <td>35</td>\n",
       "      <td>5</td>\n",
       "      <td>2020</td>\n",
       "      <td>165</td>\n",
       "      <td>1</td>\n",
       "    </tr>\n",
       "  </tbody>\n",
       "</table>\n",
       "</div>"
      ],
      "text/plain": [
       "      make  price  mpg  repairs  weight  length  foreign\n",
       "3     Audi   9690   17        5    2830     189        1\n",
       "4     Audi   6295   23        3    2070     174        1\n",
       "5      BMW   9735   25        4    2650     177        1\n",
       "22  Datsun   6229   23        4    2370     170        1\n",
       "23  Datsun   4589   35        5    2020     165        1"
      ]
     },
     "execution_count": 100,
     "metadata": {},
     "output_type": "execute_result"
    }
   ],
   "source": [
    "foreign= auto[mask]\n",
    "foreign.head()"
   ]
  },
  {
   "cell_type": "code",
   "execution_count": 101,
   "metadata": {
    "collapsed": false
   },
   "outputs": [
    {
     "data": {
      "text/plain": [
       "(19, 7)"
      ]
     },
     "execution_count": 101,
     "metadata": {},
     "output_type": "execute_result"
    }
   ],
   "source": [
    "domestic= auto[np.invert(mask)]\n",
    "domestic.shape"
   ]
  },
  {
   "cell_type": "code",
   "execution_count": 102,
   "metadata": {
    "collapsed": false
   },
   "outputs": [
    {
     "data": {
      "text/html": [
       "<div>\n",
       "<table border=\"1\" class=\"dataframe\">\n",
       "  <thead>\n",
       "    <tr style=\"text-align: right;\">\n",
       "      <th></th>\n",
       "      <th>make</th>\n",
       "      <th>price</th>\n",
       "      <th>mpg</th>\n",
       "      <th>repairs</th>\n",
       "      <th>weight</th>\n",
       "      <th>length</th>\n",
       "      <th>foreign</th>\n",
       "    </tr>\n",
       "  </thead>\n",
       "  <tbody>\n",
       "    <tr>\n",
       "      <th>0</th>\n",
       "      <td>AMC</td>\n",
       "      <td>4099</td>\n",
       "      <td>22</td>\n",
       "      <td>3</td>\n",
       "      <td>2930</td>\n",
       "      <td>186</td>\n",
       "      <td>0</td>\n",
       "    </tr>\n",
       "    <tr>\n",
       "      <th>1</th>\n",
       "      <td>AMC</td>\n",
       "      <td>4749</td>\n",
       "      <td>17</td>\n",
       "      <td>3</td>\n",
       "      <td>3350</td>\n",
       "      <td>173</td>\n",
       "      <td>0</td>\n",
       "    </tr>\n",
       "    <tr>\n",
       "      <th>2</th>\n",
       "      <td>AMC</td>\n",
       "      <td>3799</td>\n",
       "      <td>22</td>\n",
       "      <td>3</td>\n",
       "      <td>2640</td>\n",
       "      <td>168</td>\n",
       "      <td>0</td>\n",
       "    </tr>\n",
       "    <tr>\n",
       "      <th>6</th>\n",
       "      <td>Buick</td>\n",
       "      <td>4816</td>\n",
       "      <td>20</td>\n",
       "      <td>3</td>\n",
       "      <td>3250</td>\n",
       "      <td>196</td>\n",
       "      <td>0</td>\n",
       "    </tr>\n",
       "    <tr>\n",
       "      <th>7</th>\n",
       "      <td>Buick</td>\n",
       "      <td>7827</td>\n",
       "      <td>15</td>\n",
       "      <td>4</td>\n",
       "      <td>4080</td>\n",
       "      <td>222</td>\n",
       "      <td>0</td>\n",
       "    </tr>\n",
       "  </tbody>\n",
       "</table>\n",
       "</div>"
      ],
      "text/plain": [
       "    make  price  mpg  repairs  weight  length  foreign\n",
       "0    AMC   4099   22        3    2930     186        0\n",
       "1    AMC   4749   17        3    3350     173        0\n",
       "2    AMC   3799   22        3    2640     168        0\n",
       "6  Buick   4816   20        3    3250     196        0\n",
       "7  Buick   7827   15        4    4080     222        0"
      ]
     },
     "execution_count": 102,
     "metadata": {},
     "output_type": "execute_result"
    }
   ],
   "source": [
    "domestic.head()"
   ]
  },
  {
   "cell_type": "code",
   "execution_count": 103,
   "metadata": {
    "collapsed": false
   },
   "outputs": [
    {
     "data": {
      "text/plain": [
       "Buick        7\n",
       "Chevrolet    6\n",
       "AMC          3\n",
       "Cadillac     3\n",
       "dtype: int64"
      ]
     },
     "execution_count": 103,
     "metadata": {},
     "output_type": "execute_result"
    }
   ],
   "source": [
    "domestic['make'].value_counts()"
   ]
  },
  {
   "cell_type": "code",
   "execution_count": 104,
   "metadata": {
    "collapsed": false
   },
   "outputs": [
    {
     "data": {
      "text/plain": [
       "0    19\n",
       "1     7\n",
       "dtype: int64"
      ]
     },
     "execution_count": 104,
     "metadata": {},
     "output_type": "execute_result"
    }
   ],
   "source": [
    "auto['foreign'].value_counts()"
   ]
  },
  {
   "cell_type": "code",
   "execution_count": 105,
   "metadata": {
    "collapsed": false
   },
   "outputs": [
    {
     "data": {
      "text/html": [
       "<div>\n",
       "<table border=\"1\" class=\"dataframe\">\n",
       "  <thead>\n",
       "    <tr style=\"text-align: right;\">\n",
       "      <th></th>\n",
       "      <th>make</th>\n",
       "      <th>price</th>\n",
       "      <th>mpg</th>\n",
       "      <th>repairs</th>\n",
       "      <th>weight</th>\n",
       "      <th>length</th>\n",
       "      <th>foreign</th>\n",
       "    </tr>\n",
       "  </thead>\n",
       "  <tbody>\n",
       "    <tr>\n",
       "      <th>0</th>\n",
       "      <td>AMC</td>\n",
       "      <td>4099</td>\n",
       "      <td>22</td>\n",
       "      <td>3</td>\n",
       "      <td>2930</td>\n",
       "      <td>186</td>\n",
       "      <td>0</td>\n",
       "    </tr>\n",
       "    <tr>\n",
       "      <th>2</th>\n",
       "      <td>AMC</td>\n",
       "      <td>3799</td>\n",
       "      <td>22</td>\n",
       "      <td>3</td>\n",
       "      <td>2640</td>\n",
       "      <td>168</td>\n",
       "      <td>0</td>\n",
       "    </tr>\n",
       "    <tr>\n",
       "      <th>9</th>\n",
       "      <td>Buick</td>\n",
       "      <td>4453</td>\n",
       "      <td>26</td>\n",
       "      <td>3</td>\n",
       "      <td>2230</td>\n",
       "      <td>170</td>\n",
       "      <td>0</td>\n",
       "    </tr>\n",
       "    <tr>\n",
       "      <th>16</th>\n",
       "      <td>Chevrolet</td>\n",
       "      <td>3299</td>\n",
       "      <td>29</td>\n",
       "      <td>3</td>\n",
       "      <td>2110</td>\n",
       "      <td>163</td>\n",
       "      <td>0</td>\n",
       "    </tr>\n",
       "    <tr>\n",
       "      <th>18</th>\n",
       "      <td>Chevrolet</td>\n",
       "      <td>4504</td>\n",
       "      <td>22</td>\n",
       "      <td>3</td>\n",
       "      <td>3180</td>\n",
       "      <td>193</td>\n",
       "      <td>0</td>\n",
       "    </tr>\n",
       "  </tbody>\n",
       "</table>\n",
       "</div>"
      ],
      "text/plain": [
       "         make  price  mpg  repairs  weight  length  foreign\n",
       "0         AMC   4099   22        3    2930     186        0\n",
       "2         AMC   3799   22        3    2640     168        0\n",
       "9       Buick   4453   26        3    2230     170        0\n",
       "16  Chevrolet   3299   29        3    2110     163        0\n",
       "18  Chevrolet   4504   22        3    3180     193        0"
      ]
     },
     "execution_count": 105,
     "metadata": {},
     "output_type": "execute_result"
    }
   ],
   "source": [
    "a2= auto[(auto['mpg'] > 20) & (auto['price'] < 5000)]     # 'and' does not work here!\n",
    "a2.head()"
   ]
  },
  {
   "cell_type": "code",
   "execution_count": 106,
   "metadata": {
    "collapsed": false
   },
   "outputs": [
    {
     "data": {
      "text/plain": [
       "(7, 7)"
      ]
     },
     "execution_count": 106,
     "metadata": {},
     "output_type": "execute_result"
    }
   ],
   "source": [
    "a2.shape"
   ]
  },
  {
   "cell_type": "code",
   "execution_count": 107,
   "metadata": {
    "collapsed": false
   },
   "outputs": [
    {
     "data": {
      "text/plain": [
       "make       foreign\n",
       "AMC        0           4215.666667\n",
       "Audi       1           7992.500000\n",
       "BMW        1           9735.000000\n",
       "Buick      0           6075.285714\n",
       "Cadillac   0          13930.333333\n",
       "Chevrolet  0           4372.333333\n",
       "Datsun     1           6006.500000\n",
       "Name: price, dtype: float64"
      ]
     },
     "execution_count": 107,
     "metadata": {},
     "output_type": "execute_result"
    }
   ],
   "source": [
    "grpd= auto.groupby(['make', 'foreign'])\n",
    "grpd['price'].mean()"
   ]
  },
  {
   "cell_type": "code",
   "execution_count": 108,
   "metadata": {
    "collapsed": false
   },
   "outputs": [
    {
     "data": {
      "text/plain": [
       "(16422, 5)"
      ]
     },
     "execution_count": 108,
     "metadata": {},
     "output_type": "execute_result"
    }
   ],
   "source": [
    "crime= pd.read_csv('../../pdacookbook/data/crime.csv')\n",
    "crime.shape"
   ]
  },
  {
   "cell_type": "code",
   "execution_count": 109,
   "metadata": {
    "collapsed": false
   },
   "outputs": [
    {
     "data": {
      "text/html": [
       "<div>\n",
       "<table border=\"1\" class=\"dataframe\">\n",
       "  <thead>\n",
       "    <tr style=\"text-align: right;\">\n",
       "      <th></th>\n",
       "      <th>State</th>\n",
       "      <th>Type of Crime</th>\n",
       "      <th>Crime</th>\n",
       "      <th>Year</th>\n",
       "      <th>Count</th>\n",
       "    </tr>\n",
       "  </thead>\n",
       "  <tbody>\n",
       "    <tr>\n",
       "      <th>0</th>\n",
       "      <td>Alabama</td>\n",
       "      <td>Violent Crime</td>\n",
       "      <td>Murder and nonnegligent Manslaughter</td>\n",
       "      <td>1960</td>\n",
       "      <td>406</td>\n",
       "    </tr>\n",
       "    <tr>\n",
       "      <th>1</th>\n",
       "      <td>Alabama</td>\n",
       "      <td>Violent Crime</td>\n",
       "      <td>Murder and nonnegligent Manslaughter</td>\n",
       "      <td>1961</td>\n",
       "      <td>427</td>\n",
       "    </tr>\n",
       "    <tr>\n",
       "      <th>2</th>\n",
       "      <td>Alabama</td>\n",
       "      <td>Violent Crime</td>\n",
       "      <td>Murder and nonnegligent Manslaughter</td>\n",
       "      <td>1962</td>\n",
       "      <td>316</td>\n",
       "    </tr>\n",
       "    <tr>\n",
       "      <th>3</th>\n",
       "      <td>Alabama</td>\n",
       "      <td>Violent Crime</td>\n",
       "      <td>Murder and nonnegligent Manslaughter</td>\n",
       "      <td>1963</td>\n",
       "      <td>340</td>\n",
       "    </tr>\n",
       "    <tr>\n",
       "      <th>4</th>\n",
       "      <td>Alabama</td>\n",
       "      <td>Violent Crime</td>\n",
       "      <td>Murder and nonnegligent Manslaughter</td>\n",
       "      <td>1964</td>\n",
       "      <td>316</td>\n",
       "    </tr>\n",
       "  </tbody>\n",
       "</table>\n",
       "</div>"
      ],
      "text/plain": [
       "     State  Type of Crime                                 Crime  Year  Count\n",
       "0  Alabama  Violent Crime  Murder and nonnegligent Manslaughter  1960    406\n",
       "1  Alabama  Violent Crime  Murder and nonnegligent Manslaughter  1961    427\n",
       "2  Alabama  Violent Crime  Murder and nonnegligent Manslaughter  1962    316\n",
       "3  Alabama  Violent Crime  Murder and nonnegligent Manslaughter  1963    340\n",
       "4  Alabama  Violent Crime  Murder and nonnegligent Manslaughter  1964    316"
      ]
     },
     "execution_count": 109,
     "metadata": {},
     "output_type": "execute_result"
    }
   ],
   "source": [
    "crime.head()"
   ]
  },
  {
   "cell_type": "code",
   "execution_count": 110,
   "metadata": {
    "collapsed": false
   },
   "outputs": [
    {
     "data": {
      "text/html": [
       "<div>\n",
       "<table border=\"1\" class=\"dataframe\">\n",
       "  <thead>\n",
       "    <tr style=\"text-align: right;\">\n",
       "      <th></th>\n",
       "      <th>State</th>\n",
       "      <th>Type of Crime</th>\n",
       "      <th>Crime</th>\n",
       "      <th>Year</th>\n",
       "      <th>Count</th>\n",
       "    </tr>\n",
       "  </thead>\n",
       "  <tbody>\n",
       "    <tr>\n",
       "      <th>1288</th>\n",
       "      <td>California</td>\n",
       "      <td>Violent Crime</td>\n",
       "      <td>Murder and nonnegligent Manslaughter</td>\n",
       "      <td>1960</td>\n",
       "      <td>616</td>\n",
       "    </tr>\n",
       "    <tr>\n",
       "      <th>1289</th>\n",
       "      <td>California</td>\n",
       "      <td>Violent Crime</td>\n",
       "      <td>Murder and nonnegligent Manslaughter</td>\n",
       "      <td>1961</td>\n",
       "      <td>605</td>\n",
       "    </tr>\n",
       "    <tr>\n",
       "      <th>1290</th>\n",
       "      <td>California</td>\n",
       "      <td>Violent Crime</td>\n",
       "      <td>Murder and nonnegligent Manslaughter</td>\n",
       "      <td>1962</td>\n",
       "      <td>657</td>\n",
       "    </tr>\n",
       "    <tr>\n",
       "      <th>1291</th>\n",
       "      <td>California</td>\n",
       "      <td>Violent Crime</td>\n",
       "      <td>Murder and nonnegligent Manslaughter</td>\n",
       "      <td>1963</td>\n",
       "      <td>673</td>\n",
       "    </tr>\n",
       "    <tr>\n",
       "      <th>1292</th>\n",
       "      <td>California</td>\n",
       "      <td>Violent Crime</td>\n",
       "      <td>Murder and nonnegligent Manslaughter</td>\n",
       "      <td>1964</td>\n",
       "      <td>740</td>\n",
       "    </tr>\n",
       "  </tbody>\n",
       "</table>\n",
       "</div>"
      ],
      "text/plain": [
       "           State  Type of Crime                                 Crime  Year  \\\n",
       "1288  California  Violent Crime  Murder and nonnegligent Manslaughter  1960   \n",
       "1289  California  Violent Crime  Murder and nonnegligent Manslaughter  1961   \n",
       "1290  California  Violent Crime  Murder and nonnegligent Manslaughter  1962   \n",
       "1291  California  Violent Crime  Murder and nonnegligent Manslaughter  1963   \n",
       "1292  California  Violent Crime  Murder and nonnegligent Manslaughter  1964   \n",
       "\n",
       "      Count  \n",
       "1288    616  \n",
       "1289    605  \n",
       "1290    657  \n",
       "1291    673  \n",
       "1292    740  "
      ]
     },
     "execution_count": 110,
     "metadata": {},
     "output_type": "execute_result"
    }
   ],
   "source": [
    "calif= crime[(crime['State']=='California') & (crime['Type of Crime']=='Violent Crime')]\n",
    "calif.head()"
   ]
  },
  {
   "cell_type": "code",
   "execution_count": 111,
   "metadata": {
    "collapsed": false
   },
   "outputs": [
    {
     "data": {
      "text/plain": [
       "Violent Crime    184\n",
       "dtype: int64"
      ]
     },
     "execution_count": 111,
     "metadata": {},
     "output_type": "execute_result"
    }
   ],
   "source": [
    "calif['Type of Crime'].value_counts()"
   ]
  },
  {
   "cell_type": "code",
   "execution_count": 112,
   "metadata": {
    "collapsed": false
   },
   "outputs": [],
   "source": [
    "calif= calif.set_index('Year')"
   ]
  },
  {
   "cell_type": "code",
   "execution_count": 113,
   "metadata": {
    "collapsed": false
   },
   "outputs": [
    {
     "data": {
      "text/plain": [
       "Robbery                                 46\n",
       "Aggravated assault                      46\n",
       "Murder and nonnegligent Manslaughter    46\n",
       "Forcible rape                           46\n",
       "dtype: int64"
      ]
     },
     "execution_count": 113,
     "metadata": {},
     "output_type": "execute_result"
    }
   ],
   "source": [
    "calif['Crime'].value_counts()"
   ]
  },
  {
   "cell_type": "code",
   "execution_count": 114,
   "metadata": {
    "collapsed": false
   },
   "outputs": [
    {
     "data": {
      "text/plain": [
       "<matplotlib.axes._subplots.AxesSubplot at 0xafc385ac>"
      ]
     },
     "execution_count": 114,
     "metadata": {},
     "output_type": "execute_result"
    },
    {
     "data": {
      "image/png": "[encoded data removed]",
      "text/plain": [
       "<matplotlib.figure.Figure at 0xafc3892c>"
      ]
     },
     "metadata": {},
     "output_type": "display_data"
    }
   ],
   "source": [
    "calif.plot()"
   ]
  },
  {
   "cell_type": "code",
   "execution_count": null,
   "metadata": {
    "collapsed": false
   },
   "outputs": [],
   "source": []
  },
  {
   "cell_type": "code",
   "execution_count": null,
   "metadata": {
    "collapsed": false
   },
   "outputs": [],
   "source": []
  },
  {
   "cell_type": "code",
   "execution_count": null,
   "metadata": {
    "collapsed": true
   },
   "outputs": [],
   "source": []
  }
 ],
 "metadata": {
  "kernelspec": {
   "display_name": "Python 2",
   "language": "python",
   "name": "python2"
  },
  "language_info": {
   "codemirror_mode": {
    "name": "ipython",
    "version": 2
   },
   "file_extension": ".py",
   "mimetype": "text/x-python",
   "name": "python",
   "nbconvert_exporter": "python",
   "pygments_lexer": "ipython2",
   "version": "2.7.10"
  }
 },
 "nbformat": 4,
 "nbformat_minor": 0
}
