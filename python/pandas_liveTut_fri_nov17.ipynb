{
 "cells": [
  {
   "cell_type": "markdown",
   "metadata": {
    "slideshow": {
     "slide_type": "slide"
    }
   },
   "source": [
    "# Pandas for Data Manipulation\n",
    "### USI ARA AAM, Nov 19\n",
    "\n",
    "## Notebook Material Credits\n",
    "- Alfred Essa ( @alfessa )\n",
    "- Harrison Kinsley ( @sentdex )\n",
    "- Verena Kaynig-Fittkau (Harvard CS)"
   ]
  },
  {
   "cell_type": "markdown",
   "metadata": {
    "slideshow": {
     "slide_type": "slide"
    }
   },
   "source": [
    "## What is pandas?\n",
    "\n",
    "Pandas is one of the most popular tools for data wrangling in python. In essence, pandas is the equivalent of data frames in R. Additionally, it is tightly tied with numpy and matplotlib. This allows it to be readily amenable to modeling (in scikit-learn) and plotting."
   ]
  },
  {
   "cell_type": "markdown",
   "metadata": {
    "slideshow": {
     "slide_type": "subslide"
    }
   },
   "source": [
    "## Importing modules\n",
    "\n",
    "To start off we shall import the most basic modules that work with pandas."
   ]
  },
  {
   "cell_type": "code",
   "execution_count": 1,
   "metadata": {
    "collapsed": false,
    "slideshow": {
     "slide_type": "fragment"
    }
   },
   "outputs": [],
   "source": [
    "import pandas as pd\n",
    "import numpy as np\n",
    "import matplotlib.pyplot as plt\n",
    "\n",
    "# this allows you to plot and display within the notebook environment\n",
    "%matplotlib inline    "
   ]
  },
  {
   "cell_type": "markdown",
   "metadata": {
    "slideshow": {
     "slide_type": "slide"
    }
   },
   "source": [
    "# Pandas Series\n",
    "\n",
    "The most basic pandas data structure is a *Series* object. A Series **ducktypes** as an numpy array as well as a dictionary. "
   ]
  },
  {
   "cell_type": "code",
   "execution_count": 2,
   "metadata": {
    "collapsed": false,
    "slideshow": {
     "slide_type": "subslide"
    }
   },
   "outputs": [
    {
     "name": "stdout",
     "output_type": "stream",
     "text": [
      "<class 'pandas.core.series.Series'>\n",
      "0    33\n",
      "1    19\n",
      "2    15\n",
      "3    89\n",
      "4    11\n",
      "5    -5\n",
      "6     9\n",
      "dtype: int64\n",
      "33 89\n"
     ]
    }
   ],
   "source": [
    "s1= pd.Series([33,19,15,89,11,-5,9])\n",
    "print type(s1)\n",
    "print s1\n",
    "print s1[0],s1[3]"
   ]
  },
  {
   "cell_type": "markdown",
   "metadata": {
    "slideshow": {
     "slide_type": "slide"
    }
   },
   "source": [
    "## Index in a Series\n",
    "\n",
    "A pandas Series has an **index** that you can optionally specify. If unspecified, it becomes a simple serial number like above. The index is like a reference to the row - it says what that entry is about. Here is an example of a Series that records the temperature on 7 days of a week. "
   ]
  },
  {
   "cell_type": "code",
   "execution_count": 3,
   "metadata": {
    "collapsed": false,
    "slideshow": {
     "slide_type": "subslide"
    }
   },
   "outputs": [
    {
     "name": "stdout",
     "output_type": "stream",
     "text": [
      "mon    33\n",
      "tue    19\n",
      "wed    15\n",
      "thu    89\n",
      "fri    11\n",
      "sat    -5\n",
      "sun     9\n",
      "dtype: int64 \n",
      "\n",
      "\n",
      "33 \n",
      "\n",
      "\n",
      "wed    15\n",
      "thu    89\n",
      "fri    11\n",
      "dtype: int64 \n",
      "\n",
      "\n",
      "wed    15\n",
      "thu    89\n",
      "dtype: int64\n"
     ]
    }
   ],
   "source": [
    "data1= [33,19,15,89,11,-5,9]\n",
    "index1= ['mon','tue','wed','thu','fri','sat','sun']\n",
    "s2= pd.Series(data1, index=index1)\n",
    "print s2, \"\\n\\n\"\n",
    "\n",
    "print s2['mon'], \"\\n\\n\"\n",
    "print s2['wed':'fri'], \"\\n\\n\"\n",
    "print s2[2:4]"
   ]
  },
  {
   "cell_type": "markdown",
   "metadata": {
    "slideshow": {
     "slide_type": "subslide"
    }
   },
   "source": [
    "It is possible for you to give names to your index and data."
   ]
  },
  {
   "cell_type": "code",
   "execution_count": 4,
   "metadata": {
    "collapsed": false,
    "slideshow": {
     "slide_type": "fragment"
    }
   },
   "outputs": [
    {
     "name": "stdout",
     "output_type": "stream",
     "text": [
      "Weekday\n",
      "mon    33\n",
      "tue    19\n",
      "wed    15\n",
      "thu    89\n",
      "fri    11\n",
      "sat    -5\n",
      "sun     9\n",
      "Name: Daily temperature, dtype: int64\n"
     ]
    }
   ],
   "source": [
    "s2.name= 'Daily temperature'\n",
    "s2.index.name= 'Weekday'\n",
    "print s2"
   ]
  },
  {
   "cell_type": "markdown",
   "metadata": {
    "slideshow": {
     "slide_type": "subslide"
    }
   },
   "source": [
    "## Series from a dictionary\n",
    "\n",
    "As you might have guessed by now, the reason Series behaves like a dictionary is because of this index. Thus, you can create a Series out of a dict, and the dict keys become the indices. There is a catch, though. Pandas will *rearrange* the indices in alphabetic / numeric sort order (which might not be what you wanted)."
   ]
  },
  {
   "cell_type": "code",
   "execution_count": 5,
   "metadata": {
    "collapsed": false,
    "scrolled": true,
    "slideshow": {
     "slide_type": "fragment"
    }
   },
   "outputs": [
    {
     "name": "stdout",
     "output_type": "stream",
     "text": [
      "fri    34.0\n",
      "mon    33.0\n",
      "sat    43.0\n",
      "sun    51.0\n",
      "thu    89.0\n",
      "tue    19.7\n",
      "wed    15.0\n",
      "dtype: float64\n"
     ]
    }
   ],
   "source": [
    "dict1= {'mon':33, 'tue':19.7, 'wed':15, 'thu':89, 'fri': 34, 'sat': 43, 'sun': 51}\n",
    "s4= pd.Series(dict1)\n",
    "print s4"
   ]
  },
  {
   "cell_type": "markdown",
   "metadata": {
    "slideshow": {
     "slide_type": "subslide"
    }
   },
   "source": [
    "To remedy this you need to specify the index in the way you want it, while the data can come from the dict. "
   ]
  },
  {
   "cell_type": "code",
   "execution_count": 6,
   "metadata": {
    "collapsed": false,
    "slideshow": {
     "slide_type": "fragment"
    }
   },
   "outputs": [
    {
     "name": "stdout",
     "output_type": "stream",
     "text": [
      "mon    33.0\n",
      "tue    19.7\n",
      "wed    15.0\n",
      "thu    89.0\n",
      "fri    34.0\n",
      "sat    43.0\n",
      "sun    51.0\n",
      "dtype: float64\n"
     ]
    }
   ],
   "source": [
    "s4= pd.Series(dict1, index= index1)\n",
    "print s4"
   ]
  },
  {
   "cell_type": "markdown",
   "metadata": {
    "slideshow": {
     "slide_type": "subslide"
    }
   },
   "source": [
    "Also, just like a dict, you can iterate over the entries."
   ]
  },
  {
   "cell_type": "code",
   "execution_count": 7,
   "metadata": {
    "collapsed": false,
    "slideshow": {
     "slide_type": "fragment"
    }
   },
   "outputs": [
    {
     "name": "stdout",
     "output_type": "stream",
     "text": [
      "mon 33.0\n",
      "tue 19.7\n",
      "wed 15.0\n",
      "thu 89.0\n",
      "fri 34.0\n",
      "sat 43.0\n",
      "sun 51.0\n"
     ]
    }
   ],
   "source": [
    "for k,v in s4.iteritems():\n",
    "    print k, v"
   ]
  },
  {
   "cell_type": "markdown",
   "metadata": {
    "slideshow": {
     "slide_type": "subslide"
    }
   },
   "source": [
    "Also, just like a dictionary, you can operate on the keys."
   ]
  },
  {
   "cell_type": "code",
   "execution_count": 8,
   "metadata": {
    "collapsed": false,
    "slideshow": {
     "slide_type": "fragment"
    }
   },
   "outputs": [
    {
     "name": "stdout",
     "output_type": "stream",
     "text": [
      "89.0 \n",
      "\n",
      "\n",
      "89.0 \n",
      "\n",
      "\n",
      "True \n",
      "\n",
      "\n",
      "False\n"
     ]
    }
   ],
   "source": [
    "print s4['thu'], \"\\n\\n\"\n",
    "print s4[3], \"\\n\\n\"\n",
    "print 'sun' in s4, \"\\n\\n\"\n",
    "print 'moon' in s4"
   ]
  },
  {
   "cell_type": "markdown",
   "metadata": {
    "slideshow": {
     "slide_type": "slide"
    }
   },
   "source": [
    "## Vectorized operations\n",
    "\n",
    "Because Series is derived from  a numpy array, it allows numpy functions and vectorized operations. "
   ]
  },
  {
   "cell_type": "code",
   "execution_count": 9,
   "metadata": {
    "collapsed": false,
    "slideshow": {
     "slide_type": "subslide"
    }
   },
   "outputs": [
    {
     "name": "stdout",
     "output_type": "stream",
     "text": [
      "284.7 \n",
      "\n",
      "\n",
      "34.0 \n",
      "\n",
      "\n",
      "mon     33.0\n",
      "tue     52.7\n",
      "wed     67.7\n",
      "thu    156.7\n",
      "fri    190.7\n",
      "sat    233.7\n",
      "sun    284.7\n",
      "dtype: float64\n"
     ]
    }
   ],
   "source": [
    "print s4.sum(), \"\\n\\n\"\n",
    "print s4.median(), \"\\n\\n\"\n",
    "print s4.cumsum()"
   ]
  },
  {
   "cell_type": "code",
   "execution_count": 10,
   "metadata": {
    "collapsed": false,
    "slideshow": {
     "slide_type": "subslide"
    }
   },
   "outputs": [
    {
     "name": "stdout",
     "output_type": "stream",
     "text": [
      "mon     66.0\n",
      "tue     39.4\n",
      "wed     30.0\n",
      "thu    178.0\n",
      "fri     68.0\n",
      "sat     86.0\n",
      "sun    102.0\n",
      "dtype: float64 \n",
      "\n",
      "\n",
      "mon    1089.00\n",
      "tue     388.09\n",
      "wed     225.00\n",
      "thu    7921.00\n",
      "fri    1156.00\n",
      "sat    1849.00\n",
      "sun    2601.00\n",
      "dtype: float64 \n",
      "\n",
      "\n",
      "mon    133.0\n",
      "tue    119.7\n",
      "wed    115.0\n",
      "thu    189.0\n",
      "fri    134.0\n",
      "sat    143.0\n",
      "sun    151.0\n",
      "dtype: float64\n"
     ]
    }
   ],
   "source": [
    "print s4 * 2 , \"\\n\\n\"\n",
    "print s4 **2, \"\\n\\n\"\n",
    "print s4 + 100"
   ]
  },
  {
   "cell_type": "markdown",
   "metadata": {
    "slideshow": {
     "slide_type": "subslide"
    }
   },
   "source": [
    "You can also perform list comprehension"
   ]
  },
  {
   "cell_type": "code",
   "execution_count": 11,
   "metadata": {
    "collapsed": false,
    "slideshow": {
     "slide_type": "fragment"
    }
   },
   "outputs": [
    {
     "name": "stdout",
     "output_type": "stream",
     "text": [
      "[1089.0, 388.08999999999997, 225.0, 7921.0, 1156.0, 1849.0, 2601.0]\n"
     ]
    }
   ],
   "source": [
    "new = [x**2 for x in s4]\n",
    "print new"
   ]
  },
  {
   "cell_type": "markdown",
   "metadata": {
    "slideshow": {
     "slide_type": "slide"
    }
   },
   "source": [
    "# Pandas DataFrame\n",
    "\n",
    "While pandas Series are interesting, they are not too useful - you can make do with dicts and arrays ni place of Series. Pandas becomes really useful with its next datastructure - the *DataFrame*. DataFrame is a set of Series objects stacked horizontally together across a single index for each row. As you might imagine, this is essentially data like a spreadsheet, in rows and columns. This is the most common format data scientists use on a daily basis. \n",
    "\n",
    "You can create your own dataframes as demonstrated below. "
   ]
  },
  {
   "cell_type": "code",
   "execution_count": 12,
   "metadata": {
    "collapsed": false,
    "slideshow": {
     "slide_type": "slide"
    }
   },
   "outputs": [
    {
     "name": "stdout",
     "output_type": "stream",
     "text": [
      "['2014-12-01', '2014-12-02', '2014-12-03', '2014-12-04', '2014-12-05', '2014-12-06', '2014-12-07']\n"
     ]
    }
   ],
   "source": [
    "import datetime as dtm\n",
    "\n",
    "dt= dtm.datetime(2014,12,1)\n",
    "en= dtm.datetime(2014,12,8)\n",
    "step= dtm.timedelta(days=1)\n",
    "dates= []\n",
    "while dt < en:\n",
    "    dates.append(dt.strftime('%Y-%m-%d'))\n",
    "    dt += step\n",
    "print dates"
   ]
  },
  {
   "cell_type": "code",
   "execution_count": 13,
   "metadata": {
    "collapsed": false,
    "slideshow": {
     "slide_type": "subslide"
    }
   },
   "outputs": [
    {
     "name": "stdout",
     "output_type": "stream",
     "text": [
      "{'Date': ['2014-12-01', '2014-12-02', '2014-12-03', '2014-12-04', '2014-12-05', '2014-12-06', '2014-12-07'], 'Paris': [-2, 0, 2, 5, 7, -5, -3], 'Mumbai': [20, 18, 23, 19, 25, 27, 23], 'Tokyo': [15, 19, 15, 11, 9, 8, 13]}\n"
     ]
    }
   ],
   "source": [
    "t1= [15,19,15,11,9,8,13]\n",
    "t2= [20,18,23,19,25,27,23]\n",
    "t3= [-2,0,2,5,7,-5,-3]\n",
    "d= {'Date': dates,'Tokyo': t1, 'Mumbai': t2, 'Paris': t3}\n",
    "print d"
   ]
  },
  {
   "cell_type": "code",
   "execution_count": 14,
   "metadata": {
    "collapsed": false,
    "slideshow": {
     "slide_type": "subslide"
    }
   },
   "outputs": [
    {
     "data": {
      "text/html": [
       "<div>\n",
       "<table border=\"1\" class=\"dataframe\">\n",
       "  <thead>\n",
       "    <tr style=\"text-align: right;\">\n",
       "      <th></th>\n",
       "      <th>Date</th>\n",
       "      <th>Mumbai</th>\n",
       "      <th>Paris</th>\n",
       "      <th>Tokyo</th>\n",
       "    </tr>\n",
       "  </thead>\n",
       "  <tbody>\n",
       "    <tr>\n",
       "      <th>0</th>\n",
       "      <td>2014-12-01</td>\n",
       "      <td>20</td>\n",
       "      <td>-2</td>\n",
       "      <td>15</td>\n",
       "    </tr>\n",
       "    <tr>\n",
       "      <th>1</th>\n",
       "      <td>2014-12-02</td>\n",
       "      <td>18</td>\n",
       "      <td>0</td>\n",
       "      <td>19</td>\n",
       "    </tr>\n",
       "    <tr>\n",
       "      <th>2</th>\n",
       "      <td>2014-12-03</td>\n",
       "      <td>23</td>\n",
       "      <td>2</td>\n",
       "      <td>15</td>\n",
       "    </tr>\n",
       "    <tr>\n",
       "      <th>3</th>\n",
       "      <td>2014-12-04</td>\n",
       "      <td>19</td>\n",
       "      <td>5</td>\n",
       "      <td>11</td>\n",
       "    </tr>\n",
       "    <tr>\n",
       "      <th>4</th>\n",
       "      <td>2014-12-05</td>\n",
       "      <td>25</td>\n",
       "      <td>7</td>\n",
       "      <td>9</td>\n",
       "    </tr>\n",
       "    <tr>\n",
       "      <th>5</th>\n",
       "      <td>2014-12-06</td>\n",
       "      <td>27</td>\n",
       "      <td>-5</td>\n",
       "      <td>8</td>\n",
       "    </tr>\n",
       "    <tr>\n",
       "      <th>6</th>\n",
       "      <td>2014-12-07</td>\n",
       "      <td>23</td>\n",
       "      <td>-3</td>\n",
       "      <td>13</td>\n",
       "    </tr>\n",
       "  </tbody>\n",
       "</table>\n",
       "</div>"
      ],
      "text/plain": [
       "         Date  Mumbai  Paris  Tokyo\n",
       "0  2014-12-01      20     -2     15\n",
       "1  2014-12-02      18      0     19\n",
       "2  2014-12-03      23      2     15\n",
       "3  2014-12-04      19      5     11\n",
       "4  2014-12-05      25      7      9\n",
       "5  2014-12-06      27     -5      8\n",
       "6  2014-12-07      23     -3     13"
      ]
     },
     "execution_count": 14,
     "metadata": {},
     "output_type": "execute_result"
    }
   ],
   "source": [
    "temps= pd.DataFrame(d)\n",
    "temps"
   ]
  },
  {
   "cell_type": "markdown",
   "metadata": {
    "slideshow": {
     "slide_type": "subslide"
    }
   },
   "source": [
    "Each column in the dataset is a Series, and it can be referenced using the column name."
   ]
  },
  {
   "cell_type": "code",
   "execution_count": 15,
   "metadata": {
    "collapsed": false,
    "slideshow": {
     "slide_type": "fragment"
    }
   },
   "outputs": [
    {
     "name": "stdout",
     "output_type": "stream",
     "text": [
      "<class 'pandas.core.series.Series'>\n"
     ]
    }
   ],
   "source": [
    "print type(temps['Mumbai'])"
   ]
  },
  {
   "cell_type": "markdown",
   "metadata": {
    "slideshow": {
     "slide_type": "subslide"
    }
   },
   "source": [
    "You can define the index in the dataframe using the `set_index` command. Note that some pandas commands like `set_index` do not update the dataframe directly. So you have to over-write the dataframe for the changes to take effect. We shall see a different way of doing it shortly."
   ]
  },
  {
   "cell_type": "code",
   "execution_count": 16,
   "metadata": {
    "collapsed": false,
    "slideshow": {
     "slide_type": "fragment"
    }
   },
   "outputs": [
    {
     "data": {
      "text/html": [
       "<div>\n",
       "<table border=\"1\" class=\"dataframe\">\n",
       "  <thead>\n",
       "    <tr style=\"text-align: right;\">\n",
       "      <th></th>\n",
       "      <th>Mumbai</th>\n",
       "      <th>Paris</th>\n",
       "      <th>Tokyo</th>\n",
       "    </tr>\n",
       "    <tr>\n",
       "      <th>Date</th>\n",
       "      <th></th>\n",
       "      <th></th>\n",
       "      <th></th>\n",
       "    </tr>\n",
       "  </thead>\n",
       "  <tbody>\n",
       "    <tr>\n",
       "      <th>2014-12-01</th>\n",
       "      <td>20</td>\n",
       "      <td>-2</td>\n",
       "      <td>15</td>\n",
       "    </tr>\n",
       "    <tr>\n",
       "      <th>2014-12-02</th>\n",
       "      <td>18</td>\n",
       "      <td>0</td>\n",
       "      <td>19</td>\n",
       "    </tr>\n",
       "    <tr>\n",
       "      <th>2014-12-03</th>\n",
       "      <td>23</td>\n",
       "      <td>2</td>\n",
       "      <td>15</td>\n",
       "    </tr>\n",
       "    <tr>\n",
       "      <th>2014-12-04</th>\n",
       "      <td>19</td>\n",
       "      <td>5</td>\n",
       "      <td>11</td>\n",
       "    </tr>\n",
       "    <tr>\n",
       "      <th>2014-12-05</th>\n",
       "      <td>25</td>\n",
       "      <td>7</td>\n",
       "      <td>9</td>\n",
       "    </tr>\n",
       "  </tbody>\n",
       "</table>\n",
       "</div>"
      ],
      "text/plain": [
       "            Mumbai  Paris  Tokyo\n",
       "Date                            \n",
       "2014-12-01      20     -2     15\n",
       "2014-12-02      18      0     19\n",
       "2014-12-03      23      2     15\n",
       "2014-12-04      19      5     11\n",
       "2014-12-05      25      7      9"
      ]
     },
     "execution_count": 16,
     "metadata": {},
     "output_type": "execute_result"
    }
   ],
   "source": [
    "temps= temps.set_index('Date') \n",
    "#you cannot repeat this command!!\n",
    "temps.head()"
   ]
  },
  {
   "cell_type": "markdown",
   "metadata": {
    "slideshow": {
     "slide_type": "slide"
    }
   },
   "source": [
    "## Rows and Columns\n",
    "\n",
    "The most basic thing you want to do on the data frame is to be able to access its rows and columns for data. This can be done using column names and indices. "
   ]
  },
  {
   "cell_type": "code",
   "execution_count": 17,
   "metadata": {
    "collapsed": false,
    "slideshow": {
     "slide_type": "subslide"
    }
   },
   "outputs": [
    {
     "data": {
      "text/html": [
       "<div>\n",
       "<table border=\"1\" class=\"dataframe\">\n",
       "  <thead>\n",
       "    <tr style=\"text-align: right;\">\n",
       "      <th></th>\n",
       "      <th>Madrid</th>\n",
       "      <th>Boston</th>\n",
       "      <th>Tokyo</th>\n",
       "      <th>Shanghai</th>\n",
       "      <th>Kolkata</th>\n",
       "    </tr>\n",
       "  </thead>\n",
       "  <tbody>\n",
       "    <tr>\n",
       "      <th>2014-02-25</th>\n",
       "      <td>-12</td>\n",
       "      <td>18</td>\n",
       "      <td>19</td>\n",
       "      <td>-13</td>\n",
       "      <td>-16</td>\n",
       "    </tr>\n",
       "    <tr>\n",
       "      <th>2014-02-26</th>\n",
       "      <td>11</td>\n",
       "      <td>11</td>\n",
       "      <td>-5</td>\n",
       "      <td>-6</td>\n",
       "      <td>39</td>\n",
       "    </tr>\n",
       "    <tr>\n",
       "      <th>2014-02-27</th>\n",
       "      <td>27</td>\n",
       "      <td>20</td>\n",
       "      <td>-9</td>\n",
       "      <td>36</td>\n",
       "      <td>21</td>\n",
       "    </tr>\n",
       "    <tr>\n",
       "      <th>2014-02-28</th>\n",
       "      <td>40</td>\n",
       "      <td>33</td>\n",
       "      <td>12</td>\n",
       "      <td>-12</td>\n",
       "      <td>40</td>\n",
       "    </tr>\n",
       "    <tr>\n",
       "      <th>2014-03-01</th>\n",
       "      <td>8</td>\n",
       "      <td>34</td>\n",
       "      <td>11</td>\n",
       "      <td>-9</td>\n",
       "      <td>21</td>\n",
       "    </tr>\n",
       "  </tbody>\n",
       "</table>\n",
       "</div>"
      ],
      "text/plain": [
       "            Madrid  Boston  Tokyo  Shanghai  Kolkata\n",
       "2014-02-25     -12      18     19       -13      -16\n",
       "2014-02-26      11      11     -5        -6       39\n",
       "2014-02-27      27      20     -9        36       21\n",
       "2014-02-28      40      33     12       -12       40\n",
       "2014-03-01       8      34     11        -9       21"
      ]
     },
     "execution_count": 17,
     "metadata": {},
     "output_type": "execute_result"
    }
   ],
   "source": [
    "days= pd.date_range('2014-01-01', '2014-03-01', freq= 'D')\n",
    "dim= (60,5)\n",
    "df= pd.DataFrame(np.random.random_integers(-20,40,dim),\n",
    "                index= days,\n",
    "                columns= ['Madrid','Boston','Tokyo','Shanghai','Kolkata'])\n",
    "df.tail()"
   ]
  },
  {
   "cell_type": "code",
   "execution_count": 18,
   "metadata": {
    "collapsed": false,
    "slideshow": {
     "slide_type": "subslide"
    }
   },
   "outputs": [
    {
     "name": "stdout",
     "output_type": "stream",
     "text": [
      "(60, 5) \n",
      "\n",
      "\n",
      "60 \n",
      "\n",
      "\n",
      "['Madrid' 'Boston' 'Tokyo' 'Shanghai' 'Kolkata'] \n",
      "\n",
      "\n",
      "5\n"
     ]
    }
   ],
   "source": [
    "print df.shape, \"\\n\\n\"\n",
    "print len(df), \"\\n\\n\"\n",
    "print df.columns.values, \"\\n\\n\"\n",
    "print len(df.columns.values)"
   ]
  },
  {
   "cell_type": "code",
   "execution_count": 19,
   "metadata": {
    "collapsed": false,
    "slideshow": {
     "slide_type": "subslide"
    }
   },
   "outputs": [
    {
     "name": "stdout",
     "output_type": "stream",
     "text": [
      "DatetimeIndex(['2014-01-01', '2014-01-02', '2014-01-03', '2014-01-04',\n",
      "               '2014-01-05', '2014-01-06', '2014-01-07', '2014-01-08',\n",
      "               '2014-01-09', '2014-01-10', '2014-01-11', '2014-01-12',\n",
      "               '2014-01-13', '2014-01-14', '2014-01-15', '2014-01-16',\n",
      "               '2014-01-17', '2014-01-18', '2014-01-19', '2014-01-20',\n",
      "               '2014-01-21', '2014-01-22', '2014-01-23', '2014-01-24',\n",
      "               '2014-01-25', '2014-01-26', '2014-01-27', '2014-01-28',\n",
      "               '2014-01-29', '2014-01-30', '2014-01-31', '2014-02-01',\n",
      "               '2014-02-02', '2014-02-03', '2014-02-04', '2014-02-05',\n",
      "               '2014-02-06', '2014-02-07', '2014-02-08', '2014-02-09',\n",
      "               '2014-02-10', '2014-02-11', '2014-02-12', '2014-02-13',\n",
      "               '2014-02-14', '2014-02-15', '2014-02-16', '2014-02-17',\n",
      "               '2014-02-18', '2014-02-19', '2014-02-20', '2014-02-21',\n",
      "               '2014-02-22', '2014-02-23', '2014-02-24', '2014-02-25',\n",
      "               '2014-02-26', '2014-02-27', '2014-02-28', '2014-03-01'],\n",
      "              dtype='datetime64[ns]', freq='D')\n"
     ]
    }
   ],
   "source": [
    "print df.index"
   ]
  },
  {
   "cell_type": "markdown",
   "metadata": {
    "slideshow": {
     "slide_type": "slide"
    }
   },
   "source": [
    "### Column Selection\n",
    "\n",
    "You can select columns by referring to the column name"
   ]
  },
  {
   "cell_type": "code",
   "execution_count": 20,
   "metadata": {
    "collapsed": false,
    "slideshow": {
     "slide_type": "subslide"
    }
   },
   "outputs": [
    {
     "name": "stdout",
     "output_type": "stream",
     "text": [
      "2014-01-01    -9\n",
      "2014-01-02    -6\n",
      "2014-01-03    18\n",
      "2014-01-04   -17\n",
      "2014-01-05    21\n",
      "Freq: D, Name: Madrid, dtype: int64\n"
     ]
    }
   ],
   "source": [
    "print df.Madrid.head()"
   ]
  },
  {
   "cell_type": "code",
   "execution_count": 21,
   "metadata": {
    "collapsed": false,
    "slideshow": {
     "slide_type": "fragment"
    }
   },
   "outputs": [
    {
     "name": "stdout",
     "output_type": "stream",
     "text": [
      "2014-02-25    19\n",
      "2014-02-26    -5\n",
      "2014-02-27    -9\n",
      "2014-02-28    12\n",
      "2014-03-01    11\n",
      "Freq: D, Name: Tokyo, dtype: int64\n"
     ]
    }
   ],
   "source": [
    "print df['Tokyo'].tail()"
   ]
  },
  {
   "cell_type": "code",
   "execution_count": 22,
   "metadata": {
    "collapsed": false,
    "slideshow": {
     "slide_type": "subslide"
    }
   },
   "outputs": [
    {
     "data": {
      "text/html": [
       "<div>\n",
       "<table border=\"1\" class=\"dataframe\">\n",
       "  <thead>\n",
       "    <tr style=\"text-align: right;\">\n",
       "      <th></th>\n",
       "      <th>Boston</th>\n",
       "      <th>Shanghai</th>\n",
       "    </tr>\n",
       "  </thead>\n",
       "  <tbody>\n",
       "    <tr>\n",
       "      <th>2014-01-01</th>\n",
       "      <td>-11</td>\n",
       "      <td>0</td>\n",
       "    </tr>\n",
       "    <tr>\n",
       "      <th>2014-01-02</th>\n",
       "      <td>-3</td>\n",
       "      <td>-19</td>\n",
       "    </tr>\n",
       "    <tr>\n",
       "      <th>2014-01-03</th>\n",
       "      <td>32</td>\n",
       "      <td>40</td>\n",
       "    </tr>\n",
       "    <tr>\n",
       "      <th>2014-01-04</th>\n",
       "      <td>-17</td>\n",
       "      <td>29</td>\n",
       "    </tr>\n",
       "    <tr>\n",
       "      <th>2014-01-05</th>\n",
       "      <td>3</td>\n",
       "      <td>-8</td>\n",
       "    </tr>\n",
       "  </tbody>\n",
       "</table>\n",
       "</div>"
      ],
      "text/plain": [
       "            Boston  Shanghai\n",
       "2014-01-01     -11         0\n",
       "2014-01-02      -3       -19\n",
       "2014-01-03      32        40\n",
       "2014-01-04     -17        29\n",
       "2014-01-05       3        -8"
      ]
     },
     "execution_count": 22,
     "metadata": {},
     "output_type": "execute_result"
    }
   ],
   "source": [
    "df[['Boston', 'Shanghai']].head()"
   ]
  },
  {
   "cell_type": "markdown",
   "metadata": {
    "slideshow": {
     "slide_type": "slide"
    }
   },
   "source": [
    "### Row selection \n",
    "\n",
    "You can select rows by using the *ix* function. Note that there are 2 other functions: *loc* and *iloc*. Read about the subtle differences [here](http://stackoverflow.com/questions/31593201/pandas-iloc-vs-ix-vs-loc-explanation). I personally prefer using **ix** since its a wrapper on the others. And then again, mostly nobody selects rows by index."
   ]
  },
  {
   "cell_type": "code",
   "execution_count": 23,
   "metadata": {
    "collapsed": false,
    "slideshow": {
     "slide_type": "subslide"
    }
   },
   "outputs": [
    {
     "data": {
      "text/plain": [
       "Madrid       7\n",
       "Boston      25\n",
       "Tokyo      -16\n",
       "Shanghai    15\n",
       "Kolkata     -5\n",
       "Name: 2014-01-15 00:00:00, dtype: int64"
      ]
     },
     "execution_count": 23,
     "metadata": {},
     "output_type": "execute_result"
    }
   ],
   "source": [
    "df.ix['2014-01-15']"
   ]
  },
  {
   "cell_type": "code",
   "execution_count": 24,
   "metadata": {
    "collapsed": false,
    "scrolled": true,
    "slideshow": {
     "slide_type": "fragment"
    }
   },
   "outputs": [
    {
     "data": {
      "text/html": [
       "<div>\n",
       "<table border=\"1\" class=\"dataframe\">\n",
       "  <thead>\n",
       "    <tr style=\"text-align: right;\">\n",
       "      <th></th>\n",
       "      <th>Madrid</th>\n",
       "      <th>Boston</th>\n",
       "      <th>Tokyo</th>\n",
       "      <th>Shanghai</th>\n",
       "      <th>Kolkata</th>\n",
       "    </tr>\n",
       "  </thead>\n",
       "  <tbody>\n",
       "    <tr>\n",
       "      <th>2014-01-24</th>\n",
       "      <td>37</td>\n",
       "      <td>25</td>\n",
       "      <td>20</td>\n",
       "      <td>10</td>\n",
       "      <td>-4</td>\n",
       "    </tr>\n",
       "    <tr>\n",
       "      <th>2014-01-25</th>\n",
       "      <td>33</td>\n",
       "      <td>4</td>\n",
       "      <td>14</td>\n",
       "      <td>-9</td>\n",
       "      <td>-19</td>\n",
       "    </tr>\n",
       "    <tr>\n",
       "      <th>2014-01-26</th>\n",
       "      <td>-16</td>\n",
       "      <td>-7</td>\n",
       "      <td>8</td>\n",
       "      <td>4</td>\n",
       "      <td>18</td>\n",
       "    </tr>\n",
       "    <tr>\n",
       "      <th>2014-01-27</th>\n",
       "      <td>-12</td>\n",
       "      <td>-16</td>\n",
       "      <td>-10</td>\n",
       "      <td>-4</td>\n",
       "      <td>32</td>\n",
       "    </tr>\n",
       "    <tr>\n",
       "      <th>2014-01-28</th>\n",
       "      <td>27</td>\n",
       "      <td>2</td>\n",
       "      <td>-6</td>\n",
       "      <td>40</td>\n",
       "      <td>19</td>\n",
       "    </tr>\n",
       "    <tr>\n",
       "      <th>2014-01-29</th>\n",
       "      <td>20</td>\n",
       "      <td>1</td>\n",
       "      <td>2</td>\n",
       "      <td>25</td>\n",
       "      <td>-6</td>\n",
       "    </tr>\n",
       "    <tr>\n",
       "      <th>2014-01-30</th>\n",
       "      <td>12</td>\n",
       "      <td>36</td>\n",
       "      <td>-17</td>\n",
       "      <td>1</td>\n",
       "      <td>26</td>\n",
       "    </tr>\n",
       "    <tr>\n",
       "      <th>2014-01-31</th>\n",
       "      <td>5</td>\n",
       "      <td>-19</td>\n",
       "      <td>-8</td>\n",
       "      <td>33</td>\n",
       "      <td>-4</td>\n",
       "    </tr>\n",
       "  </tbody>\n",
       "</table>\n",
       "</div>"
      ],
      "text/plain": [
       "            Madrid  Boston  Tokyo  Shanghai  Kolkata\n",
       "2014-01-24      37      25     20        10       -4\n",
       "2014-01-25      33       4     14        -9      -19\n",
       "2014-01-26     -16      -7      8         4       18\n",
       "2014-01-27     -12     -16    -10        -4       32\n",
       "2014-01-28      27       2     -6        40       19\n",
       "2014-01-29      20       1      2        25       -6\n",
       "2014-01-30      12      36    -17         1       26\n",
       "2014-01-31       5     -19     -8        33       -4"
      ]
     },
     "execution_count": 24,
     "metadata": {},
     "output_type": "execute_result"
    }
   ],
   "source": [
    "df.ix['2014-01-24':'2014-01-31']"
   ]
  },
  {
   "cell_type": "code",
   "execution_count": 25,
   "metadata": {
    "collapsed": false,
    "slideshow": {
     "slide_type": "subslide"
    }
   },
   "outputs": [
    {
     "data": {
      "text/html": [
       "<div>\n",
       "<table border=\"1\" class=\"dataframe\">\n",
       "  <thead>\n",
       "    <tr style=\"text-align: right;\">\n",
       "      <th></th>\n",
       "      <th>Madrid</th>\n",
       "      <th>Kolkata</th>\n",
       "    </tr>\n",
       "  </thead>\n",
       "  <tbody>\n",
       "    <tr>\n",
       "      <th>2014-02-10</th>\n",
       "      <td>8</td>\n",
       "      <td>4</td>\n",
       "    </tr>\n",
       "    <tr>\n",
       "      <th>2014-02-11</th>\n",
       "      <td>2</td>\n",
       "      <td>11</td>\n",
       "    </tr>\n",
       "    <tr>\n",
       "      <th>2014-02-12</th>\n",
       "      <td>-14</td>\n",
       "      <td>-6</td>\n",
       "    </tr>\n",
       "    <tr>\n",
       "      <th>2014-02-13</th>\n",
       "      <td>23</td>\n",
       "      <td>2</td>\n",
       "    </tr>\n",
       "    <tr>\n",
       "      <th>2014-02-14</th>\n",
       "      <td>40</td>\n",
       "      <td>12</td>\n",
       "    </tr>\n",
       "    <tr>\n",
       "      <th>2014-02-15</th>\n",
       "      <td>-3</td>\n",
       "      <td>-10</td>\n",
       "    </tr>\n",
       "  </tbody>\n",
       "</table>\n",
       "</div>"
      ],
      "text/plain": [
       "            Madrid  Kolkata\n",
       "2014-02-10       8        4\n",
       "2014-02-11       2       11\n",
       "2014-02-12     -14       -6\n",
       "2014-02-13      23        2\n",
       "2014-02-14      40       12\n",
       "2014-02-15      -3      -10"
      ]
     },
     "execution_count": 25,
     "metadata": {},
     "output_type": "execute_result"
    }
   ],
   "source": [
    "df.ix['2014-02-10':'2014-02-15', ['Madrid', 'Kolkata']]"
   ]
  },
  {
   "cell_type": "markdown",
   "metadata": {
    "collapsed": true,
    "slideshow": {
     "slide_type": "slide"
    }
   },
   "source": [
    "### Logical Selection of Rows \n",
    "\n",
    "Rarely do we select rows directly by their row number. Sometimes selecting by index may be useful. But the most widely used row selection technique in data science is *logical indexing* , which is a fancy term that means *conditional to values in some column(s)*. Let us see this in the next example where we import an external data frame for the first time in this lesson. This too, is the de-facto standard (needless to say)."
   ]
  },
  {
   "cell_type": "code",
   "execution_count": 26,
   "metadata": {
    "collapsed": false,
    "slideshow": {
     "slide_type": "subslide"
    }
   },
   "outputs": [
    {
     "name": "stdout",
     "output_type": "stream",
     "text": [
      "(26, 7)\n"
     ]
    },
    {
     "data": {
      "text/html": [
       "<div>\n",
       "<table border=\"1\" class=\"dataframe\">\n",
       "  <thead>\n",
       "    <tr style=\"text-align: right;\">\n",
       "      <th></th>\n",
       "      <th>make</th>\n",
       "      <th>price</th>\n",
       "      <th>mpg</th>\n",
       "      <th>repairs</th>\n",
       "      <th>weight</th>\n",
       "      <th>length</th>\n",
       "      <th>foreign</th>\n",
       "    </tr>\n",
       "  </thead>\n",
       "  <tbody>\n",
       "    <tr>\n",
       "      <th>0</th>\n",
       "      <td>AMC</td>\n",
       "      <td>4099</td>\n",
       "      <td>22</td>\n",
       "      <td>3</td>\n",
       "      <td>2930</td>\n",
       "      <td>186</td>\n",
       "      <td>0</td>\n",
       "    </tr>\n",
       "    <tr>\n",
       "      <th>1</th>\n",
       "      <td>AMC</td>\n",
       "      <td>4749</td>\n",
       "      <td>17</td>\n",
       "      <td>3</td>\n",
       "      <td>3350</td>\n",
       "      <td>173</td>\n",
       "      <td>0</td>\n",
       "    </tr>\n",
       "    <tr>\n",
       "      <th>2</th>\n",
       "      <td>AMC</td>\n",
       "      <td>3799</td>\n",
       "      <td>22</td>\n",
       "      <td>3</td>\n",
       "      <td>2640</td>\n",
       "      <td>168</td>\n",
       "      <td>0</td>\n",
       "    </tr>\n",
       "    <tr>\n",
       "      <th>3</th>\n",
       "      <td>Audi</td>\n",
       "      <td>9690</td>\n",
       "      <td>17</td>\n",
       "      <td>5</td>\n",
       "      <td>2830</td>\n",
       "      <td>189</td>\n",
       "      <td>1</td>\n",
       "    </tr>\n",
       "    <tr>\n",
       "      <th>4</th>\n",
       "      <td>Audi</td>\n",
       "      <td>6295</td>\n",
       "      <td>23</td>\n",
       "      <td>3</td>\n",
       "      <td>2070</td>\n",
       "      <td>174</td>\n",
       "      <td>1</td>\n",
       "    </tr>\n",
       "  </tbody>\n",
       "</table>\n",
       "</div>"
      ],
      "text/plain": [
       "   make  price  mpg  repairs  weight  length  foreign\n",
       "0   AMC   4099   22        3    2930     186        0\n",
       "1   AMC   4749   17        3    3350     173        0\n",
       "2   AMC   3799   22        3    2640     168        0\n",
       "3  Audi   9690   17        5    2830     189        1\n",
       "4  Audi   6295   23        3    2070     174        1"
      ]
     },
     "execution_count": 26,
     "metadata": {},
     "output_type": "execute_result"
    }
   ],
   "source": [
    "auto= pd.read_csv('../data/auto.csv')\n",
    "print auto.shape\n",
    "auto.head()"
   ]
  },
  {
   "cell_type": "markdown",
   "metadata": {
    "slideshow": {
     "slide_type": "subslide"
    }
   },
   "source": [
    "You can select on a column by filtering a logical condition on that column as shown."
   ]
  },
  {
   "cell_type": "code",
   "execution_count": 27,
   "metadata": {
    "collapsed": false,
    "slideshow": {
     "slide_type": "fragment"
    }
   },
   "outputs": [
    {
     "data": {
      "text/html": [
       "<div>\n",
       "<table border=\"1\" class=\"dataframe\">\n",
       "  <thead>\n",
       "    <tr style=\"text-align: right;\">\n",
       "      <th></th>\n",
       "      <th>make</th>\n",
       "      <th>price</th>\n",
       "      <th>mpg</th>\n",
       "      <th>repairs</th>\n",
       "      <th>weight</th>\n",
       "      <th>length</th>\n",
       "      <th>foreign</th>\n",
       "    </tr>\n",
       "  </thead>\n",
       "  <tbody>\n",
       "    <tr>\n",
       "      <th>3</th>\n",
       "      <td>Audi</td>\n",
       "      <td>9690</td>\n",
       "      <td>17</td>\n",
       "      <td>5</td>\n",
       "      <td>2830</td>\n",
       "      <td>189</td>\n",
       "      <td>1</td>\n",
       "    </tr>\n",
       "    <tr>\n",
       "      <th>4</th>\n",
       "      <td>Audi</td>\n",
       "      <td>6295</td>\n",
       "      <td>23</td>\n",
       "      <td>3</td>\n",
       "      <td>2070</td>\n",
       "      <td>174</td>\n",
       "      <td>1</td>\n",
       "    </tr>\n",
       "    <tr>\n",
       "      <th>5</th>\n",
       "      <td>BMW</td>\n",
       "      <td>9735</td>\n",
       "      <td>25</td>\n",
       "      <td>4</td>\n",
       "      <td>2650</td>\n",
       "      <td>177</td>\n",
       "      <td>1</td>\n",
       "    </tr>\n",
       "    <tr>\n",
       "      <th>22</th>\n",
       "      <td>Datsun</td>\n",
       "      <td>6229</td>\n",
       "      <td>23</td>\n",
       "      <td>4</td>\n",
       "      <td>2370</td>\n",
       "      <td>170</td>\n",
       "      <td>1</td>\n",
       "    </tr>\n",
       "    <tr>\n",
       "      <th>23</th>\n",
       "      <td>Datsun</td>\n",
       "      <td>4589</td>\n",
       "      <td>35</td>\n",
       "      <td>5</td>\n",
       "      <td>2020</td>\n",
       "      <td>165</td>\n",
       "      <td>1</td>\n",
       "    </tr>\n",
       "    <tr>\n",
       "      <th>24</th>\n",
       "      <td>Datsun</td>\n",
       "      <td>5079</td>\n",
       "      <td>24</td>\n",
       "      <td>4</td>\n",
       "      <td>2280</td>\n",
       "      <td>170</td>\n",
       "      <td>1</td>\n",
       "    </tr>\n",
       "    <tr>\n",
       "      <th>25</th>\n",
       "      <td>Datsun</td>\n",
       "      <td>8129</td>\n",
       "      <td>21</td>\n",
       "      <td>4</td>\n",
       "      <td>2750</td>\n",
       "      <td>184</td>\n",
       "      <td>1</td>\n",
       "    </tr>\n",
       "  </tbody>\n",
       "</table>\n",
       "</div>"
      ],
      "text/plain": [
       "      make  price  mpg  repairs  weight  length  foreign\n",
       "3     Audi   9690   17        5    2830     189        1\n",
       "4     Audi   6295   23        3    2070     174        1\n",
       "5      BMW   9735   25        4    2650     177        1\n",
       "22  Datsun   6229   23        4    2370     170        1\n",
       "23  Datsun   4589   35        5    2020     165        1\n",
       "24  Datsun   5079   24        4    2280     170        1\n",
       "25  Datsun   8129   21        4    2750     184        1"
      ]
     },
     "execution_count": 27,
     "metadata": {},
     "output_type": "execute_result"
    }
   ],
   "source": [
    "a1= auto[auto['foreign']==1]\n",
    "a1.shape\n",
    "a1"
   ]
  },
  {
   "cell_type": "markdown",
   "metadata": {
    "slideshow": {
     "slide_type": "subslide"
    }
   },
   "source": [
    "This works because the condition in itself returns a boolean array, which can then be used to perform the indexing. Numpy provides a quick way of reversing the boolean array (logical **NOT**) too. "
   ]
  },
  {
   "cell_type": "code",
   "execution_count": 28,
   "metadata": {
    "collapsed": false,
    "slideshow": {
     "slide_type": "fragment"
    }
   },
   "outputs": [
    {
     "name": "stdout",
     "output_type": "stream",
     "text": [
      "7\n",
      "(19, 7)\n"
     ]
    },
    {
     "data": {
      "text/html": [
       "<div>\n",
       "<table border=\"1\" class=\"dataframe\">\n",
       "  <thead>\n",
       "    <tr style=\"text-align: right;\">\n",
       "      <th></th>\n",
       "      <th>make</th>\n",
       "      <th>price</th>\n",
       "      <th>mpg</th>\n",
       "      <th>repairs</th>\n",
       "      <th>weight</th>\n",
       "      <th>length</th>\n",
       "      <th>foreign</th>\n",
       "    </tr>\n",
       "  </thead>\n",
       "  <tbody>\n",
       "    <tr>\n",
       "      <th>17</th>\n",
       "      <td>Chevrolet</td>\n",
       "      <td>5705</td>\n",
       "      <td>16</td>\n",
       "      <td>4</td>\n",
       "      <td>3690</td>\n",
       "      <td>212</td>\n",
       "      <td>0</td>\n",
       "    </tr>\n",
       "    <tr>\n",
       "      <th>18</th>\n",
       "      <td>Chevrolet</td>\n",
       "      <td>4504</td>\n",
       "      <td>22</td>\n",
       "      <td>3</td>\n",
       "      <td>3180</td>\n",
       "      <td>193</td>\n",
       "      <td>0</td>\n",
       "    </tr>\n",
       "    <tr>\n",
       "      <th>19</th>\n",
       "      <td>Chevrolet</td>\n",
       "      <td>5104</td>\n",
       "      <td>22</td>\n",
       "      <td>2</td>\n",
       "      <td>3220</td>\n",
       "      <td>200</td>\n",
       "      <td>0</td>\n",
       "    </tr>\n",
       "    <tr>\n",
       "      <th>20</th>\n",
       "      <td>Chevrolet</td>\n",
       "      <td>3667</td>\n",
       "      <td>24</td>\n",
       "      <td>2</td>\n",
       "      <td>2750</td>\n",
       "      <td>179</td>\n",
       "      <td>0</td>\n",
       "    </tr>\n",
       "    <tr>\n",
       "      <th>21</th>\n",
       "      <td>Chevrolet</td>\n",
       "      <td>3955</td>\n",
       "      <td>19</td>\n",
       "      <td>3</td>\n",
       "      <td>3430</td>\n",
       "      <td>197</td>\n",
       "      <td>0</td>\n",
       "    </tr>\n",
       "  </tbody>\n",
       "</table>\n",
       "</div>"
      ],
      "text/plain": [
       "         make  price  mpg  repairs  weight  length  foreign\n",
       "17  Chevrolet   5705   16        4    3690     212        0\n",
       "18  Chevrolet   4504   22        3    3180     193        0\n",
       "19  Chevrolet   5104   22        2    3220     200        0\n",
       "20  Chevrolet   3667   24        2    2750     179        0\n",
       "21  Chevrolet   3955   19        3    3430     197        0"
      ]
     },
     "execution_count": 28,
     "metadata": {},
     "output_type": "execute_result"
    }
   ],
   "source": [
    "mask= auto['foreign']==1\n",
    "print mask.sum()\n",
    "domestic= auto[np.invert(mask)]\n",
    "print domestic.shape\n",
    "domestic.tail()"
   ]
  },
  {
   "cell_type": "markdown",
   "metadata": {
    "slideshow": {
     "slide_type": "subslide"
    }
   },
   "source": [
    "Naturally, you can combine multiple columns to make a condition. *Unlike* what you might expect, the usual `and` does not work here!"
   ]
  },
  {
   "cell_type": "code",
   "execution_count": 29,
   "metadata": {
    "collapsed": false,
    "slideshow": {
     "slide_type": "fragment"
    }
   },
   "outputs": [
    {
     "ename": "ValueError",
     "evalue": "The truth value of a Series is ambiguous. Use a.empty, a.bool(), a.item(), a.any() or a.all().",
     "output_type": "error",
     "traceback": [
      "\u001b[1;31m---------------------------------------------------------------------------\u001b[0m",
      "\u001b[1;31mValueError\u001b[0m                                Traceback (most recent call last)",
      "\u001b[1;32m<ipython-input-29-bf467c6a18b9>\u001b[0m in \u001b[0;36m<module>\u001b[1;34m()\u001b[0m\n\u001b[0;32m      1\u001b[0m \u001b[1;31m# 'and' does not work here!\u001b[0m\u001b[1;33m\u001b[0m\u001b[1;33m\u001b[0m\u001b[0m\n\u001b[1;32m----> 2\u001b[1;33m \u001b[0ma2\u001b[0m\u001b[1;33m=\u001b[0m \u001b[0mauto\u001b[0m\u001b[1;33m[\u001b[0m\u001b[1;33m(\u001b[0m\u001b[0mauto\u001b[0m\u001b[1;33m[\u001b[0m\u001b[1;34m'mpg'\u001b[0m\u001b[1;33m]\u001b[0m \u001b[1;33m>\u001b[0m \u001b[1;36m20\u001b[0m\u001b[1;33m)\u001b[0m \u001b[1;32mand\u001b[0m \u001b[1;33m(\u001b[0m\u001b[0mauto\u001b[0m\u001b[1;33m[\u001b[0m\u001b[1;34m'price'\u001b[0m\u001b[1;33m]\u001b[0m \u001b[1;33m<\u001b[0m \u001b[1;36m5000\u001b[0m\u001b[1;33m)\u001b[0m\u001b[1;33m]\u001b[0m\u001b[1;33m\u001b[0m\u001b[0m\n\u001b[0m\u001b[0;32m      3\u001b[0m \u001b[0ma2\u001b[0m\u001b[1;33m.\u001b[0m\u001b[0mhead\u001b[0m\u001b[1;33m(\u001b[0m\u001b[1;33m)\u001b[0m\u001b[1;33m\u001b[0m\u001b[0m\n",
      "\u001b[1;32m/home/arko/anaconda/lib/python2.7/site-packages/pandas/core/generic.pyc\u001b[0m in \u001b[0;36m__nonzero__\u001b[1;34m(self)\u001b[0m\n\u001b[0;32m    728\u001b[0m         raise ValueError(\"The truth value of a {0} is ambiguous. \"\n\u001b[0;32m    729\u001b[0m                          \u001b[1;34m\"Use a.empty, a.bool(), a.item(), a.any() or a.all().\"\u001b[0m\u001b[1;33m\u001b[0m\u001b[0m\n\u001b[1;32m--> 730\u001b[1;33m                          .format(self.__class__.__name__))\n\u001b[0m\u001b[0;32m    731\u001b[0m \u001b[1;33m\u001b[0m\u001b[0m\n\u001b[0;32m    732\u001b[0m     \u001b[0m__bool__\u001b[0m \u001b[1;33m=\u001b[0m \u001b[0m__nonzero__\u001b[0m\u001b[1;33m\u001b[0m\u001b[0m\n",
      "\u001b[1;31mValueError\u001b[0m: The truth value of a Series is ambiguous. Use a.empty, a.bool(), a.item(), a.any() or a.all()."
     ]
    }
   ],
   "source": [
    "# 'and' does not work here!\n",
    "a2= auto[(auto['mpg'] > 20) and (auto['price'] < 5000)]     \n",
    "a2.head()"
   ]
  },
  {
   "cell_type": "markdown",
   "metadata": {
    "slideshow": {
     "slide_type": "slide"
    }
   },
   "source": [
    "## Applying Calculations on Columns\n",
    "\n",
    "Columns are only useful when we can do something with the data in them. We frequntly apply various computations on columns. In the following example with another dataset, we shall see some common operations. "
   ]
  },
  {
   "cell_type": "code",
   "execution_count": 30,
   "metadata": {
    "collapsed": false,
    "slideshow": {
     "slide_type": "fragment"
    }
   },
   "outputs": [
    {
     "name": "stdout",
     "output_type": "stream",
     "text": [
      "(19543, 5)\n"
     ]
    },
    {
     "data": {
      "text/html": [
       "<div>\n",
       "<table border=\"1\" class=\"dataframe\">\n",
       "  <thead>\n",
       "    <tr style=\"text-align: right;\">\n",
       "      <th></th>\n",
       "      <th>Year</th>\n",
       "      <th>Player</th>\n",
       "      <th>Salary</th>\n",
       "      <th>Position</th>\n",
       "      <th>Team</th>\n",
       "    </tr>\n",
       "  </thead>\n",
       "  <tbody>\n",
       "    <tr>\n",
       "      <th>0</th>\n",
       "      <td>1988</td>\n",
       "      <td>Mike Witt</td>\n",
       "      <td>1400000</td>\n",
       "      <td>Pitcher</td>\n",
       "      <td>Los Angeles Angels</td>\n",
       "    </tr>\n",
       "    <tr>\n",
       "      <th>1</th>\n",
       "      <td>1988</td>\n",
       "      <td>George Hendrick</td>\n",
       "      <td>989333</td>\n",
       "      <td>Outfielder</td>\n",
       "      <td>Los Angeles Angels</td>\n",
       "    </tr>\n",
       "    <tr>\n",
       "      <th>2</th>\n",
       "      <td>1988</td>\n",
       "      <td>Chili Davis</td>\n",
       "      <td>950000</td>\n",
       "      <td>Outfielder</td>\n",
       "      <td>Los Angeles Angels</td>\n",
       "    </tr>\n",
       "    <tr>\n",
       "      <th>3</th>\n",
       "      <td>1988</td>\n",
       "      <td>Brian Downing</td>\n",
       "      <td>900000</td>\n",
       "      <td>Designated Hitter</td>\n",
       "      <td>Los Angeles Angels</td>\n",
       "    </tr>\n",
       "    <tr>\n",
       "      <th>4</th>\n",
       "      <td>1988</td>\n",
       "      <td>Bob Boone</td>\n",
       "      <td>883000</td>\n",
       "      <td>Catcher</td>\n",
       "      <td>Los Angeles Angels</td>\n",
       "    </tr>\n",
       "  </tbody>\n",
       "</table>\n",
       "</div>"
      ],
      "text/plain": [
       "   Year           Player   Salary           Position                Team\n",
       "0  1988        Mike Witt  1400000            Pitcher  Los Angeles Angels\n",
       "1  1988  George Hendrick   989333         Outfielder  Los Angeles Angels\n",
       "2  1988      Chili Davis   950000         Outfielder  Los Angeles Angels\n",
       "3  1988    Brian Downing   900000  Designated Hitter  Los Angeles Angels\n",
       "4  1988        Bob Boone   883000            Catcher  Los Angeles Angels"
      ]
     },
     "execution_count": 30,
     "metadata": {},
     "output_type": "execute_result"
    }
   ],
   "source": [
    "mlb= pd.read_csv('../data/mlbsalaries.csv')\n",
    "print mlb.shape\n",
    "mlb.head()"
   ]
  },
  {
   "cell_type": "markdown",
   "metadata": {
    "slideshow": {
     "slide_type": "subslide"
    }
   },
   "source": [
    "### Sorting a column\n",
    "\n",
    "Sorting a particular column is easily done with the `sort_values` method. "
   ]
  },
  {
   "cell_type": "code",
   "execution_count": 31,
   "metadata": {
    "collapsed": false,
    "slideshow": {
     "slide_type": "fragment"
    }
   },
   "outputs": [
    {
     "data": {
      "text/plain": [
       "18675    33000000\n",
       "17846    33000000\n",
       "19513    32000000\n",
       "17023    28000000\n",
       "18700    26187500\n",
       "Name: Salary, dtype: int64"
      ]
     },
     "execution_count": 31,
     "metadata": {},
     "output_type": "execute_result"
    }
   ],
   "source": [
    "ss= mlb['Salary'].sort_values(ascending=False)\n",
    "ss.head()"
   ]
  },
  {
   "cell_type": "markdown",
   "metadata": {
    "slideshow": {
     "slide_type": "subslide"
    }
   },
   "source": [
    "This is barely useful though, since it only returns the column itself. To sort the whole dataset, use the `sort_values` method with a `by` qualifier."
   ]
  },
  {
   "cell_type": "code",
   "execution_count": 32,
   "metadata": {
    "collapsed": false,
    "slideshow": {
     "slide_type": "fragment"
    }
   },
   "outputs": [
    {
     "data": {
      "text/html": [
       "<div>\n",
       "<table border=\"1\" class=\"dataframe\">\n",
       "  <thead>\n",
       "    <tr style=\"text-align: right;\">\n",
       "      <th></th>\n",
       "      <th>Year</th>\n",
       "      <th>Player</th>\n",
       "      <th>Salary</th>\n",
       "      <th>Position</th>\n",
       "      <th>Team</th>\n",
       "    </tr>\n",
       "  </thead>\n",
       "  <tbody>\n",
       "    <tr>\n",
       "      <th>17846</th>\n",
       "      <td>2009</td>\n",
       "      <td>Alex Rodriguez</td>\n",
       "      <td>33000000</td>\n",
       "      <td>Third Baseman</td>\n",
       "      <td>New York Yankees</td>\n",
       "    </tr>\n",
       "    <tr>\n",
       "      <th>18675</th>\n",
       "      <td>2010</td>\n",
       "      <td>Alex Rodriguez</td>\n",
       "      <td>33000000</td>\n",
       "      <td>Third Baseman</td>\n",
       "      <td>New York Yankees</td>\n",
       "    </tr>\n",
       "    <tr>\n",
       "      <th>19513</th>\n",
       "      <td>2011</td>\n",
       "      <td>Alex Rodriguez</td>\n",
       "      <td>32000000</td>\n",
       "      <td>Third Baseman</td>\n",
       "      <td>New York Yankees</td>\n",
       "    </tr>\n",
       "    <tr>\n",
       "      <th>17023</th>\n",
       "      <td>2008</td>\n",
       "      <td>Alex Rodriguez</td>\n",
       "      <td>28000000</td>\n",
       "      <td>Third Baseman</td>\n",
       "      <td>New York Yankees</td>\n",
       "    </tr>\n",
       "    <tr>\n",
       "      <th>18700</th>\n",
       "      <td>2011</td>\n",
       "      <td>Vernon Wells</td>\n",
       "      <td>26187500</td>\n",
       "      <td>Outfielder</td>\n",
       "      <td>Los Angeles Angels</td>\n",
       "    </tr>\n",
       "    <tr>\n",
       "      <th>14499</th>\n",
       "      <td>2005</td>\n",
       "      <td>Alex Rodriguez</td>\n",
       "      <td>26000000</td>\n",
       "      <td>Third Baseman</td>\n",
       "      <td>New York Yankees</td>\n",
       "    </tr>\n",
       "    <tr>\n",
       "      <th>18676</th>\n",
       "      <td>2010</td>\n",
       "      <td>CC Sabathia</td>\n",
       "      <td>24285714</td>\n",
       "      <td>Pitcher</td>\n",
       "      <td>New York Yankees</td>\n",
       "    </tr>\n",
       "    <tr>\n",
       "      <th>19514</th>\n",
       "      <td>2011</td>\n",
       "      <td>CC Sabathia</td>\n",
       "      <td>24285714</td>\n",
       "      <td>Pitcher</td>\n",
       "      <td>New York Yankees</td>\n",
       "    </tr>\n",
       "    <tr>\n",
       "      <th>17299</th>\n",
       "      <td>2009</td>\n",
       "      <td>Manny Ramirez</td>\n",
       "      <td>23854494</td>\n",
       "      <td>Outfielder</td>\n",
       "      <td>Los Angeles Dodgers</td>\n",
       "    </tr>\n",
       "    <tr>\n",
       "      <th>17024</th>\n",
       "      <td>2008</td>\n",
       "      <td>Jason Giambi</td>\n",
       "      <td>23428571</td>\n",
       "      <td>Designated Hitter</td>\n",
       "      <td>New York Yankees</td>\n",
       "    </tr>\n",
       "  </tbody>\n",
       "</table>\n",
       "</div>"
      ],
      "text/plain": [
       "       Year          Player    Salary           Position                 Team\n",
       "17846  2009  Alex Rodriguez  33000000      Third Baseman     New York Yankees\n",
       "18675  2010  Alex Rodriguez  33000000      Third Baseman     New York Yankees\n",
       "19513  2011  Alex Rodriguez  32000000      Third Baseman     New York Yankees\n",
       "17023  2008  Alex Rodriguez  28000000      Third Baseman     New York Yankees\n",
       "18700  2011    Vernon Wells  26187500         Outfielder   Los Angeles Angels\n",
       "14499  2005  Alex Rodriguez  26000000      Third Baseman     New York Yankees\n",
       "18676  2010     CC Sabathia  24285714            Pitcher     New York Yankees\n",
       "19514  2011     CC Sabathia  24285714            Pitcher     New York Yankees\n",
       "17299  2009   Manny Ramirez  23854494         Outfielder  Los Angeles Dodgers\n",
       "17024  2008    Jason Giambi  23428571  Designated Hitter     New York Yankees"
      ]
     },
     "execution_count": 32,
     "metadata": {},
     "output_type": "execute_result"
    }
   ],
   "source": [
    "sf= mlb.sort_values(ascending=False, by= ['Salary'])\n",
    "sf.head(10)"
   ]
  },
  {
   "cell_type": "markdown",
   "metadata": {
    "slideshow": {
     "slide_type": "subslide"
    }
   },
   "source": [
    "You can also sort on multiple columns simultaneously, using a list of columns and their ordering strategy."
   ]
  },
  {
   "cell_type": "code",
   "execution_count": 33,
   "metadata": {
    "collapsed": false,
    "slideshow": {
     "slide_type": "fragment"
    }
   },
   "outputs": [
    {
     "data": {
      "text/html": [
       "<div>\n",
       "<table border=\"1\" class=\"dataframe\">\n",
       "  <thead>\n",
       "    <tr style=\"text-align: right;\">\n",
       "      <th></th>\n",
       "      <th>Year</th>\n",
       "      <th>Player</th>\n",
       "      <th>Salary</th>\n",
       "      <th>Position</th>\n",
       "      <th>Team</th>\n",
       "    </tr>\n",
       "  </thead>\n",
       "  <tbody>\n",
       "    <tr>\n",
       "      <th>18675</th>\n",
       "      <td>2010</td>\n",
       "      <td>Alex Rodriguez</td>\n",
       "      <td>33000000</td>\n",
       "      <td>Third Baseman</td>\n",
       "      <td>New York Yankees</td>\n",
       "    </tr>\n",
       "    <tr>\n",
       "      <th>17846</th>\n",
       "      <td>2009</td>\n",
       "      <td>Alex Rodriguez</td>\n",
       "      <td>33000000</td>\n",
       "      <td>Third Baseman</td>\n",
       "      <td>New York Yankees</td>\n",
       "    </tr>\n",
       "    <tr>\n",
       "      <th>19513</th>\n",
       "      <td>2011</td>\n",
       "      <td>Alex Rodriguez</td>\n",
       "      <td>32000000</td>\n",
       "      <td>Third Baseman</td>\n",
       "      <td>New York Yankees</td>\n",
       "    </tr>\n",
       "    <tr>\n",
       "      <th>17023</th>\n",
       "      <td>2008</td>\n",
       "      <td>Alex Rodriguez</td>\n",
       "      <td>28000000</td>\n",
       "      <td>Third Baseman</td>\n",
       "      <td>New York Yankees</td>\n",
       "    </tr>\n",
       "    <tr>\n",
       "      <th>18700</th>\n",
       "      <td>2011</td>\n",
       "      <td>Vernon Wells</td>\n",
       "      <td>26187500</td>\n",
       "      <td>Outfielder</td>\n",
       "      <td>Los Angeles Angels</td>\n",
       "    </tr>\n",
       "    <tr>\n",
       "      <th>14499</th>\n",
       "      <td>2005</td>\n",
       "      <td>Alex Rodriguez</td>\n",
       "      <td>26000000</td>\n",
       "      <td>Third Baseman</td>\n",
       "      <td>New York Yankees</td>\n",
       "    </tr>\n",
       "    <tr>\n",
       "      <th>19514</th>\n",
       "      <td>2011</td>\n",
       "      <td>CC Sabathia</td>\n",
       "      <td>24285714</td>\n",
       "      <td>Pitcher</td>\n",
       "      <td>New York Yankees</td>\n",
       "    </tr>\n",
       "    <tr>\n",
       "      <th>18676</th>\n",
       "      <td>2010</td>\n",
       "      <td>CC Sabathia</td>\n",
       "      <td>24285714</td>\n",
       "      <td>Pitcher</td>\n",
       "      <td>New York Yankees</td>\n",
       "    </tr>\n",
       "    <tr>\n",
       "      <th>17299</th>\n",
       "      <td>2009</td>\n",
       "      <td>Manny Ramirez</td>\n",
       "      <td>23854494</td>\n",
       "      <td>Outfielder</td>\n",
       "      <td>Los Angeles Dodgers</td>\n",
       "    </tr>\n",
       "    <tr>\n",
       "      <th>17024</th>\n",
       "      <td>2008</td>\n",
       "      <td>Jason Giambi</td>\n",
       "      <td>23428571</td>\n",
       "      <td>Designated Hitter</td>\n",
       "      <td>New York Yankees</td>\n",
       "    </tr>\n",
       "  </tbody>\n",
       "</table>\n",
       "</div>"
      ],
      "text/plain": [
       "       Year          Player    Salary           Position                 Team\n",
       "18675  2010  Alex Rodriguez  33000000      Third Baseman     New York Yankees\n",
       "17846  2009  Alex Rodriguez  33000000      Third Baseman     New York Yankees\n",
       "19513  2011  Alex Rodriguez  32000000      Third Baseman     New York Yankees\n",
       "17023  2008  Alex Rodriguez  28000000      Third Baseman     New York Yankees\n",
       "18700  2011    Vernon Wells  26187500         Outfielder   Los Angeles Angels\n",
       "14499  2005  Alex Rodriguez  26000000      Third Baseman     New York Yankees\n",
       "19514  2011     CC Sabathia  24285714            Pitcher     New York Yankees\n",
       "18676  2010     CC Sabathia  24285714            Pitcher     New York Yankees\n",
       "17299  2009   Manny Ramirez  23854494         Outfielder  Los Angeles Dodgers\n",
       "17024  2008    Jason Giambi  23428571  Designated Hitter     New York Yankees"
      ]
     },
     "execution_count": 33,
     "metadata": {},
     "output_type": "execute_result"
    }
   ],
   "source": [
    "sf= mlb.sort_values(ascending=[False, False], by= ['Salary','Year'])\n",
    "sf.head(10)"
   ]
  },
  {
   "cell_type": "markdown",
   "metadata": {
    "slideshow": {
     "slide_type": "subslide"
    }
   },
   "source": [
    "A very useful command is `value_counts`. Essentialy, it counts the number of records for each unique value in a given column. Naturally, it is useful when applied to categorical columns. However, this can only be applied on one column at a time. There is a way to do this for more than one column - we'll come to it shortly. "
   ]
  },
  {
   "cell_type": "code",
   "execution_count": 34,
   "metadata": {
    "collapsed": false,
    "slideshow": {
     "slide_type": "fragment"
    }
   },
   "outputs": [
    {
     "data": {
      "text/plain": [
       "Pitcher              9160\n",
       "Outfielder           3785\n",
       "Catcher              1664\n",
       "Shortstop            1331\n",
       "Second Baseman       1216\n",
       "Third Baseman        1139\n",
       "First Baseman        1118\n",
       "Designated Hitter     109\n",
       "Infielder              21\n",
       "Name: Position, dtype: int64"
      ]
     },
     "execution_count": 34,
     "metadata": {},
     "output_type": "execute_result"
    }
   ],
   "source": [
    "mlb['Position'].value_counts()"
   ]
  },
  {
   "cell_type": "markdown",
   "metadata": {
    "slideshow": {
     "slide_type": "subslide"
    }
   },
   "source": [
    "You can do all the usual commands on a column, since it is a numpy array at its core. "
   ]
  },
  {
   "cell_type": "code",
   "execution_count": 35,
   "metadata": {
    "collapsed": false,
    "slideshow": {
     "slide_type": "fragment"
    }
   },
   "outputs": [
    {
     "name": "stdout",
     "output_type": "stream",
     "text": [
      "33000000 \n",
      "\n",
      "\n",
      "1916816.98424 \n",
      "\n",
      "\n",
      "62500 \n",
      "\n",
      "\n",
      "565000.0 \n",
      "\n",
      "\n",
      "3006141.84643\n"
     ]
    }
   ],
   "source": [
    "print mlb['Salary'].max(), \"\\n\\n\"\n",
    "print mlb['Salary'].mean(), \"\\n\\n\"\n",
    "print mlb['Salary'].min(), \"\\n\\n\"\n",
    "print mlb['Salary'].median(), \"\\n\\n\"\n",
    "print mlb['Salary'].std()"
   ]
  },
  {
   "cell_type": "markdown",
   "metadata": {
    "slideshow": {
     "slide_type": "subslide"
    }
   },
   "source": [
    "But interestingly you can apply the same function to multiple columns by simply calling it on part or whole of the dataframe. The result is returned as an indexed series. "
   ]
  },
  {
   "cell_type": "code",
   "execution_count": 36,
   "metadata": {
    "collapsed": false,
    "slideshow": {
     "slide_type": "fragment"
    }
   },
   "outputs": [
    {
     "data": {
      "text/plain": [
       "Year        2000\n",
       "Salary    565000\n",
       "dtype: float64"
      ]
     },
     "execution_count": 36,
     "metadata": {},
     "output_type": "execute_result"
    }
   ],
   "source": [
    "mlb[['Year', 'Salary']].median()"
   ]
  },
  {
   "cell_type": "code",
   "execution_count": 37,
   "metadata": {
    "collapsed": false,
    "slideshow": {
     "slide_type": "fragment"
    }
   },
   "outputs": [
    {
     "data": {
      "text/plain": [
       "price      6651.730769\n",
       "mpg          20.923077\n",
       "repairs       3.269231\n",
       "weight     3099.230769\n",
       "length      190.076923\n",
       "foreign       0.269231\n",
       "dtype: float64"
      ]
     },
     "execution_count": 37,
     "metadata": {},
     "output_type": "execute_result"
    }
   ],
   "source": [
    "auto.mean()"
   ]
  },
  {
   "cell_type": "markdown",
   "metadata": {
    "slideshow": {
     "slide_type": "subslide"
    }
   },
   "source": [
    "For long continuous values it is better to visualize the distribution using a histogram / boxplot / violin plot (later). "
   ]
  },
  {
   "cell_type": "code",
   "execution_count": 38,
   "metadata": {
    "collapsed": false,
    "slideshow": {
     "slide_type": "fragment"
    }
   },
   "outputs": [
    {
     "data": {
      "text/plain": [
       "<matplotlib.axes._subplots.AxesSubplot at 0x7fda934016d0>"
      ]
     },
     "execution_count": 38,
     "metadata": {},
     "output_type": "execute_result"
    },
    {
     "data": {
      "image/png": "[encoded data removed]",
      "text/plain": [
       "<matplotlib.figure.Figure at 0x7fda93401cd0>"
      ]
     },
     "metadata": {},
     "output_type": "display_data"
    }
   ],
   "source": [
    "mlb['Salary'].hist(bins= 30)"
   ]
  },
  {
   "cell_type": "code",
   "execution_count": 39,
   "metadata": {
    "collapsed": false,
    "slideshow": {
     "slide_type": "subslide"
    }
   },
   "outputs": [
    {
     "name": "stderr",
     "output_type": "stream",
     "text": [
      "/home/arko/anaconda/lib/python2.7/site-packages/ipykernel/__main__.py:1: FutureWarning: \n",
      "The default value for 'return_type' will change to 'axes' in a future release.\n",
      " To use the future behavior now, set return_type='axes'.\n",
      " To keep the previous behavior and silence this warning, set return_type='dict'.\n",
      "  if __name__ == '__main__':\n"
     ]
    },
    {
     "data": {
      "text/plain": [
       "{'boxes': [<matplotlib.lines.Line2D at 0x7fda8fa70bd0>],\n",
       " 'caps': [<matplotlib.lines.Line2D at 0x7fda8fa7fc50>,\n",
       "  <matplotlib.lines.Line2D at 0x7fda8fa8a2d0>],\n",
       " 'fliers': [<matplotlib.lines.Line2D at 0x7fda8fa8af50>],\n",
       " 'means': [],\n",
       " 'medians': [<matplotlib.lines.Line2D at 0x7fda8fa8a910>],\n",
       " 'whiskers': [<matplotlib.lines.Line2D at 0x7fda8fa70f10>,\n",
       "  <matplotlib.lines.Line2D at 0x7fda8fa7f610>]}"
      ]
     },
     "execution_count": 39,
     "metadata": {},
     "output_type": "execute_result"
    },
    {
     "data": {
      "image/png": "[encoded data removed]",
      "text/plain": [
       "<matplotlib.figure.Figure at 0x7fda934c9190>"
      ]
     },
     "metadata": {},
     "output_type": "display_data"
    }
   ],
   "source": [
    "mlb.boxplot(column= 'Salary')"
   ]
  },
  {
   "cell_type": "markdown",
   "metadata": {
    "slideshow": {
     "slide_type": "subslide"
    }
   },
   "source": [
    "A little more code allows us to plot the top salaries in a recent year"
   ]
  },
  {
   "cell_type": "code",
   "execution_count": 48,
   "metadata": {
    "collapsed": false,
    "slideshow": {
     "slide_type": "fragment"
    }
   },
   "outputs": [
    {
     "data": {
      "text/plain": [
       "<matplotlib.legend.Legend at 0x7fda8f702690>"
      ]
     },
     "execution_count": 48,
     "metadata": {},
     "output_type": "execute_result"
    },
    {
     "data": {
      "image/png": "[encoded data removed]",
      "text/plain": [
       "<matplotlib.figure.Figure at 0x7fda93401a90>"
      ]
     },
     "metadata": {},
     "output_type": "display_data"
    }
   ],
   "source": [
    "yr2010= mlb[mlb['Year']==2010]\n",
    "yr2010.set_index('Player', inplace=True)\n",
    "yr2010.head()\n",
    "top10= yr2010['Salary'].sort_values(ascending= False).head(10)\n",
    "plt.figure()\n",
    "top10.plot(kind= 'bar', label= 'Salaries in 2010')\n",
    "plt.legend()"
   ]
  },
  {
   "cell_type": "markdown",
   "metadata": {
    "slideshow": {
     "slide_type": "slide"
    }
   },
   "source": [
    "## Grouping pandas dataframes\n",
    "\n",
    "Impressive as the last bit of code is, it is difficult to do it for every year in the data. This is where the power of **split-apply-combine** methods become apparent. In pandas, this is implemented through the `groupby` command."
   ]
  },
  {
   "cell_type": "code",
   "execution_count": 51,
   "metadata": {
    "collapsed": false,
    "slideshow": {
     "slide_type": "fragment"
    }
   },
   "outputs": [
    {
     "data": {
      "text/plain": [
       "pandas.core.groupby.DataFrameGroupBy"
      ]
     },
     "execution_count": 51,
     "metadata": {},
     "output_type": "execute_result"
    }
   ],
   "source": [
    "grouped= mlb.groupby('Year')\n",
    "type(grouped)"
   ]
  },
  {
   "cell_type": "markdown",
   "metadata": {
    "slideshow": {
     "slide_type": "subslide"
    }
   },
   "source": [
    "One problem of a grouped object is that its not so easy to look at it!"
   ]
  },
  {
   "cell_type": "code",
   "execution_count": 53,
   "metadata": {
    "collapsed": false,
    "slideshow": {
     "slide_type": "fragment"
    }
   },
   "outputs": [
    {
     "name": "stdout",
     "output_type": "stream",
     "text": [
      "1988\n",
      "   Year           Player   Salary           Position                Team\n",
      "0  1988        Mike Witt  1400000            Pitcher  Los Angeles Angels\n",
      "1  1988  George Hendrick   989333         Outfielder  Los Angeles Angels\n",
      "2  1988      Chili Davis   950000         Outfielder  Los Angeles Angels\n",
      "3  1988    Brian Downing   900000  Designated Hitter  Los Angeles Angels\n",
      "4  1988        Bob Boone   883000            Catcher  Los Angeles Angels\n",
      "1989\n",
      "     Year         Player   Salary    Position                Team\n",
      "686  1989      Mike Witt  1400000     Pitcher  Los Angeles Angels\n",
      "687  1989    Chili Davis  1275000  Outfielder  Los Angeles Angels\n",
      "688  1989  Brian Downing  1250000  Outfielder  Los Angeles Angels\n",
      "689  1989  Bert Blyleven  1225000     Pitcher  Los Angeles Angels\n",
      "690  1989  Lance Parrish  1000000     Catcher  Los Angeles Angels\n",
      "1990\n",
      "      Year         Player   Salary       Position                Team\n",
      "1396  1990  Lance Parrish  1916667        Catcher  Los Angeles Angels\n",
      "1397  1990  Mark Langston  1800000        Pitcher  Los Angeles Angels\n",
      "1398  1990   Wally Joyner  1750000  First Baseman  Los Angeles Angels\n",
      "1399  1990    Chili Davis  1375000     Outfielder  Los Angeles Angels\n",
      "1400  1990      Mike Witt  1300000        Pitcher  Los Angeles Angels\n"
     ]
    }
   ],
   "source": [
    "i= 0\n",
    "for k,grp in grouped:\n",
    "    i += 1\n",
    "    if i >= 4:\n",
    "        break\n",
    "    print k\n",
    "    print grp.head()"
   ]
  },
  {
   "cell_type": "markdown",
   "metadata": {
    "slideshow": {
     "slide_type": "subslide"
    }
   },
   "source": [
    "Findng the top salary per group is not too hard, using a `max` on the grouped object. Similarly many other normal functions can be applied directly on the grouped object. "
   ]
  },
  {
   "cell_type": "code",
   "execution_count": 54,
   "metadata": {
    "collapsed": false,
    "slideshow": {
     "slide_type": "fragment"
    }
   },
   "outputs": [
    {
     "data": {
      "text/plain": [
       "Year\n",
       "1988     2360714\n",
       "1989     2766666\n",
       "1990     3200000\n",
       "1991     3800000\n",
       "1992     6100000\n",
       "1993     6200000\n",
       "1994     6300000\n",
       "1995     9237500\n",
       "1996     9237500\n",
       "1997    10000000\n",
       "1998    10000000\n",
       "1999    11949794\n",
       "2000    15714286\n",
       "2001    22000000\n",
       "2002    22000000\n",
       "2003    22000000\n",
       "2004    22500000\n",
       "2005    26000000\n",
       "2006    21680727\n",
       "2007    23428571\n",
       "Name: Salary, dtype: int64"
      ]
     },
     "execution_count": 54,
     "metadata": {},
     "output_type": "execute_result"
    }
   ],
   "source": [
    "grouped['Salary'].max().head(20)"
   ]
  },
  {
   "cell_type": "markdown",
   "metadata": {
    "slideshow": {
     "slide_type": "subslide"
    }
   },
   "source": [
    "But now the goal is to find the player with the highest salary in each year. This is more tricky! Try it out!"
   ]
  },
  {
   "cell_type": "code",
   "execution_count": 55,
   "metadata": {
    "collapsed": false,
    "slideshow": {
     "slide_type": "fragment"
    }
   },
   "outputs": [
    {
     "data": {
      "text/html": [
       "<div>\n",
       "<table border=\"1\" class=\"dataframe\">\n",
       "  <thead>\n",
       "    <tr style=\"text-align: right;\">\n",
       "      <th></th>\n",
       "      <th>Year</th>\n",
       "      <th>Player</th>\n",
       "      <th>Salary</th>\n",
       "      <th>Position</th>\n",
       "      <th>Team</th>\n",
       "    </tr>\n",
       "  </thead>\n",
       "  <tbody>\n",
       "    <tr>\n",
       "      <th>321</th>\n",
       "      <td>1988</td>\n",
       "      <td>Gary Carter</td>\n",
       "      <td>2360714</td>\n",
       "      <td>Catcher</td>\n",
       "      <td>New York Mets</td>\n",
       "    </tr>\n",
       "    <tr>\n",
       "      <th>908</th>\n",
       "      <td>1989</td>\n",
       "      <td>Orel Hershiser</td>\n",
       "      <td>2766666</td>\n",
       "      <td>Pitcher</td>\n",
       "      <td>Los Angeles Dodgers</td>\n",
       "    </tr>\n",
       "    <tr>\n",
       "      <th>1580</th>\n",
       "      <td>1990</td>\n",
       "      <td>Robin Yount</td>\n",
       "      <td>3200000</td>\n",
       "      <td>Outfielder</td>\n",
       "      <td>Milwaukee Brewers</td>\n",
       "    </tr>\n",
       "    <tr>\n",
       "      <th>2590</th>\n",
       "      <td>1991</td>\n",
       "      <td>Darryl Strawberry</td>\n",
       "      <td>3800000</td>\n",
       "      <td>Outfielder</td>\n",
       "      <td>Los Angeles Dodgers</td>\n",
       "    </tr>\n",
       "    <tr>\n",
       "      <th>3441</th>\n",
       "      <td>1992</td>\n",
       "      <td>Bobby Bonilla</td>\n",
       "      <td>6100000</td>\n",
       "      <td>Outfielder</td>\n",
       "      <td>New York Mets</td>\n",
       "    </tr>\n",
       "    <tr>\n",
       "      <th>4214</th>\n",
       "      <td>1993</td>\n",
       "      <td>Bobby Bonilla</td>\n",
       "      <td>6200000</td>\n",
       "      <td>Outfielder</td>\n",
       "      <td>New York Mets</td>\n",
       "    </tr>\n",
       "    <tr>\n",
       "      <th>4977</th>\n",
       "      <td>1994</td>\n",
       "      <td>Bobby Bonilla</td>\n",
       "      <td>6300000</td>\n",
       "      <td>Third Baseman</td>\n",
       "      <td>New York Mets</td>\n",
       "    </tr>\n",
       "    <tr>\n",
       "      <th>6068</th>\n",
       "      <td>1995</td>\n",
       "      <td>Cecil Fielder</td>\n",
       "      <td>9237500</td>\n",
       "      <td>First Baseman</td>\n",
       "      <td>Detroit Tigers</td>\n",
       "    </tr>\n",
       "    <tr>\n",
       "      <th>6840</th>\n",
       "      <td>1996</td>\n",
       "      <td>Cecil Fielder</td>\n",
       "      <td>9237500</td>\n",
       "      <td>First Baseman</td>\n",
       "      <td>Detroit Tigers</td>\n",
       "    </tr>\n",
       "    <tr>\n",
       "      <th>7666</th>\n",
       "      <td>1997</td>\n",
       "      <td>Albert Belle</td>\n",
       "      <td>10000000</td>\n",
       "      <td>Outfielder</td>\n",
       "      <td>Chicago White Sox</td>\n",
       "    </tr>\n",
       "  </tbody>\n",
       "</table>\n",
       "</div>"
      ],
      "text/plain": [
       "      Year             Player    Salary       Position                 Team\n",
       "321   1988        Gary Carter   2360714        Catcher        New York Mets\n",
       "908   1989     Orel Hershiser   2766666        Pitcher  Los Angeles Dodgers\n",
       "1580  1990        Robin Yount   3200000     Outfielder    Milwaukee Brewers\n",
       "2590  1991  Darryl Strawberry   3800000     Outfielder  Los Angeles Dodgers\n",
       "3441  1992      Bobby Bonilla   6100000     Outfielder        New York Mets\n",
       "4214  1993      Bobby Bonilla   6200000     Outfielder        New York Mets\n",
       "4977  1994      Bobby Bonilla   6300000  Third Baseman        New York Mets\n",
       "6068  1995      Cecil Fielder   9237500  First Baseman       Detroit Tigers\n",
       "6840  1996      Cecil Fielder   9237500  First Baseman       Detroit Tigers\n",
       "7666  1997       Albert Belle  10000000     Outfielder    Chicago White Sox"
      ]
     },
     "execution_count": 55,
     "metadata": {},
     "output_type": "execute_result"
    }
   ],
   "source": [
    "k= (grp.sort_values(by= 'Salary', ascending= False)[:1] for yr,grp in grouped)\n",
    "topSalaries= pd.DataFrame()\n",
    "for line in k:\n",
    "    topSalaries= topSalaries.append(line)\n",
    "topSalaries.head(10)"
   ]
  },
  {
   "cell_type": "code",
   "execution_count": 56,
   "metadata": {
    "collapsed": false,
    "slideshow": {
     "slide_type": "subslide"
    }
   },
   "outputs": [
    {
     "data": {
      "text/plain": [
       "<matplotlib.axes._subplots.AxesSubplot at 0x7fda8f514110>"
      ]
     },
     "execution_count": 56,
     "metadata": {},
     "output_type": "execute_result"
    },
    {
     "data": {
      "image/png": "[encoded data removed]",
      "text/plain": [
       "<matplotlib.figure.Figure at 0x7fda8f49db90>"
      ]
     },
     "metadata": {},
     "output_type": "display_data"
    }
   ],
   "source": [
    "ts= topSalaries[['Year', 'Salary']]\n",
    "ts= ts.set_index('Year')\n",
    "ts.plot(kind= 'bar', color= 'red')"
   ]
  },
  {
   "cell_type": "code",
   "execution_count": 57,
   "metadata": {
    "collapsed": false,
    "slideshow": {
     "slide_type": "subslide"
    }
   },
   "outputs": [
    {
     "data": {
      "text/plain": [
       "<matplotlib.legend.Legend at 0x7fda8f50ac10>"
      ]
     },
     "execution_count": 57,
     "metadata": {},
     "output_type": "execute_result"
    },
    {
     "data": {
      "image/png": "[encoded data removed]",
      "text/plain": [
       "<matplotlib.figure.Figure at 0x7fda8f4487d0>"
      ]
     },
     "metadata": {},
     "output_type": "display_data"
    }
   ],
   "source": [
    "grouped= mlb.groupby('Position')\n",
    "grouped['Salary'].median().plot(kind= 'bar', color= 'green', label= 'Median Salaries by Position')\n",
    "plt.legend()"
   ]
  },
  {
   "cell_type": "code",
   "execution_count": 58,
   "metadata": {
    "collapsed": false,
    "slideshow": {
     "slide_type": "subslide"
    }
   },
   "outputs": [
    {
     "data": {
      "text/plain": [
       "<matplotlib.axes._subplots.AxesSubplot at 0x7fda8f1b7990>"
      ]
     },
     "execution_count": 58,
     "metadata": {},
     "output_type": "execute_result"
    },
    {
     "data": {
      "image/png": "[encoded data removed]",
      "text/plain": [
       "<matplotlib.figure.Figure at 0x7fda8f423110>"
      ]
     },
     "metadata": {},
     "output_type": "display_data"
    }
   ],
   "source": [
    "mlb.boxplot(column= 'Salary', by= 'Position')"
   ]
  },
  {
   "cell_type": "markdown",
   "metadata": {
    "slideshow": {
     "slide_type": "slide"
    }
   },
   "source": [
    "## Joining and Merging datasets in pandas\n",
    "\n",
    "   Until.... next time!      -- *Harrison*"
   ]
  },
  {
   "cell_type": "code",
   "execution_count": null,
   "metadata": {
    "collapsed": true
   },
   "outputs": [],
   "source": []
  }
 ],
 "metadata": {
  "celltoolbar": "Slideshow",
  "kernelspec": {
   "display_name": "Python 2",
   "language": "python",
   "name": "python2"
  },
  "language_info": {
   "codemirror_mode": {
    "name": "ipython",
    "version": 2
   },
   "file_extension": ".py",
   "mimetype": "text/x-python",
   "name": "python",
   "nbconvert_exporter": "python",
   "pygments_lexer": "ipython2",
   "version": "2.7.10"
  }
 },
 "nbformat": 4,
 "nbformat_minor": 0
}
