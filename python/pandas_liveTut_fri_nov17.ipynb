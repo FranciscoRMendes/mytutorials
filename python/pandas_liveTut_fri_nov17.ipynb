{
 "cells": [
  {
   "cell_type": "markdown",
   "metadata": {
    "slideshow": {
     "slide_type": "slide"
    }
   },
   "source": [
    "#Pandas for Data Manipulation\n",
    "### USI ARA AAM, Nov 19\n",
    "\n",
    "## Notebook Material Credits\n",
    "- Alfred Essa ( @alfessa )\n",
    "- Harrison Kinsley ( @sentdex )\n",
    "- Verena Kaynig-Fittkau (Harvard CS)"
   ]
  },
  {
   "cell_type": "markdown",
   "metadata": {
    "slideshow": {
     "slide_type": "slide"
    }
   },
   "source": [
    "##What is pandas?\n",
    "\n",
    "Pandas is one of the most popular tools for data wrangling in python. In essence, pandas is the equivalent of data frames in R. Additionally, it is tightly tied with numpy and matplotlib. This allows it to be readily amenable to modeling (in scikit-learn) and plotting."
   ]
  },
  {
   "cell_type": "markdown",
   "metadata": {},
   "source": [
    "## Importing modules\n",
    "\n",
    "To start off we shall import the most basic modules that work with pandas."
   ]
  },
  {
   "cell_type": "code",
   "execution_count": null,
   "metadata": {
    "collapsed": false,
    "slideshow": {
     "slide_type": "subslide"
    }
   },
   "outputs": [],
   "source": [
    "import pandas as pd\n",
    "import numpy as np\n",
    "import matplotlib.pyplot as plt\n",
    "\n",
    "# this allows you to plot and display within the notebook environment\n",
    "%matplotlib inline    "
   ]
  },
  {
   "cell_type": "markdown",
   "metadata": {},
   "source": [
    "# Pandas Series\n",
    "\n",
    "The most basic pandas data structure is a *Series* object. A Series **ducktypes** as an numpy array as well as a dictionary. "
   ]
  },
  {
   "cell_type": "code",
   "execution_count": null,
   "metadata": {
    "collapsed": false,
    "slideshow": {
     "slide_type": "slide"
    }
   },
   "outputs": [],
   "source": [
    "s1= pd.Series([33,19,15,89,11,-5,9])\n",
    "print type(s1)\n",
    "print s1\n",
    "print s1[0],s1[3]"
   ]
  },
  {
   "cell_type": "markdown",
   "metadata": {},
   "source": [
    "## Index in a Series\n",
    "\n",
    "A pandas Series has an **index** that you can optionally specify. If unspecified, it becomes a simple serial number like above. The index is like a reference to the row - it says what that entry is about. Here is an example of a Series that records the temperature on 7 days of a week. "
   ]
  },
  {
   "cell_type": "code",
   "execution_count": null,
   "metadata": {
    "collapsed": false
   },
   "outputs": [],
   "source": [
    "data1= [33,19,15,89,11,-5,9]\n",
    "index1= ['mon','tue','wed','thu','fri','sat','sun']\n",
    "s2= pd.Series(data1, index=index1)\n",
    "print s2, \"\\n\\n\"\n",
    "\n",
    "print s2['mon'], \"\\n\\n\"\n",
    "print s2['wed':'fri'], \"\\n\\n\"\n",
    "print s2[2:4]"
   ]
  },
  {
   "cell_type": "markdown",
   "metadata": {},
   "source": [
    "It is possible for you to give names to your index and data."
   ]
  },
  {
   "cell_type": "code",
   "execution_count": null,
   "metadata": {
    "collapsed": false
   },
   "outputs": [],
   "source": [
    "s2.name= 'Daily temperature'\n",
    "s2.index.name= 'Weekday'\n",
    "print s2"
   ]
  },
  {
   "cell_type": "markdown",
   "metadata": {},
   "source": [
    "## Series from a dictionary\n",
    "\n",
    "As you might have guessed by now, the reason Series behaves like a dictionary is because of this index. Thus, you can create a Series out of a dict, and the dict keys become the indices. There is a catch, though. Pandas will *rearrange* the indices in alphabetic / numeric sort order (which might not be what you wanted)."
   ]
  },
  {
   "cell_type": "code",
   "execution_count": null,
   "metadata": {
    "collapsed": false,
    "scrolled": true
   },
   "outputs": [],
   "source": [
    "dict1= {'mon':33, 'tue':19.7, 'wed':15, 'thu':89, 'fri': 34, 'sat': 43, 'sun': 51}\n",
    "s4= pd.Series(dict1)\n",
    "print s4"
   ]
  },
  {
   "cell_type": "markdown",
   "metadata": {},
   "source": [
    "To remedy this you need to specify the index in the way you want it, while the data can come from the dict. "
   ]
  },
  {
   "cell_type": "code",
   "execution_count": null,
   "metadata": {
    "collapsed": false
   },
   "outputs": [],
   "source": [
    "s4= pd.Series(dict1, index= index1)\n",
    "print s4"
   ]
  },
  {
   "cell_type": "markdown",
   "metadata": {},
   "source": [
    "Also, just like a dict, you can iterate over the entries."
   ]
  },
  {
   "cell_type": "code",
   "execution_count": null,
   "metadata": {
    "collapsed": false
   },
   "outputs": [],
   "source": [
    "for k,v in s4.iteritems():\n",
    "    print k, v"
   ]
  },
  {
   "cell_type": "markdown",
   "metadata": {},
   "source": [
    "Also, just like a dictionary, you can operate on the keys."
   ]
  },
  {
   "cell_type": "code",
   "execution_count": null,
   "metadata": {
    "collapsed": false
   },
   "outputs": [],
   "source": [
    "print s4['thu'], \"\\n\\n\"\n",
    "print s4[3], \"\\n\\n\"\n",
    "print 'sun' in s4, \"\\n\\n\"\n",
    "print 'moon' in s4"
   ]
  },
  {
   "cell_type": "markdown",
   "metadata": {},
   "source": [
    "## Vectorized operations\n",
    "\n",
    "Because Series is derived from  a numpy array, it allows numpy functions and vectorized operations. "
   ]
  },
  {
   "cell_type": "code",
   "execution_count": null,
   "metadata": {
    "collapsed": false
   },
   "outputs": [],
   "source": [
    "print s4.sum(), \"\\n\\n\"\n",
    "print s4.median(), \"\\n\\n\"\n",
    "print s4.cumsum()"
   ]
  },
  {
   "cell_type": "code",
   "execution_count": null,
   "metadata": {
    "collapsed": false
   },
   "outputs": [],
   "source": [
    "print s4 * 2 , \"\\n\\n\"\n",
    "print s4 **2, \"\\n\\n\"\n",
    "print s4 + 100"
   ]
  },
  {
   "cell_type": "markdown",
   "metadata": {},
   "source": [
    "You can also perform list comprehension"
   ]
  },
  {
   "cell_type": "code",
   "execution_count": null,
   "metadata": {
    "collapsed": false
   },
   "outputs": [],
   "source": [
    "new = [x**2 for x in s4]\n",
    "print new"
   ]
  },
  {
   "cell_type": "markdown",
   "metadata": {},
   "source": [
    "#Pandas DataFrame\n",
    "\n",
    "While pandas Series are interesting, theya re not too useful - you can make do with dicts and arrays ni place of Series. Pandas becomes really useful with its next datastructure - the *DataFrame*. DataFrame is a set of Series objects stacked horizontally together across a single index for each row. As you might imagine, this is essentially data like a spreadsheet, in rows and columns. This is the most common format data scientists use on a daily basis. \n",
    "\n",
    "You can create your own dataframes as demonstrated below. "
   ]
  },
  {
   "cell_type": "code",
   "execution_count": 75,
   "metadata": {
    "collapsed": false
   },
   "outputs": [
    {
     "name": "stdout",
     "output_type": "stream",
     "text": [
      "['2014-12-01', '2014-12-02', '2014-12-03', '2014-12-04', '2014-12-05', '2014-12-06', '2014-12-07']\n"
     ]
    }
   ],
   "source": [
    "import datetime as dtm\n",
    "\n",
    "dt= dtm.datetime(2014,12,1)\n",
    "en= dtm.datetime(2014,12,8)\n",
    "step= dtm.timedelta(days=1)\n",
    "dates= []\n",
    "while dt < en:\n",
    "    dates.append(dt.strftime('%Y-%m-%d'))\n",
    "    dt += step\n",
    "print dates"
   ]
  },
  {
   "cell_type": "code",
   "execution_count": 76,
   "metadata": {
    "collapsed": false
   },
   "outputs": [
    {
     "name": "stdout",
     "output_type": "stream",
     "text": [
      "{'Date': ['2014-12-01', '2014-12-02', '2014-12-03', '2014-12-04', '2014-12-05', '2014-12-06', '2014-12-07'], 'Paris': [-2, 0, 2, 5, 7, -5, -3], 'Mumbai': [20, 18, 23, 19, 25, 27, 23], 'Tokyo': [15, 19, 15, 11, 9, 8, 13]}\n"
     ]
    }
   ],
   "source": [
    "t1= [15,19,15,11,9,8,13]\n",
    "t2= [20,18,23,19,25,27,23]\n",
    "t3= [-2,0,2,5,7,-5,-3]\n",
    "d= {'Date': dates,'Tokyo': t1, 'Mumbai': t2, 'Paris': t3}\n",
    "print d"
   ]
  },
  {
   "cell_type": "code",
   "execution_count": 82,
   "metadata": {
    "collapsed": false
   },
   "outputs": [
    {
     "data": {
      "text/html": [
       "<div>\n",
       "<table border=\"1\" class=\"dataframe\">\n",
       "  <thead>\n",
       "    <tr style=\"text-align: right;\">\n",
       "      <th></th>\n",
       "      <th>Date</th>\n",
       "      <th>Mumbai</th>\n",
       "      <th>Paris</th>\n",
       "      <th>Tokyo</th>\n",
       "    </tr>\n",
       "  </thead>\n",
       "  <tbody>\n",
       "    <tr>\n",
       "      <th>0</th>\n",
       "      <td>2014-12-01</td>\n",
       "      <td>20</td>\n",
       "      <td>-2</td>\n",
       "      <td>15</td>\n",
       "    </tr>\n",
       "    <tr>\n",
       "      <th>1</th>\n",
       "      <td>2014-12-02</td>\n",
       "      <td>18</td>\n",
       "      <td>0</td>\n",
       "      <td>19</td>\n",
       "    </tr>\n",
       "    <tr>\n",
       "      <th>2</th>\n",
       "      <td>2014-12-03</td>\n",
       "      <td>23</td>\n",
       "      <td>2</td>\n",
       "      <td>15</td>\n",
       "    </tr>\n",
       "    <tr>\n",
       "      <th>3</th>\n",
       "      <td>2014-12-04</td>\n",
       "      <td>19</td>\n",
       "      <td>5</td>\n",
       "      <td>11</td>\n",
       "    </tr>\n",
       "    <tr>\n",
       "      <th>4</th>\n",
       "      <td>2014-12-05</td>\n",
       "      <td>25</td>\n",
       "      <td>7</td>\n",
       "      <td>9</td>\n",
       "    </tr>\n",
       "    <tr>\n",
       "      <th>5</th>\n",
       "      <td>2014-12-06</td>\n",
       "      <td>27</td>\n",
       "      <td>-5</td>\n",
       "      <td>8</td>\n",
       "    </tr>\n",
       "    <tr>\n",
       "      <th>6</th>\n",
       "      <td>2014-12-07</td>\n",
       "      <td>23</td>\n",
       "      <td>-3</td>\n",
       "      <td>13</td>\n",
       "    </tr>\n",
       "  </tbody>\n",
       "</table>\n",
       "</div>"
      ],
      "text/plain": [
       "         Date  Mumbai  Paris  Tokyo\n",
       "0  2014-12-01      20     -2     15\n",
       "1  2014-12-02      18      0     19\n",
       "2  2014-12-03      23      2     15\n",
       "3  2014-12-04      19      5     11\n",
       "4  2014-12-05      25      7      9\n",
       "5  2014-12-06      27     -5      8\n",
       "6  2014-12-07      23     -3     13"
      ]
     },
     "execution_count": 82,
     "metadata": {},
     "output_type": "execute_result"
    }
   ],
   "source": [
    "temps= pd.DataFrame(d)\n",
    "temps"
   ]
  },
  {
   "cell_type": "markdown",
   "metadata": {},
   "source": [
    "Each column in the dataset is a Series, and it can be referenced using the column name."
   ]
  },
  {
   "cell_type": "code",
   "execution_count": 97,
   "metadata": {
    "collapsed": false
   },
   "outputs": [
    {
     "name": "stdout",
     "output_type": "stream",
     "text": [
      "<class 'pandas.core.series.Series'>\n"
     ]
    }
   ],
   "source": [
    "print type(temps['Mumbai'])"
   ]
  },
  {
   "cell_type": "code",
   "execution_count": 84,
   "metadata": {
    "collapsed": false
   },
   "outputs": [
    {
     "name": "stdout",
     "output_type": "stream",
     "text": [
      "            Mumbai  Paris  Tokyo\n",
      "Date                            \n",
      "2014-12-01      20     -2     15\n",
      "2014-12-02      18      0     19\n",
      "2014-12-03      23      2     15\n",
      "2014-12-04      19      5     11\n",
      "2014-12-05      25      7      9\n"
     ]
    }
   ],
   "source": [
    "temps= temps.set_index('Date') \n",
    "#you cannot repeat this command!!\n",
    "temps.head()"
   ]
  },
  {
   "cell_type": "markdown",
   "metadata": {},
   "source": [
    "## Rows and Columns\n",
    "\n",
    "The most basic thing you want to do on the data frame is to be able to access its rows and columns for data. This can be done using column names and indices. "
   ]
  },
  {
   "cell_type": "code",
   "execution_count": 94,
   "metadata": {
    "collapsed": false
   },
   "outputs": [
    {
     "data": {
      "text/html": [
       "<div>\n",
       "<table border=\"1\" class=\"dataframe\">\n",
       "  <thead>\n",
       "    <tr style=\"text-align: right;\">\n",
       "      <th></th>\n",
       "      <th>Madrid</th>\n",
       "      <th>Boston</th>\n",
       "      <th>Tokyo</th>\n",
       "      <th>Shanghai</th>\n",
       "      <th>Kolkata</th>\n",
       "    </tr>\n",
       "  </thead>\n",
       "  <tbody>\n",
       "    <tr>\n",
       "      <th>2014-02-25</th>\n",
       "      <td>7</td>\n",
       "      <td>20</td>\n",
       "      <td>12</td>\n",
       "      <td>37</td>\n",
       "      <td>12</td>\n",
       "    </tr>\n",
       "    <tr>\n",
       "      <th>2014-02-26</th>\n",
       "      <td>-9</td>\n",
       "      <td>17</td>\n",
       "      <td>13</td>\n",
       "      <td>-14</td>\n",
       "      <td>-12</td>\n",
       "    </tr>\n",
       "    <tr>\n",
       "      <th>2014-02-27</th>\n",
       "      <td>28</td>\n",
       "      <td>39</td>\n",
       "      <td>11</td>\n",
       "      <td>27</td>\n",
       "      <td>10</td>\n",
       "    </tr>\n",
       "    <tr>\n",
       "      <th>2014-02-28</th>\n",
       "      <td>13</td>\n",
       "      <td>-1</td>\n",
       "      <td>-9</td>\n",
       "      <td>-7</td>\n",
       "      <td>1</td>\n",
       "    </tr>\n",
       "    <tr>\n",
       "      <th>2014-03-01</th>\n",
       "      <td>8</td>\n",
       "      <td>18</td>\n",
       "      <td>-10</td>\n",
       "      <td>-11</td>\n",
       "      <td>7</td>\n",
       "    </tr>\n",
       "  </tbody>\n",
       "</table>\n",
       "</div>"
      ],
      "text/plain": [
       "            Madrid  Boston  Tokyo  Shanghai  Kolkata\n",
       "2014-02-25       7      20     12        37       12\n",
       "2014-02-26      -9      17     13       -14      -12\n",
       "2014-02-27      28      39     11        27       10\n",
       "2014-02-28      13      -1     -9        -7        1\n",
       "2014-03-01       8      18    -10       -11        7"
      ]
     },
     "execution_count": 94,
     "metadata": {},
     "output_type": "execute_result"
    }
   ],
   "source": [
    "days= pd.date_range('2014-01-01', '2014-03-01', freq= 'D')\n",
    "dim= (60,5)\n",
    "df= pd.DataFrame(np.random.random_integers(-20,40,dim),\n",
    "                index= days,\n",
    "                columns= ['Madrid','Boston','Tokyo','Shanghai','Kolkata'])\n",
    "df.tail()"
   ]
  },
  {
   "cell_type": "code",
   "execution_count": 95,
   "metadata": {
    "collapsed": false
   },
   "outputs": [
    {
     "name": "stdout",
     "output_type": "stream",
     "text": [
      "(60, 5) \n",
      "\n",
      "\n",
      "['Madrid' 'Boston' 'Tokyo' 'Shanghai' 'Kolkata']\n"
     ]
    }
   ],
   "source": [
    "print df.shape, \"\\n\\n\"\n",
    "print df.columns.values"
   ]
  },
  {
   "cell_type": "code",
   "execution_count": 96,
   "metadata": {
    "collapsed": false
   },
   "outputs": [
    {
     "name": "stdout",
     "output_type": "stream",
     "text": [
      "DatetimeIndex(['2014-01-01', '2014-01-02', '2014-01-03', '2014-01-04',\n",
      "               '2014-01-05', '2014-01-06', '2014-01-07', '2014-01-08',\n",
      "               '2014-01-09', '2014-01-10', '2014-01-11', '2014-01-12',\n",
      "               '2014-01-13', '2014-01-14', '2014-01-15', '2014-01-16',\n",
      "               '2014-01-17', '2014-01-18', '2014-01-19', '2014-01-20',\n",
      "               '2014-01-21', '2014-01-22', '2014-01-23', '2014-01-24',\n",
      "               '2014-01-25', '2014-01-26', '2014-01-27', '2014-01-28',\n",
      "               '2014-01-29', '2014-01-30', '2014-01-31', '2014-02-01',\n",
      "               '2014-02-02', '2014-02-03', '2014-02-04', '2014-02-05',\n",
      "               '2014-02-06', '2014-02-07', '2014-02-08', '2014-02-09',\n",
      "               '2014-02-10', '2014-02-11', '2014-02-12', '2014-02-13',\n",
      "               '2014-02-14', '2014-02-15', '2014-02-16', '2014-02-17',\n",
      "               '2014-02-18', '2014-02-19', '2014-02-20', '2014-02-21',\n",
      "               '2014-02-22', '2014-02-23', '2014-02-24', '2014-02-25',\n",
      "               '2014-02-26', '2014-02-27', '2014-02-28', '2014-03-01'],\n",
      "              dtype='datetime64[ns]', freq='D', tz=None)\n"
     ]
    }
   ],
   "source": [
    "print df.index"
   ]
  },
  {
   "cell_type": "markdown",
   "metadata": {},
   "source": [
    "### Column Selection\n",
    "\n",
    "You can select columns by referring to the column name"
   ]
  },
  {
   "cell_type": "code",
   "execution_count": 101,
   "metadata": {
    "collapsed": false
   },
   "outputs": [
    {
     "name": "stdout",
     "output_type": "stream",
     "text": [
      "2014-01-01     1\n",
      "2014-01-02    -2\n",
      "2014-01-03    -5\n",
      "2014-01-04    11\n",
      "2014-01-05   -13\n",
      "Freq: D, Name: Madrid, dtype: int32\n"
     ]
    }
   ],
   "source": [
    "print df.Madrid.head()"
   ]
  },
  {
   "cell_type": "code",
   "execution_count": 102,
   "metadata": {
    "collapsed": false
   },
   "outputs": [
    {
     "name": "stdout",
     "output_type": "stream",
     "text": [
      "2014-02-25    12\n",
      "2014-02-26    13\n",
      "2014-02-27    11\n",
      "2014-02-28    -9\n",
      "2014-03-01   -10\n",
      "Freq: D, Name: Tokyo, dtype: int32\n"
     ]
    }
   ],
   "source": [
    "print df['Tokyo'].tail()"
   ]
  },
  {
   "cell_type": "code",
   "execution_count": 103,
   "metadata": {
    "collapsed": false
   },
   "outputs": [
    {
     "data": {
      "text/html": [
       "<div>\n",
       "<table border=\"1\" class=\"dataframe\">\n",
       "  <thead>\n",
       "    <tr style=\"text-align: right;\">\n",
       "      <th></th>\n",
       "      <th>Boston</th>\n",
       "      <th>Shanghai</th>\n",
       "    </tr>\n",
       "  </thead>\n",
       "  <tbody>\n",
       "    <tr>\n",
       "      <th>2014-01-01</th>\n",
       "      <td>19</td>\n",
       "      <td>6</td>\n",
       "    </tr>\n",
       "    <tr>\n",
       "      <th>2014-01-02</th>\n",
       "      <td>31</td>\n",
       "      <td>-7</td>\n",
       "    </tr>\n",
       "    <tr>\n",
       "      <th>2014-01-03</th>\n",
       "      <td>30</td>\n",
       "      <td>-2</td>\n",
       "    </tr>\n",
       "    <tr>\n",
       "      <th>2014-01-04</th>\n",
       "      <td>-18</td>\n",
       "      <td>38</td>\n",
       "    </tr>\n",
       "    <tr>\n",
       "      <th>2014-01-05</th>\n",
       "      <td>4</td>\n",
       "      <td>0</td>\n",
       "    </tr>\n",
       "  </tbody>\n",
       "</table>\n",
       "</div>"
      ],
      "text/plain": [
       "            Boston  Shanghai\n",
       "2014-01-01      19         6\n",
       "2014-01-02      31        -7\n",
       "2014-01-03      30        -2\n",
       "2014-01-04     -18        38\n",
       "2014-01-05       4         0"
      ]
     },
     "execution_count": 103,
     "metadata": {},
     "output_type": "execute_result"
    }
   ],
   "source": [
    "df[['Boston', 'Shanghai']].head()"
   ]
  },
  {
   "cell_type": "markdown",
   "metadata": {},
   "source": [
    "### Row selection \n",
    "\n",
    "You can select rows by using the *ix* function. Note that there are 2 other functions: *loc* and *iloc*. Read about the subtle differences [here](http://stackoverflow.com/questions/31593201/pandas-iloc-vs-ix-vs-loc-explanation). I personally prefer using **ix** since its a wrapper on the others. And then again, mostly nobody selects rows by index."
   ]
  },
  {
   "cell_type": "code",
   "execution_count": 104,
   "metadata": {
    "collapsed": false
   },
   "outputs": [
    {
     "data": {
      "text/plain": [
       "Madrid      21\n",
       "Boston      30\n",
       "Tokyo        0\n",
       "Shanghai   -14\n",
       "Kolkata      3\n",
       "Name: 2014-01-15 00:00:00, dtype: int32"
      ]
     },
     "execution_count": 104,
     "metadata": {},
     "output_type": "execute_result"
    }
   ],
   "source": [
    "df.ix['2014-01-15']"
   ]
  },
  {
   "cell_type": "code",
   "execution_count": 105,
   "metadata": {
    "collapsed": false,
    "scrolled": true
   },
   "outputs": [
    {
     "data": {
      "text/html": [
       "<div>\n",
       "<table border=\"1\" class=\"dataframe\">\n",
       "  <thead>\n",
       "    <tr style=\"text-align: right;\">\n",
       "      <th></th>\n",
       "      <th>Madrid</th>\n",
       "      <th>Boston</th>\n",
       "      <th>Tokyo</th>\n",
       "      <th>Shanghai</th>\n",
       "      <th>Kolkata</th>\n",
       "    </tr>\n",
       "  </thead>\n",
       "  <tbody>\n",
       "    <tr>\n",
       "      <th>2014-01-24</th>\n",
       "      <td>37</td>\n",
       "      <td>-1</td>\n",
       "      <td>13</td>\n",
       "      <td>-11</td>\n",
       "      <td>-11</td>\n",
       "    </tr>\n",
       "    <tr>\n",
       "      <th>2014-01-25</th>\n",
       "      <td>12</td>\n",
       "      <td>32</td>\n",
       "      <td>-18</td>\n",
       "      <td>-8</td>\n",
       "      <td>20</td>\n",
       "    </tr>\n",
       "    <tr>\n",
       "      <th>2014-01-26</th>\n",
       "      <td>32</td>\n",
       "      <td>-15</td>\n",
       "      <td>21</td>\n",
       "      <td>5</td>\n",
       "      <td>10</td>\n",
       "    </tr>\n",
       "    <tr>\n",
       "      <th>2014-01-27</th>\n",
       "      <td>24</td>\n",
       "      <td>35</td>\n",
       "      <td>-14</td>\n",
       "      <td>16</td>\n",
       "      <td>-17</td>\n",
       "    </tr>\n",
       "    <tr>\n",
       "      <th>2014-01-28</th>\n",
       "      <td>25</td>\n",
       "      <td>18</td>\n",
       "      <td>29</td>\n",
       "      <td>7</td>\n",
       "      <td>16</td>\n",
       "    </tr>\n",
       "    <tr>\n",
       "      <th>2014-01-29</th>\n",
       "      <td>40</td>\n",
       "      <td>-8</td>\n",
       "      <td>-3</td>\n",
       "      <td>19</td>\n",
       "      <td>23</td>\n",
       "    </tr>\n",
       "    <tr>\n",
       "      <th>2014-01-30</th>\n",
       "      <td>19</td>\n",
       "      <td>1</td>\n",
       "      <td>8</td>\n",
       "      <td>19</td>\n",
       "      <td>21</td>\n",
       "    </tr>\n",
       "    <tr>\n",
       "      <th>2014-01-31</th>\n",
       "      <td>15</td>\n",
       "      <td>-12</td>\n",
       "      <td>-10</td>\n",
       "      <td>2</td>\n",
       "      <td>-12</td>\n",
       "    </tr>\n",
       "  </tbody>\n",
       "</table>\n",
       "</div>"
      ],
      "text/plain": [
       "            Madrid  Boston  Tokyo  Shanghai  Kolkata\n",
       "2014-01-24      37      -1     13       -11      -11\n",
       "2014-01-25      12      32    -18        -8       20\n",
       "2014-01-26      32     -15     21         5       10\n",
       "2014-01-27      24      35    -14        16      -17\n",
       "2014-01-28      25      18     29         7       16\n",
       "2014-01-29      40      -8     -3        19       23\n",
       "2014-01-30      19       1      8        19       21\n",
       "2014-01-31      15     -12    -10         2      -12"
      ]
     },
     "execution_count": 105,
     "metadata": {},
     "output_type": "execute_result"
    }
   ],
   "source": [
    "df.ix['2014-01-24':'2014-01-31']"
   ]
  },
  {
   "cell_type": "code",
   "execution_count": 106,
   "metadata": {
    "collapsed": false
   },
   "outputs": [
    {
     "data": {
      "text/html": [
       "<div>\n",
       "<table border=\"1\" class=\"dataframe\">\n",
       "  <thead>\n",
       "    <tr style=\"text-align: right;\">\n",
       "      <th></th>\n",
       "      <th>Madrid</th>\n",
       "      <th>Kolkata</th>\n",
       "    </tr>\n",
       "  </thead>\n",
       "  <tbody>\n",
       "    <tr>\n",
       "      <th>2014-02-10</th>\n",
       "      <td>12</td>\n",
       "      <td>35</td>\n",
       "    </tr>\n",
       "    <tr>\n",
       "      <th>2014-02-11</th>\n",
       "      <td>25</td>\n",
       "      <td>9</td>\n",
       "    </tr>\n",
       "    <tr>\n",
       "      <th>2014-02-12</th>\n",
       "      <td>-2</td>\n",
       "      <td>1</td>\n",
       "    </tr>\n",
       "    <tr>\n",
       "      <th>2014-02-13</th>\n",
       "      <td>25</td>\n",
       "      <td>-6</td>\n",
       "    </tr>\n",
       "    <tr>\n",
       "      <th>2014-02-14</th>\n",
       "      <td>-2</td>\n",
       "      <td>9</td>\n",
       "    </tr>\n",
       "    <tr>\n",
       "      <th>2014-02-15</th>\n",
       "      <td>35</td>\n",
       "      <td>5</td>\n",
       "    </tr>\n",
       "  </tbody>\n",
       "</table>\n",
       "</div>"
      ],
      "text/plain": [
       "            Madrid  Kolkata\n",
       "2014-02-10      12       35\n",
       "2014-02-11      25        9\n",
       "2014-02-12      -2        1\n",
       "2014-02-13      25       -6\n",
       "2014-02-14      -2        9\n",
       "2014-02-15      35        5"
      ]
     },
     "execution_count": 106,
     "metadata": {},
     "output_type": "execute_result"
    }
   ],
   "source": [
    "df.ix['2014-02-10':'2014-02-15', ['Madrid', 'Kolkata']]"
   ]
  },
  {
   "cell_type": "code",
   "execution_count": null,
   "metadata": {
    "collapsed": true
   },
   "outputs": [],
   "source": []
  }
 ],
 "metadata": {
  "kernelspec": {
   "display_name": "Python 2",
   "language": "python",
   "name": "python2"
  },
  "language_info": {
   "codemirror_mode": {
    "name": "ipython",
    "version": 2
   },
   "file_extension": ".py",
   "mimetype": "text/x-python",
   "name": "python",
   "nbconvert_exporter": "python",
   "pygments_lexer": "ipython2",
   "version": "2.7.10"
  }
 },
 "nbformat": 4,
 "nbformat_minor": 0
}
