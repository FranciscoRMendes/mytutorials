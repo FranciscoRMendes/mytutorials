{
 "cells": [
  {
   "cell_type": "markdown",
   "metadata": {},
   "source": [
    "## Notebook Material Credits\n",
    "- Alfred Essa ( @alfessa )\n",
    "- Harrison Kinsley ( @sentdex )\n",
    "- Verena Kaynig-Fittkau (Harvard CS)"
   ]
  },
  {
   "cell_type": "code",
   "execution_count": 1,
   "metadata": {
    "collapsed": true
   },
   "outputs": [],
   "source": [
    "import pandas as pd\n",
    "import numpy as np"
   ]
  },
  {
   "cell_type": "code",
   "execution_count": 2,
   "metadata": {
    "collapsed": false
   },
   "outputs": [
    {
     "name": "stdout",
     "output_type": "stream",
     "text": [
      "0    33\n",
      "1    19\n",
      "2    15\n",
      "3    89\n",
      "4    11\n",
      "5    -5\n",
      "6     9\n",
      "dtype: int64\n"
     ]
    }
   ],
   "source": [
    "s1= pd.Series([33,19,15,89,11,-5,9])\n",
    "print s1"
   ]
  },
  {
   "cell_type": "code",
   "execution_count": 3,
   "metadata": {
    "collapsed": false
   },
   "outputs": [
    {
     "data": {
      "text/plain": [
       "(33, 89)"
      ]
     },
     "execution_count": 3,
     "metadata": {},
     "output_type": "execute_result"
    }
   ],
   "source": [
    "s1[0],s1[3]"
   ]
  },
  {
   "cell_type": "code",
   "execution_count": 4,
   "metadata": {
    "collapsed": false
   },
   "outputs": [
    {
     "data": {
      "text/plain": [
       "pandas.core.series.Series"
      ]
     },
     "execution_count": 4,
     "metadata": {},
     "output_type": "execute_result"
    }
   ],
   "source": [
    "type(s1)"
   ]
  },
  {
   "cell_type": "code",
   "execution_count": 5,
   "metadata": {
    "collapsed": false,
    "scrolled": true
   },
   "outputs": [
    {
     "name": "stdout",
     "output_type": "stream",
     "text": [
      "mon    33\n",
      "tue    19\n",
      "wed    15\n",
      "thu    89\n",
      "fri    11\n",
      "sat    -5\n",
      "sun     9\n",
      "dtype: int64\n"
     ]
    }
   ],
   "source": [
    "data1= [33,19,15,89,11,-5,9]\n",
    "index1= ['mon','tue','wed','thu','fri','sat','sun']\n",
    "s2= pd.Series(data1, index=index1)\n",
    "print s2"
   ]
  },
  {
   "cell_type": "code",
   "execution_count": 6,
   "metadata": {
    "collapsed": false
   },
   "outputs": [
    {
     "data": {
      "text/plain": [
       "33"
      ]
     },
     "execution_count": 6,
     "metadata": {},
     "output_type": "execute_result"
    }
   ],
   "source": [
    "s2['mon']"
   ]
  },
  {
   "cell_type": "code",
   "execution_count": 12,
   "metadata": {
    "collapsed": false
   },
   "outputs": [
    {
     "data": {
      "text/plain": [
       "Weekday\n",
       "wed    15\n",
       "thu    89\n",
       "fri    11\n",
       "Name: Daily temperature, dtype: int64"
      ]
     },
     "execution_count": 12,
     "metadata": {},
     "output_type": "execute_result"
    }
   ],
   "source": [
    "s2['wed':'fri']"
   ]
  },
  {
   "cell_type": "code",
   "execution_count": 15,
   "metadata": {
    "collapsed": false
   },
   "outputs": [
    {
     "data": {
      "text/plain": [
       "Weekday\n",
       "thu    89\n",
       "fri    11\n",
       "Name: Daily temperature, dtype: int64"
      ]
     },
     "execution_count": 15,
     "metadata": {},
     "output_type": "execute_result"
    }
   ],
   "source": [
    "s2[3:5]"
   ]
  },
  {
   "cell_type": "code",
   "execution_count": 8,
   "metadata": {
    "collapsed": false
   },
   "outputs": [
    {
     "name": "stdout",
     "output_type": "stream",
     "text": [
      "Weekday\n",
      "mon    33\n",
      "tue    19\n",
      "wed    15\n",
      "thu    89\n",
      "fri    11\n",
      "sat    -5\n",
      "sun     9\n",
      "Name: Daily temperature, dtype: int64\n"
     ]
    }
   ],
   "source": [
    "s2.name= 'Daily temperature'\n",
    "s2.index.name= 'Weekday'\n",
    "print s2"
   ]
  },
  {
   "cell_type": "code",
   "execution_count": 9,
   "metadata": {
    "collapsed": false
   },
   "outputs": [
    {
     "name": "stdout",
     "output_type": "stream",
     "text": [
      "mon    33.0\n",
      "thu    89.0\n",
      "tue    19.7\n",
      "wed    15.0\n",
      "dtype: float64\n"
     ]
    }
   ],
   "source": [
    "dict1= {'mon':33, 'tue':19.7, 'wed':15, 'thu':89}\n",
    "s4= pd.Series(dict1)\n",
    "print s4"
   ]
  },
  {
   "cell_type": "code",
   "execution_count": 10,
   "metadata": {
    "collapsed": false
   },
   "outputs": [
    {
     "name": "stdout",
     "output_type": "stream",
     "text": [
      "mon     66.0\n",
      "thu    178.0\n",
      "tue     39.4\n",
      "wed     30.0\n",
      "dtype: float64\n"
     ]
    }
   ],
   "source": [
    "print s4 * 2"
   ]
  },
  {
   "cell_type": "code",
   "execution_count": 16,
   "metadata": {
    "collapsed": false
   },
   "outputs": [
    {
     "name": "stdout",
     "output_type": "stream",
     "text": [
      "mon    33.0\n",
      "tue    19.6\n",
      "wed    15.0\n",
      "thu    89.0\n",
      "fri    11.0\n",
      "sat    -5.0\n",
      "sun     9.0\n",
      "dtype: float64\n"
     ]
    }
   ],
   "source": [
    "data2= [33,19.6,15,89,11,-5,9]\n",
    "s3= pd.Series(data2, index= index1)\n",
    "print s3"
   ]
  },
  {
   "cell_type": "code",
   "execution_count": 17,
   "metadata": {
    "collapsed": false
   },
   "outputs": [
    {
     "name": "stdout",
     "output_type": "stream",
     "text": [
      "mon    33.0\n",
      "tue    19.6\n",
      "wed    23.4\n",
      "thu    89.0\n",
      "fri    17.3\n",
      "sat    -5.0\n",
      "sun     9.0\n",
      "dtype: float64\n"
     ]
    }
   ],
   "source": [
    "s3['fri']= 17.3\n",
    "s3[2]= 23.4\n",
    "print s3"
   ]
  },
  {
   "cell_type": "code",
   "execution_count": 18,
   "metadata": {
    "collapsed": false
   },
   "outputs": [
    {
     "data": {
      "text/plain": [
       "19.6"
      ]
     },
     "execution_count": 18,
     "metadata": {},
     "output_type": "execute_result"
    }
   ],
   "source": [
    "s3.median()"
   ]
  },
  {
   "cell_type": "code",
   "execution_count": 19,
   "metadata": {
    "collapsed": false
   },
   "outputs": [
    {
     "data": {
      "text/plain": [
       "186.3"
      ]
     },
     "execution_count": 19,
     "metadata": {},
     "output_type": "execute_result"
    }
   ],
   "source": [
    "s3.sum()"
   ]
  },
  {
   "cell_type": "code",
   "execution_count": 20,
   "metadata": {
    "collapsed": false
   },
   "outputs": [
    {
     "data": {
      "text/plain": [
       "mon     33.0\n",
       "tue     52.6\n",
       "wed     76.0\n",
       "thu    165.0\n",
       "fri    182.3\n",
       "sat    177.3\n",
       "sun    186.3\n",
       "dtype: float64"
      ]
     },
     "execution_count": 20,
     "metadata": {},
     "output_type": "execute_result"
    }
   ],
   "source": [
    "s3.cumsum()"
   ]
  },
  {
   "cell_type": "code",
   "execution_count": 25,
   "metadata": {
    "collapsed": false
   },
   "outputs": [
    {
     "name": "stdout",
     "output_type": "stream",
     "text": [
      "mon 33.0\n",
      "tue 19.6\n",
      "wed 23.4\n",
      "thu 89.0\n",
      "fri 17.3\n",
      "sat -5.0\n",
      "sun 9.0\n"
     ]
    }
   ],
   "source": [
    "for k,v in s3.iteritems():\n",
    "    print k, v"
   ]
  },
  {
   "cell_type": "code",
   "execution_count": 22,
   "metadata": {
    "collapsed": false
   },
   "outputs": [
    {
     "name": "stdout",
     "output_type": "stream",
     "text": [
      "[1089.0, 384.16000000000008, 547.55999999999995, 7921.0, 299.29000000000002, 25.0, 81.0]\n"
     ]
    }
   ],
   "source": [
    "new = [x**2 for x in s3]\n",
    "print new"
   ]
  },
  {
   "cell_type": "code",
   "execution_count": 23,
   "metadata": {
    "collapsed": false
   },
   "outputs": [
    {
     "data": {
      "text/plain": [
       "True"
      ]
     },
     "execution_count": 23,
     "metadata": {},
     "output_type": "execute_result"
    }
   ],
   "source": [
    "'sun' in s3"
   ]
  },
  {
   "cell_type": "code",
   "execution_count": 24,
   "metadata": {
    "collapsed": false
   },
   "outputs": [
    {
     "data": {
      "text/plain": [
       "False"
      ]
     },
     "execution_count": 24,
     "metadata": {},
     "output_type": "execute_result"
    }
   ],
   "source": [
    "'moon' in s3"
   ]
  },
  {
   "cell_type": "code",
   "execution_count": null,
   "metadata": {
    "collapsed": true
   },
   "outputs": [],
   "source": []
  }
 ],
 "metadata": {
  "kernelspec": {
   "display_name": "Python 2",
   "language": "python",
   "name": "python2"
  },
  "language_info": {
   "codemirror_mode": {
    "name": "ipython",
    "version": 2
   },
   "file_extension": ".py",
   "mimetype": "text/x-python",
   "name": "python",
   "nbconvert_exporter": "python",
   "pygments_lexer": "ipython2",
   "version": "2.7.10"
  }
 },
 "nbformat": 4,
 "nbformat_minor": 0
}
